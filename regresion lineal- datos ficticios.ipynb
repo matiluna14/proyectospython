{
 "cells": [
  {
   "cell_type": "markdown",
   "metadata": {},
   "source": [
    "# regresión lineal con datos ficticios\n",
    "    * y= a + b*x\n",
    "    * x = 100 valores aleatorios distribuidos según una normal (1.5 , 2.5)\n",
    "    * y estimada = 5 + 1.9 * x + e\n",
    "    * e = estará distribuido según una normal (0 , 0.8)\n",
    " "
   ]
  },
  {
   "cell_type": "code",
   "execution_count": 1,
   "metadata": {},
   "outputs": [],
   "source": [
    "import pandas as pd\n",
    "import numpy as np"
   ]
  },
  {
   "cell_type": "code",
   "execution_count": 2,
   "metadata": {},
   "outputs": [],
   "source": [
    "x = 1.5 + 2.5 * np.random.rand(100)"
   ]
  },
  {
   "cell_type": "code",
   "execution_count": 3,
   "metadata": {},
   "outputs": [],
   "source": [
    "error = 0 + 0.2 * np.random.randn(100) ##error"
   ]
  },
  {
   "cell_type": "code",
   "execution_count": 4,
   "metadata": {},
   "outputs": [],
   "source": [
    "y_est = 5 + 1.9 * x    ##datos estimados"
   ]
  },
  {
   "cell_type": "code",
   "execution_count": 5,
   "metadata": {},
   "outputs": [],
   "source": [
    "y_obs = 5 + 1.9 * x + error  ##datos observados o datos reales o datos actuales"
   ]
  },
  {
   "cell_type": "code",
   "execution_count": 6,
   "metadata": {},
   "outputs": [],
   "source": [
    "x_list = x.tolist()  \n",
    "y_est_list = y_est.tolist()\n",
    "y_obs_list = y_obs.tolist()\n",
    "\n",
    "data = pd.DataFrame(\n",
    "    {\n",
    "        \"x\":x_list,\n",
    "        \"y_obs\":y_obs_list,\n",
    "        \"y_est\": y_est_list\n",
    "    }\n",
    ")\n"
   ]
  },
  {
   "cell_type": "code",
   "execution_count": 7,
   "metadata": {},
   "outputs": [
    {
     "data": {
      "text/html": [
       "<div>\n",
       "<style scoped>\n",
       "    .dataframe tbody tr th:only-of-type {\n",
       "        vertical-align: middle;\n",
       "    }\n",
       "\n",
       "    .dataframe tbody tr th {\n",
       "        vertical-align: top;\n",
       "    }\n",
       "\n",
       "    .dataframe thead th {\n",
       "        text-align: right;\n",
       "    }\n",
       "</style>\n",
       "<table border=\"1\" class=\"dataframe\">\n",
       "  <thead>\n",
       "    <tr style=\"text-align: right;\">\n",
       "      <th></th>\n",
       "      <th>x</th>\n",
       "      <th>y_obs</th>\n",
       "      <th>y_est</th>\n",
       "    </tr>\n",
       "  </thead>\n",
       "  <tbody>\n",
       "    <tr>\n",
       "      <th>0</th>\n",
       "      <td>3.366552</td>\n",
       "      <td>11.212153</td>\n",
       "      <td>11.396450</td>\n",
       "    </tr>\n",
       "    <tr>\n",
       "      <th>1</th>\n",
       "      <td>2.362173</td>\n",
       "      <td>9.152838</td>\n",
       "      <td>9.488128</td>\n",
       "    </tr>\n",
       "    <tr>\n",
       "      <th>2</th>\n",
       "      <td>2.837905</td>\n",
       "      <td>10.342302</td>\n",
       "      <td>10.392019</td>\n",
       "    </tr>\n",
       "    <tr>\n",
       "      <th>3</th>\n",
       "      <td>1.852989</td>\n",
       "      <td>8.556153</td>\n",
       "      <td>8.520679</td>\n",
       "    </tr>\n",
       "    <tr>\n",
       "      <th>4</th>\n",
       "      <td>2.890894</td>\n",
       "      <td>10.255854</td>\n",
       "      <td>10.492698</td>\n",
       "    </tr>\n",
       "  </tbody>\n",
       "</table>\n",
       "</div>"
      ],
      "text/plain": [
       "          x      y_obs      y_est\n",
       "0  3.366552  11.212153  11.396450\n",
       "1  2.362173   9.152838   9.488128\n",
       "2  2.837905  10.342302  10.392019\n",
       "3  1.852989   8.556153   8.520679\n",
       "4  2.890894  10.255854  10.492698"
      ]
     },
     "execution_count": 7,
     "metadata": {},
     "output_type": "execute_result"
    }
   ],
   "source": [
    "data.head()"
   ]
  },
  {
   "cell_type": "code",
   "execution_count": 8,
   "metadata": {},
   "outputs": [],
   "source": [
    "import matplotlib.pyplot as plt"
   ]
  },
  {
   "cell_type": "code",
   "execution_count": 9,
   "metadata": {},
   "outputs": [],
   "source": [
    "y_mean = [np.mean(data[\"y_obs\"]) for i in range(1,len(data)+1) ] ##promedio de los datos observados"
   ]
  },
  {
   "cell_type": "code",
   "execution_count": 10,
   "metadata": {},
   "outputs": [
    {
     "data": {
      "text/plain": [
       "Text(0.5, 1.0, 'valor observado vs valor estimado')"
      ]
     },
     "execution_count": 10,
     "metadata": {},
     "output_type": "execute_result"
    },
    {
     "data": {
      "image/png": "[encoded data removed]",
      "text/plain": [
       "<Figure size 432x288 with 1 Axes>"
      ]
     },
     "metadata": {
      "needs_background": "light"
     },
     "output_type": "display_data"
    }
   ],
   "source": [
    "%matplotlib inline\n",
    "plt.plot(data[\"x\"],data[\"y_est\"])\n",
    "plt.plot(data[\"x\"],data[\"y_obs\"],\"ro\")\n",
    "plt.plot(x, y_mean ,\"g\")\n",
    "\n",
    "plt.title(\"valor observado vs valor estimado\")"
   ]
  },
  {
   "cell_type": "code",
   "execution_count": 11,
   "metadata": {},
   "outputs": [],
   "source": [
    "data[\"SSR\"] = (np.mean(data[\"y_obs\"]) - data[\"y_est\"] )**2\n",
    "data[\"SSD\"] = (data[\"y_obs\"] - data[\"y_est\"] )**2\n",
    "data[\"SST\"] = (np.mean(data[\"y_obs\"]) - data[\"y_obs\"] )**2"
   ]
  },
  {
   "cell_type": "code",
   "execution_count": 12,
   "metadata": {},
   "outputs": [
    {
     "data": {
      "text/html": [
       "<div>\n",
       "<style scoped>\n",
       "    .dataframe tbody tr th:only-of-type {\n",
       "        vertical-align: middle;\n",
       "    }\n",
       "\n",
       "    .dataframe tbody tr th {\n",
       "        vertical-align: top;\n",
       "    }\n",
       "\n",
       "    .dataframe thead th {\n",
       "        text-align: right;\n",
       "    }\n",
       "</style>\n",
       "<table border=\"1\" class=\"dataframe\">\n",
       "  <thead>\n",
       "    <tr style=\"text-align: right;\">\n",
       "      <th></th>\n",
       "      <th>x</th>\n",
       "      <th>y_obs</th>\n",
       "      <th>y_est</th>\n",
       "      <th>SSR</th>\n",
       "      <th>SSD</th>\n",
       "      <th>SST</th>\n",
       "    </tr>\n",
       "  </thead>\n",
       "  <tbody>\n",
       "    <tr>\n",
       "      <th>0</th>\n",
       "      <td>3.366552</td>\n",
       "      <td>11.212153</td>\n",
       "      <td>11.396450</td>\n",
       "      <td>1.491430</td>\n",
       "      <td>0.033965</td>\n",
       "      <td>1.075255</td>\n",
       "    </tr>\n",
       "    <tr>\n",
       "      <th>1</th>\n",
       "      <td>2.362173</td>\n",
       "      <td>9.152838</td>\n",
       "      <td>9.488128</td>\n",
       "      <td>0.472079</td>\n",
       "      <td>0.112419</td>\n",
       "      <td>1.045241</td>\n",
       "    </tr>\n",
       "    <tr>\n",
       "      <th>2</th>\n",
       "      <td>2.837905</td>\n",
       "      <td>10.342302</td>\n",
       "      <td>10.392019</td>\n",
       "      <td>0.047007</td>\n",
       "      <td>0.002472</td>\n",
       "      <td>0.027920</td>\n",
       "    </tr>\n",
       "    <tr>\n",
       "      <th>3</th>\n",
       "      <td>1.852989</td>\n",
       "      <td>8.556153</td>\n",
       "      <td>8.520679</td>\n",
       "      <td>2.737466</td>\n",
       "      <td>0.001258</td>\n",
       "      <td>2.621340</td>\n",
       "    </tr>\n",
       "    <tr>\n",
       "      <th>4</th>\n",
       "      <td>2.890894</td>\n",
       "      <td>10.255854</td>\n",
       "      <td>10.492698</td>\n",
       "      <td>0.100800</td>\n",
       "      <td>0.056096</td>\n",
       "      <td>0.006504</td>\n",
       "    </tr>\n",
       "  </tbody>\n",
       "</table>\n",
       "</div>"
      ],
      "text/plain": [
       "          x      y_obs      y_est       SSR       SSD       SST\n",
       "0  3.366552  11.212153  11.396450  1.491430  0.033965  1.075255\n",
       "1  2.362173   9.152838   9.488128  0.472079  0.112419  1.045241\n",
       "2  2.837905  10.342302  10.392019  0.047007  0.002472  0.027920\n",
       "3  1.852989   8.556153   8.520679  2.737466  0.001258  2.621340\n",
       "4  2.890894  10.255854  10.492698  0.100800  0.056096  0.006504"
      ]
     },
     "execution_count": 12,
     "metadata": {},
     "output_type": "execute_result"
    }
   ],
   "source": [
    "data.head()"
   ]
  },
  {
   "cell_type": "code",
   "execution_count": 13,
   "metadata": {},
   "outputs": [],
   "source": [
    "SSR = sum(data[\"SSR\"]) ##suma de los cuadrados de la regresión\n",
    "SSD = sum(data[\"SSD\"]) ##suma de la diferencia de los cuadrados\n",
    "SST = sum(data[\"SST\"]) ##suma de los cuadrados totales"
   ]
  },
  {
   "cell_type": "code",
   "execution_count": 14,
   "metadata": {},
   "outputs": [
    {
     "data": {
      "text/plain": [
       "155.19082105861233"
      ]
     },
     "execution_count": 14,
     "metadata": {},
     "output_type": "execute_result"
    }
   ],
   "source": [
    "SSR "
   ]
  },
  {
   "cell_type": "code",
   "execution_count": 15,
   "metadata": {},
   "outputs": [
    {
     "data": {
      "text/plain": [
       "3.559947336087059"
      ]
     },
     "execution_count": 15,
     "metadata": {},
     "output_type": "execute_result"
    }
   ],
   "source": [
    "SSD"
   ]
  },
  {
   "cell_type": "code",
   "execution_count": 16,
   "metadata": {},
   "outputs": [
    {
     "data": {
      "text/plain": [
       "162.89758708762437"
      ]
     },
     "execution_count": 16,
     "metadata": {},
     "output_type": "execute_result"
    }
   ],
   "source": [
    "SST"
   ]
  },
  {
   "cell_type": "code",
   "execution_count": 17,
   "metadata": {},
   "outputs": [],
   "source": [
    "R2 = SSR/SST  ## R cuadrado"
   ]
  },
  {
   "cell_type": "code",
   "execution_count": 18,
   "metadata": {},
   "outputs": [
    {
     "data": {
      "text/plain": [
       "0.9526895016261567"
      ]
     },
     "execution_count": 18,
     "metadata": {},
     "output_type": "execute_result"
    }
   ],
   "source": [
    "R2"
   ]
  },
  {
   "cell_type": "markdown",
   "metadata": {},
   "source": [
    "### obteniendo la recta de regresión\n",
    "    *y = a + b * x\n",
    "    *a = mean(y) - b * mean(x)\n",
    "    *b = [sumatoria(x-mean(x)) * (y-mean(y))] / sumatoria (x - mean(x))**2"
   ]
  },
  {
   "cell_type": "code",
   "execution_count": 20,
   "metadata": {},
   "outputs": [
    {
     "data": {
      "text/plain": [
       "(2.7099370368766524, 10.175208486962957)"
      ]
     },
     "execution_count": 20,
     "metadata": {},
     "output_type": "execute_result"
    }
   ],
   "source": [
    "x_mean = np.mean(data[\"x\"])       ## promedios de x\n",
    "y_mean = np.mean(data[\"y_obs\"])   ## promedios de data[obs]\n",
    "x_mean,y_mean"
   ]
  },
  {
   "cell_type": "code",
   "execution_count": 24,
   "metadata": {},
   "outputs": [
    {
     "data": {
      "text/plain": [
       "1.9262451040091415"
      ]
     },
     "execution_count": 24,
     "metadata": {},
     "output_type": "execute_result"
    }
   ],
   "source": [
    "##obtención de la componente beta\n",
    "beta_numerador = (data[\"x\"]-x_mean) * (data[\"y_obs\"]-y_mean)\n",
    "beta_denominador = (data[\"x\"]-x_mean)**2\n",
    "beta = sum(beta_numerador)/sum(beta_denominador)\n",
    "beta"
   ]
  },
  {
   "cell_type": "code",
   "execution_count": 26,
   "metadata": {},
   "outputs": [
    {
     "data": {
      "text/plain": [
       "4.955205537506265"
      ]
     },
     "execution_count": 26,
     "metadata": {},
     "output_type": "execute_result"
    }
   ],
   "source": [
    "##obtención de la componente alfa\n",
    "alfa = y_mean - (beta * x_mean)\n",
    "alfa"
   ]
  },
  {
   "cell_type": "code",
   "execution_count": 28,
   "metadata": {},
   "outputs": [
    {
     "data": {
      "text/html": [
       "<div>\n",
       "<style scoped>\n",
       "    .dataframe tbody tr th:only-of-type {\n",
       "        vertical-align: middle;\n",
       "    }\n",
       "\n",
       "    .dataframe tbody tr th {\n",
       "        vertical-align: top;\n",
       "    }\n",
       "\n",
       "    .dataframe thead th {\n",
       "        text-align: right;\n",
       "    }\n",
       "</style>\n",
       "<table border=\"1\" class=\"dataframe\">\n",
       "  <thead>\n",
       "    <tr style=\"text-align: right;\">\n",
       "      <th></th>\n",
       "      <th>x</th>\n",
       "      <th>y_obs</th>\n",
       "      <th>y_est</th>\n",
       "      <th>SSR</th>\n",
       "      <th>SSD</th>\n",
       "      <th>SST</th>\n",
       "      <th>y_model</th>\n",
       "    </tr>\n",
       "  </thead>\n",
       "  <tbody>\n",
       "    <tr>\n",
       "      <th>0</th>\n",
       "      <td>3.366552</td>\n",
       "      <td>11.212153</td>\n",
       "      <td>11.396450</td>\n",
       "      <td>1.491430</td>\n",
       "      <td>0.033965</td>\n",
       "      <td>1.075255</td>\n",
       "      <td>11.440011</td>\n",
       "    </tr>\n",
       "    <tr>\n",
       "      <th>1</th>\n",
       "      <td>2.362173</td>\n",
       "      <td>9.152838</td>\n",
       "      <td>9.488128</td>\n",
       "      <td>0.472079</td>\n",
       "      <td>0.112419</td>\n",
       "      <td>1.045241</td>\n",
       "      <td>9.505329</td>\n",
       "    </tr>\n",
       "    <tr>\n",
       "      <th>2</th>\n",
       "      <td>2.837905</td>\n",
       "      <td>10.342302</td>\n",
       "      <td>10.392019</td>\n",
       "      <td>0.047007</td>\n",
       "      <td>0.002472</td>\n",
       "      <td>0.027920</td>\n",
       "      <td>10.421705</td>\n",
       "    </tr>\n",
       "    <tr>\n",
       "      <th>3</th>\n",
       "      <td>1.852989</td>\n",
       "      <td>8.556153</td>\n",
       "      <td>8.520679</td>\n",
       "      <td>2.737466</td>\n",
       "      <td>0.001258</td>\n",
       "      <td>2.621340</td>\n",
       "      <td>8.524517</td>\n",
       "    </tr>\n",
       "    <tr>\n",
       "      <th>4</th>\n",
       "      <td>2.890894</td>\n",
       "      <td>10.255854</td>\n",
       "      <td>10.492698</td>\n",
       "      <td>0.100800</td>\n",
       "      <td>0.056096</td>\n",
       "      <td>0.006504</td>\n",
       "      <td>10.523776</td>\n",
       "    </tr>\n",
       "  </tbody>\n",
       "</table>\n",
       "</div>"
      ],
      "text/plain": [
       "          x      y_obs      y_est       SSR       SSD       SST    y_model\n",
       "0  3.366552  11.212153  11.396450  1.491430  0.033965  1.075255  11.440011\n",
       "1  2.362173   9.152838   9.488128  0.472079  0.112419  1.045241   9.505329\n",
       "2  2.837905  10.342302  10.392019  0.047007  0.002472  0.027920  10.421705\n",
       "3  1.852989   8.556153   8.520679  2.737466  0.001258  2.621340   8.524517\n",
       "4  2.890894  10.255854  10.492698  0.100800  0.056096  0.006504  10.523776"
      ]
     },
     "execution_count": 28,
     "metadata": {},
     "output_type": "execute_result"
    }
   ],
   "source": [
    "##el modelo lineal obtenido por regresión es: y = 4.955205537506265 + (1.9262451040091415 * data[\"x\"])\n",
    "data[\"y_model\"] = alfa + (beta * data[\"x\"])\n",
    "data.head()"
   ]
  },
  {
   "cell_type": "code",
   "execution_count": 34,
   "metadata": {},
   "outputs": [],
   "source": [
    "\n",
    "\n",
    "SSR = sum((data[\"y_model\"]-y_mean)**2)\n",
    "SSD = sum((data[\"y_model\"]-data[\"y_obs\"])**2)\n",
    "SST = sum((data[\"y_obs\"]-y_mean)**2)"
   ]
  },
  {
   "cell_type": "code",
   "execution_count": 35,
   "metadata": {},
   "outputs": [
    {
     "data": {
      "text/plain": [
       "(159.43655465975831, 3.4610324278659372, 162.89758708762437)"
      ]
     },
     "execution_count": 35,
     "metadata": {},
     "output_type": "execute_result"
    }
   ],
   "source": [
    "SSR,SSD,SST"
   ]
  },
  {
   "cell_type": "code",
   "execution_count": 36,
   "metadata": {},
   "outputs": [
    {
     "data": {
      "text/plain": [
       "0.9787533229328662"
      ]
     },
     "execution_count": 36,
     "metadata": {},
     "output_type": "execute_result"
    }
   ],
   "source": [
    "R2 = SSR/SST\n",
    "R2"
   ]
  },
  {
   "cell_type": "code",
   "execution_count": null,
   "metadata": {},
   "outputs": [],
   "source": []
  }
 ],
 "metadata": {
  "kernelspec": {
   "display_name": "Python 3",
   "language": "python",
   "name": "python3"
  },
  "language_info": {
   "codemirror_mode": {
    "name": "ipython",
    "version": 3
   },
   "file_extension": ".py",
   "mimetype": "text/x-python",
   "name": "python",
   "nbconvert_exporter": "python",
   "pygments_lexer": "ipython3",
   "version": "3.7.1"
  }
 },
 "nbformat": 4,
 "nbformat_minor": 2
}
