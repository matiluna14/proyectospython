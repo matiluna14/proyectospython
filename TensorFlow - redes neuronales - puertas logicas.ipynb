{
 "cells": [
  {
   "cell_type": "markdown",
   "metadata": {},
   "source": [
    "# PUERTAS LOGICAS\n",
    "$$f(x) = a\\cdot x$$"
   ]
  },
  {
   "cell_type": "code",
   "execution_count": 165,
   "metadata": {},
   "outputs": [],
   "source": [
    "import tensorflow as tf\n",
    "session = tf.Session()"
   ]
  },
  {
   "cell_type": "code",
   "execution_count": 166,
   "metadata": {},
   "outputs": [],
   "source": [
    "x_val = 5\n",
    "y_target = 50"
   ]
  },
  {
   "cell_type": "markdown",
   "metadata": {},
   "source": [
    "## se definen los variables y placeholders"
   ]
  },
  {
   "cell_type": "code",
   "execution_count": 167,
   "metadata": {},
   "outputs": [],
   "source": [
    "a = tf.Variable(tf.constant(5.0))\n",
    "x_data = tf.placeholder(dtype=tf.float32)"
   ]
  },
  {
   "cell_type": "markdown",
   "metadata": {},
   "source": [
    "## operacion"
   ]
  },
  {
   "cell_type": "code",
   "execution_count": 168,
   "metadata": {},
   "outputs": [],
   "source": [
    "operacion = tf.multiply(a,x_data)"
   ]
  },
  {
   "cell_type": "markdown",
   "metadata": {},
   "source": [
    "## la funcion de perdida (L2) sera\n",
    "$$loss = (operacion - target)^2$$"
   ]
  },
  {
   "cell_type": "code",
   "execution_count": 169,
   "metadata": {},
   "outputs": [],
   "source": [
    "loss = tf.square(tf.subtract(operacion, y_target))"
   ]
  },
  {
   "cell_type": "markdown",
   "metadata": {},
   "source": [
    "## se inicializan variables"
   ]
  },
  {
   "cell_type": "code",
   "execution_count": 170,
   "metadata": {},
   "outputs": [],
   "source": [
    "init = tf.global_variables_initializer()\n",
    "session.run(init)"
   ]
  },
  {
   "cell_type": "markdown",
   "metadata": {},
   "source": [
    "## se define el optimizador"
   ]
  },
  {
   "cell_type": "code",
   "execution_count": 171,
   "metadata": {},
   "outputs": [],
   "source": [
    "optimizador = tf.train.GradientDescentOptimizer(0.01)\n",
    "train_step = optimizador.minimize(loss)"
   ]
  },
  {
   "cell_type": "markdown",
   "metadata": {},
   "source": [
    "## entrenamiento del modelo"
   ]
  },
  {
   "cell_type": "code",
   "execution_count": 172,
   "metadata": {},
   "outputs": [
    {
     "name": "stdout",
     "output_type": "stream",
     "text": [
      "Optimización del valor de a para conseguir a*x = 50\n",
      "7.5 * 5 = 37.5\n",
      "8.75 * 5 = 43.75\n",
      "9.375 * 5 = 46.875\n",
      "9.6875 * 5 = 48.4375\n",
      "9.84375 * 5 = 49.21875\n",
      "9.921875 * 5 = 49.609375\n",
      "9.9609375 * 5 = 49.804688\n",
      "9.980469 * 5 = 49.902344\n",
      "9.990234 * 5 = 49.95117\n",
      "9.995117 * 5 = 49.975586\n"
     ]
    }
   ],
   "source": [
    "print(\"Optimización del valor de a para conseguir a*x = 50\")\n",
    "for i in range(10):\n",
    "    session.run(train_step, feed_dict={x_data: x_val})\n",
    "    a_val = session.run(a)\n",
    "    modelo_out = session.run(operacion, feed_dict={x_data:x_val})\n",
    "    print(str(a_val)+\" * \"+str(x_val)+\" = \"+str(modelo_out))"
   ]
  },
  {
   "cell_type": "markdown",
   "metadata": {},
   "source": [
    "# otro ejemplo"
   ]
  },
  {
   "cell_type": "markdown",
   "metadata": {},
   "source": [
    "$$f(x) = a\\cdot x + b $$"
   ]
  },
  {
   "cell_type": "markdown",
   "metadata": {},
   "source": [
    "¿Qué tiene que valer $a$ y $b$ para que $f(5) = 50.0$?"
   ]
  },
  {
   "cell_type": "code",
   "execution_count": 173,
   "metadata": {},
   "outputs": [],
   "source": [
    "import tensorflow as tf\n",
    "session = tf.Session()"
   ]
  },
  {
   "cell_type": "code",
   "execution_count": 174,
   "metadata": {},
   "outputs": [],
   "source": [
    "x_val = 5\n",
    "y_target = 50"
   ]
  },
  {
   "cell_type": "markdown",
   "metadata": {},
   "source": [
    "## se definen los variables y placeholders"
   ]
  },
  {
   "cell_type": "code",
   "execution_count": 175,
   "metadata": {},
   "outputs": [],
   "source": [
    "a = tf.Variable(tf.constant(1.0))\n",
    "b = tf.Variable(tf.constant(1.0))\n",
    "x_data = tf.placeholder(dtype=tf.float32)"
   ]
  },
  {
   "cell_type": "markdown",
   "metadata": {},
   "source": [
    "## operacion"
   ]
  },
  {
   "cell_type": "code",
   "execution_count": 176,
   "metadata": {},
   "outputs": [],
   "source": [
    "operacion = tf.add(tf.multiply(a, x_data), b)"
   ]
  },
  {
   "cell_type": "markdown",
   "metadata": {},
   "source": [
    "## la funcion de perdida (L2) sera\n",
    "$$loss = (operacion - target)^2$$"
   ]
  },
  {
   "cell_type": "code",
   "execution_count": 177,
   "metadata": {},
   "outputs": [],
   "source": [
    "loss = tf.square(tf.subtract(operacion, y_target))"
   ]
  },
  {
   "cell_type": "markdown",
   "metadata": {},
   "source": [
    "## se inicializan variables"
   ]
  },
  {
   "cell_type": "code",
   "execution_count": 178,
   "metadata": {},
   "outputs": [],
   "source": [
    "init = tf.global_variables_initializer()\n",
    "session.run(init)"
   ]
  },
  {
   "cell_type": "markdown",
   "metadata": {},
   "source": [
    "## se define el optimizador"
   ]
  },
  {
   "cell_type": "code",
   "execution_count": 179,
   "metadata": {},
   "outputs": [],
   "source": [
    "optimizador = tf.train.GradientDescentOptimizer(0.01)\n",
    "train_step = optimizador.minimize(loss)"
   ]
  },
  {
   "cell_type": "markdown",
   "metadata": {},
   "source": [
    "## entrenamiento del modelo"
   ]
  },
  {
   "cell_type": "code",
   "execution_count": 181,
   "metadata": {},
   "outputs": [
    {
     "name": "stdout",
     "output_type": "stream",
     "text": [
      "Optimización del valor de a y b para conseguir a*x+b = 50\n",
      "9.458901 * 5 + 2.6917806 = 49.986286\n",
      "9.460273 * 5 + 2.6920547 = 49.99342\n",
      "9.460931 * 5 + 2.6921864 = 49.99684\n",
      "9.4612465 * 5 + 2.6922495 = 49.99848\n",
      "9.461398 * 5 + 2.6922798 = 49.99927\n",
      "9.461471 * 5 + 2.6922944 = 49.99965\n",
      "9.461506 * 5 + 2.6923013 = 49.999832\n",
      "9.461523 * 5 + 2.6923046 = 49.999924\n",
      "9.461531 * 5 + 2.692306 = 49.99996\n",
      "9.4615345 * 5 + 2.6923068 = 49.999977\n"
     ]
    }
   ],
   "source": [
    "print(\"Optimización del valor de a y b para conseguir a*x+b = 50\")\n",
    "for i in range(10):\n",
    "    session.run(train_step, feed_dict={x_data: x_val})\n",
    "    a_val = session.run(a)\n",
    "    b_val = session.run(b)\n",
    "    modelo_out = session.run(operacion, feed_dict={x_data:x_val})\n",
    "    print(str(a_val)+\" * \"+str(x_val)+\" + \"+str(b_val)+\" = \"+str(modelo_out))"
   ]
  },
  {
   "cell_type": "code",
   "execution_count": null,
   "metadata": {},
   "outputs": [],
   "source": []
  }
 ],
 "metadata": {
  "kernelspec": {
   "display_name": "Python 3",
   "language": "python",
   "name": "python3"
  },
  "language_info": {
   "codemirror_mode": {
    "name": "ipython",
    "version": 3
   },
   "file_extension": ".py",
   "mimetype": "text/x-python",
   "name": "python",
   "nbconvert_exporter": "python",
   "pygments_lexer": "ipython3",
   "version": "3.7.1"
  }
 },
 "nbformat": 4,
 "nbformat_minor": 2
}
