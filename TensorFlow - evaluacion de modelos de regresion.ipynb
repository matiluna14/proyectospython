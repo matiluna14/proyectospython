{
 "cells": [
  {
   "cell_type": "code",
   "execution_count": 49,
   "metadata": {},
   "outputs": [],
   "source": [
    "import matplotlib.pyplot as plt\n",
    "import numpy as np\n",
    "import tensorflow as tf\n",
    "session = tf.Session()"
   ]
  },
  {
   "cell_type": "markdown",
   "metadata": {},
   "source": [
    "# CASO DE REGRESION"
   ]
  },
  {
   "cell_type": "markdown",
   "metadata": {},
   "source": [
    "### se definen los datos"
   ]
  },
  {
   "cell_type": "code",
   "execution_count": 50,
   "metadata": {},
   "outputs": [],
   "source": [
    "x_vals = np.random.normal(loc=1., scale=0.1, size=200) ## 200 valores aleatorios, con media=1 y desviacion=0.1; \n",
    "y_vals = np.repeat(10.,200) ##200 valores para el target, con valor 10"
   ]
  },
  {
   "cell_type": "markdown",
   "metadata": {},
   "source": [
    "### se define el batch_size"
   ]
  },
  {
   "cell_type": "code",
   "execution_count": 51,
   "metadata": {},
   "outputs": [],
   "source": [
    "batch_size = 25"
   ]
  },
  {
   "cell_type": "markdown",
   "metadata": {},
   "source": [
    "### se definen los placeholders"
   ]
  },
  {
   "cell_type": "code",
   "execution_count": 52,
   "metadata": {},
   "outputs": [],
   "source": [
    "x_data = tf.placeholder(shape=[None,1], dtype=tf.float32)\n",
    "y_target = tf.placeholder(shape=[None,1], dtype=tf.float32)"
   ]
  },
  {
   "cell_type": "markdown",
   "metadata": {},
   "source": [
    "## se dividen los datos originales en entrenamiento y test"
   ]
  },
  {
   "cell_type": "code",
   "execution_count": 53,
   "metadata": {},
   "outputs": [],
   "source": [
    "train_index = np.random.choice(len(x_vals), size=round(len(x_vals)*0.8), replace=False) ## se escogen una cantidad de indices que corresponde al 80% de los datos del dataset para el entrenamiento"
   ]
  },
  {
   "cell_type": "code",
   "execution_count": 54,
   "metadata": {},
   "outputs": [
    {
     "data": {
      "text/plain": [
       "array([ 12,  50,  35,  30, 122, 134,  68,  91, 177,  47,  16,  67, 196,\n",
       "        32, 139,  38,  59, 116,  92,  39,  18,  24,  90, 109,  53,  21,\n",
       "        86, 147, 171, 142, 172,  51,  65, 185,  44, 149, 182,  88,  20,\n",
       "        27, 144,  71, 138,  49,  79,  99, 118,  62,  83,  37,  85, 180,\n",
       "        58,  77, 133,  23, 143, 160,  89, 189, 192,  74, 150, 115, 163,\n",
       "        34,   5,   3,   0, 178, 199, 179, 188, 175, 127, 170,  61,  54,\n",
       "       104,  40,  55, 101, 145, 130,  10, 155,  93, 193,   4, 105,  28,\n",
       "       136, 154, 135, 131, 166,   9, 169,  73,  97,  72,  60,  64, 128,\n",
       "       168, 121,  31,  98, 159, 186, 156, 165,  11, 137,  75, 132, 148,\n",
       "       183, 152,  70,  87,   6, 161,  56,  45, 174, 162, 107, 103,  96,\n",
       "        14, 141, 194,  57,  25, 176,  33, 181, 146, 140,  69, 129, 164,\n",
       "        95,  19, 191,   7,  29,  84, 112, 184,  76,  15,  48,  63, 110,\n",
       "        42,  22, 119, 113])"
      ]
     },
     "execution_count": 54,
     "metadata": {},
     "output_type": "execute_result"
    }
   ],
   "source": [
    "train_index"
   ]
  },
  {
   "cell_type": "code",
   "execution_count": 55,
   "metadata": {},
   "outputs": [],
   "source": [
    "test_index = np.array(list(set(range(len(x_vals)))-set(train_index))) ## se escogen una cantidad de indices que corresponde al 20% de los datos del dataset para test"
   ]
  },
  {
   "cell_type": "code",
   "execution_count": 56,
   "metadata": {},
   "outputs": [
    {
     "data": {
      "text/plain": [
       "array([  1,   2,   8,  13,  17, 151, 153,  26, 157, 158,  36, 167,  41,\n",
       "        43, 173,  46,  52, 187, 190,  66, 195, 197, 198,  78,  80,  81,\n",
       "        82,  94, 100, 102, 106, 108, 111, 114, 117, 120, 123, 124, 125,\n",
       "       126])"
      ]
     },
     "execution_count": 56,
     "metadata": {},
     "output_type": "execute_result"
    }
   ],
   "source": [
    "test_index"
   ]
  },
  {
   "cell_type": "code",
   "execution_count": 57,
   "metadata": {},
   "outputs": [],
   "source": [
    "x_vals_train = x_vals[train_index]\n",
    "y_vals_train = y_vals[train_index]\n",
    "\n",
    "x_vals_test = x_vals[test_index]\n",
    "y_vals_test = y_vals[test_index]\n"
   ]
  },
  {
   "cell_type": "markdown",
   "metadata": {},
   "source": [
    "### se definen las variables"
   ]
  },
  {
   "cell_type": "code",
   "execution_count": 58,
   "metadata": {},
   "outputs": [],
   "source": [
    "A = tf.Variable(tf.random_normal(shape=[1,1]))"
   ]
  },
  {
   "cell_type": "markdown",
   "metadata": {},
   "source": [
    "### se crea el modelo"
   ]
  },
  {
   "cell_type": "code",
   "execution_count": 59,
   "metadata": {},
   "outputs": [],
   "source": [
    "my_prediction = tf.matmul(x_data, A)"
   ]
  },
  {
   "cell_type": "markdown",
   "metadata": {},
   "source": [
    "### se define la funcion de perdidas"
   ]
  },
  {
   "cell_type": "code",
   "execution_count": 60,
   "metadata": {},
   "outputs": [],
   "source": [
    "loss = tf.reduce_mean(tf.square(my_prediction - y_target))"
   ]
  },
  {
   "cell_type": "markdown",
   "metadata": {},
   "source": [
    "### se define el optimizador"
   ]
  },
  {
   "cell_type": "code",
   "execution_count": 61,
   "metadata": {},
   "outputs": [],
   "source": [
    "optimizador = tf.train.GradientDescentOptimizer(learning_rate=0.02)\n",
    "train_step = optimizador.minimize(loss)"
   ]
  },
  {
   "cell_type": "markdown",
   "metadata": {},
   "source": [
    "### se inicializan las variables"
   ]
  },
  {
   "cell_type": "code",
   "execution_count": 62,
   "metadata": {},
   "outputs": [],
   "source": [
    "init = tf.global_variables_initializer()\n",
    "session.run(init)"
   ]
  },
  {
   "cell_type": "markdown",
   "metadata": {},
   "source": [
    "### se entrena el modelo( solo con los datos del conjunto de entrenamiento, que es el 80% del dataset)"
   ]
  },
  {
   "cell_type": "code",
   "execution_count": 63,
   "metadata": {},
   "outputs": [
    {
     "name": "stdout",
     "output_type": "stream",
     "text": [
      "paso: 20A= [[5.6616464]]loss= 18.162178\n",
      "paso: 40A= [[8.035149]]loss= 5.2053204\n",
      "paso: 60A= [[9.061556]]loss= 1.9294968\n",
      "paso: 80A= [[9.513646]]loss= 0.91712296\n",
      "paso: 100A= [[9.69632]]loss= 0.73018163\n",
      "paso: 120A= [[9.8256235]]loss= 0.9742984\n",
      "paso: 140A= [[9.842969]]loss= 1.1062841\n",
      "paso: 160A= [[9.83017]]loss= 1.0090351\n",
      "paso: 180A= [[9.823681]]loss= 0.7962661\n",
      "paso: 200A= [[9.861748]]loss= 0.78984237\n"
     ]
    }
   ],
   "source": [
    "for i in range(200):\n",
    "    rand_index = np.random.choice(len(x_vals_train), size=batch_size) ##se elige una cantidad de indces del tamaño del \"batch_size\", solo del conjunto de entrenamiento\n",
    "    rand_x = np.transpose([x_vals_train[rand_index]]) ##datos de entrenamiento de entrada\n",
    "    rand_y = np.transpose([y_vals_train[rand_index]]) ##targets de entrenamiento\n",
    "    session.run(train_step, feed_dict={x_data:rand_x, y_target:rand_y})\n",
    "    if(i+1)%20==0:\n",
    "        print(\"paso: \"+str(i+1)+ \"A= \"+str(session.run(A))+ \"loss= \"+str(session.run(loss, feed_dict={x_data:rand_x, y_target:rand_y})))"
   ]
  },
  {
   "cell_type": "markdown",
   "metadata": {},
   "source": [
    "### evaluacion del modelo con MSE(mean square error)"
   ]
  },
  {
   "cell_type": "code",
   "execution_count": 64,
   "metadata": {},
   "outputs": [
    {
     "name": "stdout",
     "output_type": "stream",
     "text": [
      "el error en el conjunto de entrenamiento es: 0.901769\n"
     ]
    }
   ],
   "source": [
    "## se evalua el error para el conjunto entrenamiento\n",
    "mse_train = session.run(loss, feed_dict={x_data:np.transpose([x_vals_train]), y_target:np.transpose([y_vals_train])})\n",
    "print(\"el error en el conjunto de entrenamiento es: \"+str(mse_train))"
   ]
  },
  {
   "cell_type": "code",
   "execution_count": 65,
   "metadata": {},
   "outputs": [
    {
     "name": "stdout",
     "output_type": "stream",
     "text": [
      "el error en el conjunto de test es: 1.1143526\n"
     ]
    }
   ],
   "source": [
    "## se evalua el error para el conjunto de test\n",
    "mse_test = session.run(loss, feed_dict={x_data:np.transpose([x_vals_test]), y_target:np.transpose([y_vals_test])})\n",
    "print(\"el error en el conjunto de test es: \"+str(mse_test))"
   ]
  },
  {
   "cell_type": "code",
   "execution_count": null,
   "metadata": {},
   "outputs": [],
   "source": []
  }
 ],
 "metadata": {
  "kernelspec": {
   "display_name": "Python 3",
   "language": "python",
   "name": "python3"
  },
  "language_info": {
   "codemirror_mode": {
    "name": "ipython",
    "version": 3
   },
   "file_extension": ".py",
   "mimetype": "text/x-python",
   "name": "python",
   "nbconvert_exporter": "python",
   "pygments_lexer": "ipython3",
   "version": "3.7.1"
  }
 },
 "nbformat": 4,
 "nbformat_minor": 2
}
