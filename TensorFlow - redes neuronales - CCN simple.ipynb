{
 "cells": [
  {
   "cell_type": "markdown",
   "metadata": {},
   "source": [
    "# Una red neuronal convolucional simple"
   ]
  },
  {
   "cell_type": "markdown",
   "metadata": {},
   "source": [
    "- 2 capas de convolucion + ReLU + Max Pooling\n",
    "- 2 capas totalmente conectadas"
   ]
  },
  {
   "cell_type": "code",
   "execution_count": 3,
   "metadata": {},
   "outputs": [],
   "source": [
    "import matplotlib.pyplot as plt\n",
    "import numpy as np\n",
    "\n",
    "import time\n",
    "from datetime import timedelta\n",
    "\n",
    "import tensorflow as tf\n",
    "from tensorflow.examples.tutorials.mnist import input_data\n",
    "\n",
    "from tensorflow.python.framework import ops\n",
    "ops.reset_default_graph()\n",
    "session = tf.Session()"
   ]
  },
  {
   "cell_type": "code",
   "execution_count": 4,
   "metadata": {},
   "outputs": [
    {
     "name": "stdout",
     "output_type": "stream",
     "text": [
      "Extracting MNIST_data\\train-images-idx3-ubyte.gz\n",
      "Extracting MNIST_data\\train-labels-idx1-ubyte.gz\n",
      "Extracting MNIST_data\\t10k-images-idx3-ubyte.gz\n",
      "Extracting MNIST_data\\t10k-labels-idx1-ubyte.gz\n"
     ]
    }
   ],
   "source": [
    "mnist = input_data.read_data_sets(\"MNIST_data\", one_hot= False)"
   ]
  },
  {
   "cell_type": "code",
   "execution_count": 5,
   "metadata": {},
   "outputs": [],
   "source": [
    "train_xdata = np.array([np.reshape(x, (28,28)) for x in mnist.train.images])\n",
    "test_xdata = np.array([np.reshape(x, (28,28)) for x in mnist.test.images])\n",
    "train_labels = mnist.train.labels\n",
    "test_labels = mnist.test.labels"
   ]
  },
  {
   "cell_type": "code",
   "execution_count": 6,
   "metadata": {},
   "outputs": [],
   "source": [
    "batch_size = 100\n",
    "\n",
    "evaluation_size = 500\n",
    "image_width = train_xdata[0].shape[0]  #toma el valor del ancho de la primera imagen del dataset de train\n",
    "image_height = train_xdata[0].shape[1] #toma el valor de la altura de la primera imagen del dataset de train\n",
    "target_size = max(train_labels)+1      # valores desde 0 a 9, en total 10 targets\n",
    "num_chanels = 1                        # numero de canales, en este caso es 1 porque las imagenes son en blanco y negro.\n",
    "\n",
    "\n",
    "conv1_features = 25                    # numero de rasgos de salida despues de la primera convolucion\n",
    "conv2_features = 50                    # numero de rasgos de salida despues de la segunda convolucion\n",
    "max_pool_size1 = 2                     # ventana de 2x2 para el maxpool\n",
    "max_pool_size2 = 2                     # ventana de 2x2 para el maxpool\n",
    "full_connected_size1 = 100             # 100 nodos"
   ]
  },
  {
   "cell_type": "code",
   "execution_count": 7,
   "metadata": {},
   "outputs": [],
   "source": [
    "x_input_shape = (batch_size, image_width, image_height, num_chanels) # (numero de elementos de la muestra, ancho de la imagen, alto de la imagen, numero de canales)\n",
    "x_input = tf.placeholder(shape = x_input_shape, dtype=tf.float32)\n",
    "y_target = tf.placeholder(shape = (batch_size), dtype=tf.int32) #int32 porque lo que se predice son numeros enteros (0,1,2,3,4,5,6,7,8,9)\n",
    "\n",
    "eval_input_shape = (evaluation_size, image_width, image_height, num_chanels) # (numero de elementos de la muestra, ancho de la imagen, alto de la imagen, numero de canales)\n",
    "eval_input = tf.placeholder(shape=eval_input_shape, dtype=tf.float32)\n",
    "eval_target = tf.placeholder(shape=evaluation_size, dtype=tf.float32)"
   ]
  },
  {
   "cell_type": "code",
   "execution_count": 8,
   "metadata": {},
   "outputs": [
    {
     "name": "stdout",
     "output_type": "stream",
     "text": [
      "WARNING:tensorflow:From C:\\Users\\ASUS\\Anaconda3\\lib\\site-packages\\tensorflow\\python\\framework\\op_def_library.py:263: colocate_with (from tensorflow.python.framework.ops) is deprecated and will be removed in a future version.\n",
      "Instructions for updating:\n",
      "Colocations handled automatically by placer.\n"
     ]
    }
   ],
   "source": [
    "conv1_weight = tf.Variable(tf.truncated_normal([4,4,num_chanels,conv1_features], stddev=0.1, dtype=tf.float32)) #matrices de 4x4, con el numero de canales establecido y con los features de salida establecidos\n",
    "conv1_bias = tf.Variable(tf.zeros([conv1_features], dtype=tf.float32)) #bias para los 25 datos de salida\n",
    "\n",
    "conv2_weight = tf.Variable(tf.truncated_normal([4,4,conv1_features,conv2_features], stddev=0.1, dtype=tf.float32)) #matrices de 4x4, con el numero de deatures de salida de la capa anteiror que son 25,y la salida son son los indicados en conv2_features que son 50\n",
    "conv2_bias = tf.Variable(tf.zeros([conv2_features], dtype=tf.float32)) #bias para los 50 datos de salida"
   ]
  },
  {
   "cell_type": "code",
   "execution_count": 9,
   "metadata": {},
   "outputs": [],
   "source": [
    "resulting_width = image_width // (max_pool_size1*max_pool_size2)\n",
    "resulting_heigth = image_height // (max_pool_size1*max_pool_size2)\n",
    "full1_input_size = resulting_width*resulting_heigth*conv2_features\n",
    "\n",
    "full1_weight = tf.Variable(tf.truncated_normal([full1_input_size, full_connected_size1], stddev=0.1,dtype=tf.float32)) # la entrada es: los nodos resultantes despues de las 2 convoluciones(estos son calculados en la linea anterior, y la salida= 100 nodos correspondientes a full_connected_size1\n",
    "full1_bias = tf.Variable(tf.truncated_normal([full_connected_size1], stddev=0.1,dtype=tf.float32)) # bias para 100 nodos correspondientes a full_connected_size1\n",
    "\n",
    "full2_weight = tf.Variable(tf.truncated_normal([full_connected_size1, target_size], stddev=0.1,dtype=tf.float32)) # la entrada es la salida de la capa anterior, y la salida= 10 nodos correspondientes a target_size\n",
    "full2_bias = tf.Variable(tf.truncated_normal([target_size], stddev=0.1,dtype=tf.float32)) # bias para 10 nodos correspondientes a target_size"
   ]
  },
  {
   "cell_type": "code",
   "execution_count": 10,
   "metadata": {},
   "outputs": [],
   "source": [
    "def my_conv_neural_net(input_data):\n",
    "    #primera capa: convolucion+relu+maxpool\n",
    "    conv1 = tf.nn.conv2d(input_data, conv1_weight, strides=[1,1,1,1], padding=\"SAME\")\n",
    "    relu1 = tf.nn.relu(tf.nn.bias_add(conv1, conv1_bias))\n",
    "    max_pool1 = tf.nn.max_pool(relu1, ksize=[1,max_pool_size1,max_pool_size2,num_chanels], \n",
    "                                      strides=[1,max_pool_size1,max_pool_size2,num_chanels],\n",
    "                                      padding=\"SAME\")\n",
    "    #segunda capa: convolucion+relu+maxpool\n",
    "    conv2 = tf.nn.conv2d(max_pool1, conv2_weight, strides=[1,1,1,1], padding=\"SAME\")\n",
    "    relu2 = tf.nn.relu(tf.nn.bias_add(conv2, conv2_bias))\n",
    "    max_pool2 = tf.nn.max_pool(relu2, ksize=[1,max_pool_size1,max_pool_size2,num_chanels], \n",
    "                                      strides=[1,max_pool_size1,max_pool_size2,num_chanels],\n",
    "                                      padding=\"SAME\")\n",
    "    #operacion de flatening para aplanar la imagen en un vector\n",
    "    final_conv_shape = max_pool2.get_shape().as_list()\n",
    "    final_shape = final_conv_shape[1]*final_conv_shape[2]*final_conv_shape[3] #final_conv_shape[1] corresponde a la anchura de la imagen, final_conv_shape[2] corresponde a la altura de la imagen, y final_conv_shape[3] corresponde al numero de canales\n",
    "    flat_output = tf.reshape(max_pool2, [final_conv_shape[0], final_shape])   #final_conv_shape[0] corresponde al tamaño de la muestra\n",
    "    #tercera capa: capa totalmente conectada 1\n",
    "    fully_connected_1 = tf.nn.relu(tf.add(tf.matmul(flat_output,full1_weight), full1_bias))\n",
    "    #cuerta capa: capa totalmente conectada 2\n",
    "    fully_connected_2 = tf.nn.relu(tf.add(tf.matmul(fully_connected_1,full2_weight), full2_bias))\n",
    "    \n",
    "    return fully_connected_2"
   ]
  },
  {
   "cell_type": "code",
   "execution_count": 11,
   "metadata": {},
   "outputs": [],
   "source": [
    "model_output = my_conv_neural_net(x_input)  # recordar que \"model_output\" contendra probabilidades\n",
    "test_model_output = my_conv_neural_net(eval_input) # lo mismo aqui"
   ]
  },
  {
   "cell_type": "code",
   "execution_count": 12,
   "metadata": {},
   "outputs": [],
   "source": [
    "loss = tf.reduce_mean(tf.nn.sparse_softmax_cross_entropy_with_logits(logits=model_output, labels=y_target))"
   ]
  },
  {
   "cell_type": "code",
   "execution_count": 13,
   "metadata": {},
   "outputs": [],
   "source": [
    "prediction = tf.nn.softmax(model_output) # \"prediction\" la funcion softmax convierte las probabiliades devueltas por el \"model_output\" en los numeros de 0 a 9 en este caso\n",
    "test_prediction = tf.nn.softmax(test_model_output) #lo mismo aqui"
   ]
  },
  {
   "cell_type": "code",
   "execution_count": 14,
   "metadata": {},
   "outputs": [],
   "source": [
    "def get_accuracy(logits, targets):                                \n",
    "    batch_predictions = np.argmax(logits, axis=1)                 # los logits ya vendran a que numero se ajusta entre 0 y 9, se guardan las predicciones en batch_predictions\n",
    "    num_corrects = np.sum(np.equal(batch_predictions, targets))   # se compara las predicciones con los valores reales, si son iguales, devuelve 1, si son diferentes devuelve 0\n",
    "    return 100.0*num_corrects/batch_predictions.shape[0]          # porcentaje de aciertos = 100 * numero de predicciones correctas / cantidad de imagenes"
   ]
  },
  {
   "cell_type": "code",
   "execution_count": 15,
   "metadata": {},
   "outputs": [],
   "source": [
    "optimizador = tf.train.MomentumOptimizer(learning_rate=0.005, momentum=0.9)\n",
    "train_step = optimizador.minimize(loss)"
   ]
  },
  {
   "cell_type": "code",
   "execution_count": 16,
   "metadata": {},
   "outputs": [],
   "source": [
    "init = tf.global_variables_initializer()\n",
    "session.run(init)"
   ]
  },
  {
   "cell_type": "code",
   "execution_count": 18,
   "metadata": {},
   "outputs": [
    {
     "name": "stdout",
     "output_type": "stream",
     "text": [
      "iteracion 5. Train Loss: 2.188. Train Acc: 22.000. Test Acc: 22.800\n",
      "iteracion 10. Train Loss: 2.137. Train Acc: 26.000. Test Acc: 31.800\n",
      "iteracion 15. Train Loss: 1.990. Train Acc: 47.000. Test Acc: 46.600\n",
      "iteracion 20. Train Loss: 1.882. Train Acc: 50.000. Test Acc: 45.200\n",
      "iteracion 25. Train Loss: 1.753. Train Acc: 47.000. Test Acc: 54.600\n",
      "iteracion 30. Train Loss: 1.572. Train Acc: 62.000. Test Acc: 58.800\n",
      "iteracion 35. Train Loss: 1.414. Train Acc: 63.000. Test Acc: 64.200\n",
      "iteracion 40. Train Loss: 1.168. Train Acc: 75.000. Test Acc: 60.200\n",
      "iteracion 45. Train Loss: 1.192. Train Acc: 67.000. Test Acc: 63.800\n",
      "iteracion 50. Train Loss: 1.159. Train Acc: 63.000. Test Acc: 63.800\n",
      "iteracion 55. Train Loss: 1.038. Train Acc: 71.000. Test Acc: 71.800\n",
      "iteracion 60. Train Loss: 0.897. Train Acc: 70.000. Test Acc: 73.000\n",
      "iteracion 65. Train Loss: 0.717. Train Acc: 76.000. Test Acc: 75.400\n",
      "iteracion 70. Train Loss: 0.739. Train Acc: 76.000. Test Acc: 72.600\n",
      "iteracion 75. Train Loss: 0.765. Train Acc: 74.000. Test Acc: 73.600\n",
      "iteracion 80. Train Loss: 0.701. Train Acc: 72.000. Test Acc: 77.200\n",
      "iteracion 85. Train Loss: 0.542. Train Acc: 82.000. Test Acc: 83.600\n",
      "iteracion 90. Train Loss: 0.561. Train Acc: 82.000. Test Acc: 83.400\n",
      "iteracion 95. Train Loss: 0.750. Train Acc: 73.000. Test Acc: 78.800\n",
      "iteracion 100. Train Loss: 0.583. Train Acc: 83.000. Test Acc: 79.600\n",
      "iteracion 105. Train Loss: 0.516. Train Acc: 81.000. Test Acc: 80.800\n",
      "iteracion 110. Train Loss: 0.579. Train Acc: 80.000. Test Acc: 79.600\n",
      "iteracion 115. Train Loss: 0.533. Train Acc: 82.000. Test Acc: 82.400\n",
      "iteracion 120. Train Loss: 0.596. Train Acc: 77.000. Test Acc: 79.800\n",
      "iteracion 125. Train Loss: 0.671. Train Acc: 77.000. Test Acc: 80.000\n",
      "iteracion 130. Train Loss: 0.330. Train Acc: 89.000. Test Acc: 78.000\n",
      "iteracion 135. Train Loss: 0.573. Train Acc: 81.000. Test Acc: 80.000\n",
      "iteracion 140. Train Loss: 0.577. Train Acc: 80.000. Test Acc: 83.200\n",
      "iteracion 145. Train Loss: 0.515. Train Acc: 83.000. Test Acc: 78.200\n",
      "iteracion 150. Train Loss: 0.438. Train Acc: 86.000. Test Acc: 80.400\n",
      "iteracion 155. Train Loss: 0.584. Train Acc: 80.000. Test Acc: 82.000\n",
      "iteracion 160. Train Loss: 0.499. Train Acc: 83.000. Test Acc: 82.800\n",
      "iteracion 165. Train Loss: 0.484. Train Acc: 85.000. Test Acc: 81.000\n",
      "iteracion 170. Train Loss: 0.478. Train Acc: 81.000. Test Acc: 82.200\n",
      "iteracion 175. Train Loss: 0.451. Train Acc: 83.000. Test Acc: 85.200\n",
      "iteracion 180. Train Loss: 0.606. Train Acc: 76.000. Test Acc: 83.000\n",
      "iteracion 185. Train Loss: 0.619. Train Acc: 76.000. Test Acc: 80.000\n",
      "iteracion 190. Train Loss: 0.482. Train Acc: 84.000. Test Acc: 85.800\n",
      "iteracion 195. Train Loss: 0.573. Train Acc: 80.000. Test Acc: 80.600\n",
      "iteracion 200. Train Loss: 0.439. Train Acc: 84.000. Test Acc: 81.200\n",
      "iteracion 205. Train Loss: 0.492. Train Acc: 82.000. Test Acc: 84.200\n",
      "iteracion 210. Train Loss: 0.513. Train Acc: 83.000. Test Acc: 82.000\n",
      "iteracion 215. Train Loss: 0.381. Train Acc: 85.000. Test Acc: 80.400\n",
      "iteracion 220. Train Loss: 0.306. Train Acc: 92.000. Test Acc: 86.600\n",
      "iteracion 225. Train Loss: 0.529. Train Acc: 78.000. Test Acc: 82.000\n",
      "iteracion 230. Train Loss: 0.414. Train Acc: 84.000. Test Acc: 83.600\n",
      "iteracion 235. Train Loss: 0.580. Train Acc: 81.000. Test Acc: 84.800\n",
      "iteracion 240. Train Loss: 0.575. Train Acc: 79.000. Test Acc: 84.200\n",
      "iteracion 245. Train Loss: 0.486. Train Acc: 82.000. Test Acc: 84.000\n",
      "iteracion 250. Train Loss: 0.343. Train Acc: 88.000. Test Acc: 86.000\n",
      "iteracion 255. Train Loss: 0.393. Train Acc: 86.000. Test Acc: 84.800\n",
      "iteracion 260. Train Loss: 0.455. Train Acc: 84.000. Test Acc: 84.400\n",
      "iteracion 265. Train Loss: 0.394. Train Acc: 85.000. Test Acc: 85.000\n",
      "iteracion 270. Train Loss: 0.604. Train Acc: 80.000. Test Acc: 84.800\n",
      "iteracion 275. Train Loss: 0.275. Train Acc: 92.000. Test Acc: 84.200\n",
      "iteracion 280. Train Loss: 0.248. Train Acc: 91.000. Test Acc: 85.600\n",
      "iteracion 285. Train Loss: 0.377. Train Acc: 87.000. Test Acc: 85.200\n",
      "iteracion 290. Train Loss: 0.381. Train Acc: 88.000. Test Acc: 81.600\n",
      "iteracion 295. Train Loss: 0.445. Train Acc: 81.000. Test Acc: 86.400\n",
      "iteracion 300. Train Loss: 0.467. Train Acc: 83.000. Test Acc: 82.200\n",
      "iteracion 305. Train Loss: 0.336. Train Acc: 87.000. Test Acc: 82.800\n",
      "iteracion 310. Train Loss: 0.376. Train Acc: 89.000. Test Acc: 87.800\n",
      "iteracion 315. Train Loss: 0.318. Train Acc: 89.000. Test Acc: 84.600\n",
      "iteracion 320. Train Loss: 0.498. Train Acc: 83.000. Test Acc: 81.400\n",
      "iteracion 325. Train Loss: 0.498. Train Acc: 79.000. Test Acc: 88.600\n",
      "iteracion 330. Train Loss: 0.381. Train Acc: 89.000. Test Acc: 86.000\n",
      "iteracion 335. Train Loss: 0.570. Train Acc: 82.000. Test Acc: 82.200\n",
      "iteracion 340. Train Loss: 0.378. Train Acc: 88.000. Test Acc: 85.800\n",
      "iteracion 345. Train Loss: 0.440. Train Acc: 82.000. Test Acc: 86.200\n",
      "iteracion 350. Train Loss: 0.388. Train Acc: 86.000. Test Acc: 84.200\n",
      "iteracion 355. Train Loss: 0.495. Train Acc: 80.000. Test Acc: 83.200\n",
      "iteracion 360. Train Loss: 0.215. Train Acc: 91.000. Test Acc: 84.000\n",
      "iteracion 365. Train Loss: 0.324. Train Acc: 89.000. Test Acc: 85.600\n",
      "iteracion 370. Train Loss: 0.424. Train Acc: 85.000. Test Acc: 85.000\n",
      "iteracion 375. Train Loss: 0.539. Train Acc: 81.000. Test Acc: 86.400\n",
      "iteracion 380. Train Loss: 0.392. Train Acc: 88.000. Test Acc: 84.400\n",
      "iteracion 385. Train Loss: 0.414. Train Acc: 84.000. Test Acc: 82.200\n",
      "iteracion 390. Train Loss: 0.381. Train Acc: 85.000. Test Acc: 86.200\n",
      "iteracion 395. Train Loss: 0.521. Train Acc: 81.000. Test Acc: 82.400\n",
      "iteracion 400. Train Loss: 0.502. Train Acc: 80.000. Test Acc: 87.000\n",
      "iteracion 405. Train Loss: 0.347. Train Acc: 89.000. Test Acc: 82.600\n",
      "iteracion 410. Train Loss: 0.365. Train Acc: 86.000. Test Acc: 87.600\n",
      "iteracion 415. Train Loss: 0.372. Train Acc: 86.000. Test Acc: 81.400\n",
      "iteracion 420. Train Loss: 0.429. Train Acc: 82.000. Test Acc: 85.200\n",
      "iteracion 425. Train Loss: 0.370. Train Acc: 87.000. Test Acc: 83.600\n",
      "iteracion 430. Train Loss: 0.216. Train Acc: 92.000. Test Acc: 85.800\n",
      "iteracion 435. Train Loss: 0.583. Train Acc: 76.000. Test Acc: 82.200\n",
      "iteracion 440. Train Loss: 0.443. Train Acc: 84.000. Test Acc: 85.200\n",
      "iteracion 445. Train Loss: 0.431. Train Acc: 85.000. Test Acc: 86.400\n",
      "iteracion 450. Train Loss: 0.347. Train Acc: 89.000. Test Acc: 86.200\n",
      "iteracion 455. Train Loss: 0.436. Train Acc: 82.000. Test Acc: 85.200\n",
      "iteracion 460. Train Loss: 0.421. Train Acc: 83.000. Test Acc: 85.200\n",
      "iteracion 465. Train Loss: 0.149. Train Acc: 96.000. Test Acc: 86.200\n",
      "iteracion 470. Train Loss: 0.394. Train Acc: 83.000. Test Acc: 86.000\n",
      "iteracion 475. Train Loss: 0.483. Train Acc: 85.000. Test Acc: 85.800\n",
      "iteracion 480. Train Loss: 0.369. Train Acc: 84.000. Test Acc: 86.600\n",
      "iteracion 485. Train Loss: 0.347. Train Acc: 85.000. Test Acc: 83.200\n",
      "iteracion 490. Train Loss: 0.551. Train Acc: 80.000. Test Acc: 84.600\n",
      "iteracion 495. Train Loss: 0.389. Train Acc: 82.000. Test Acc: 87.600\n",
      "iteracion 500. Train Loss: 0.394. Train Acc: 86.000. Test Acc: 85.200\n",
      "Time usage: 0:06:14\n"
     ]
    }
   ],
   "source": [
    "#start time\n",
    "start_time = time.time()\n",
    "\n",
    "\n",
    "train_loss = []\n",
    "train_acc = []\n",
    "test_acc = []\n",
    "i_vals = []\n",
    "\n",
    "for i in range(500):\n",
    "    rand_idx = np.random.choice(len(train_xdata), size=batch_size)\n",
    "    rand_x = train_xdata[rand_idx]\n",
    "    rand_x = np.expand_dims(rand_x, 3) # se agrega la dimension en la posicion 4, correspondiente a los canales de color\n",
    "    rand_y = train_labels[rand_idx]\n",
    "    \n",
    "    train_dict = {x_input:rand_x, y_target:rand_y}\n",
    "    session.run(train_step, feed_dict=train_dict)\n",
    "    temp_train_loss, temp_train_preds = session.run([loss, prediction], feed_dict=train_dict)\n",
    "    \n",
    "    temp_train_acc = get_accuracy(temp_train_preds, rand_y)\n",
    "    \n",
    "    if(i+1)%5==0: ## cada 5 iteraciones se hace los siguiente\n",
    "        rand_idx_eval = np.random.choice(len(test_xdata), size=evaluation_size)\n",
    "        rand_x_eval = test_xdata[rand_idx_eval]\n",
    "        rand_x_eval = np.expand_dims(rand_x_eval, 3)  # se agrega la dimension en la posicion 4, correspondiente a los canales         \n",
    "        rand_y_eval = test_labels[rand_idx_eval]\n",
    "        \n",
    "        test_dict = {eval_input:rand_x_eval, eval_target:rand_y_eval}\n",
    "        temp_test_preds = session.run(test_prediction, feed_dict=test_dict)\n",
    "        temp_test_acc = get_accuracy(temp_test_preds, rand_y_eval)\n",
    "        \n",
    "        i_vals.append(i+1)\n",
    "        train_loss.append(temp_train_loss)\n",
    "        train_acc.append(temp_train_acc)\n",
    "        test_acc.append(temp_test_acc)\n",
    "        \n",
    "        acc_and_loss = [(i+1), temp_train_loss, temp_train_acc, temp_test_acc]\n",
    "        acc_and_loss = [np.round(x,3) for x in acc_and_loss]\n",
    "        print(\"iteracion {}. Train Loss: {:.3f}. Train Acc: {:.3f}. Test Acc: {:.3f}\".format(*acc_and_loss))\n",
    "    \n",
    "    \n",
    "# Ending time.\n",
    "end_time = time.time()\n",
    "# Difference between start and end-times.\n",
    "time_dif = end_time - start_time\n",
    "# Print the time-usage.\n",
    "print(\"Time usage: \" + str(timedelta(seconds=int(round(time_dif)))))\n",
    "    "
   ]
  },
  {
   "cell_type": "code",
   "execution_count": 19,
   "metadata": {},
   "outputs": [
    {
     "data": {
      "image/png": "[encoded data removed]",
      "text/plain": [
       "<Figure size 432x288 with 1 Axes>"
      ]
     },
     "metadata": {
      "needs_background": "light"
     },
     "output_type": "display_data"
    }
   ],
   "source": [
    "plt.plot(i_vals, train_loss, \"k-\")\n",
    "plt.title(\"softmax loss para cada iteracion\")\n",
    "plt.xlabel(\"iteracion\")\n",
    "plt.ylabel(\"perdida softmax\")\n",
    "plt.show()"
   ]
  },
  {
   "cell_type": "code",
   "execution_count": 20,
   "metadata": {},
   "outputs": [
    {
     "data": {
      "image/png": "[encoded data removed]",
      "text/plain": [
       "<Figure size 432x288 with 1 Axes>"
      ]
     },
     "metadata": {
      "needs_background": "light"
     },
     "output_type": "display_data"
    }
   ],
   "source": [
    "plt.plot(i_vals, train_acc, \"r-\" ,label=\"presicion en entrenamiento\")\n",
    "plt.plot(i_vals, test_acc, \"b--\" ,label=\"presicion en test\")\n",
    "plt.title(\"precision en la prediccion\")\n",
    "plt.xlabel(\"iteracion\")\n",
    "plt.ylabel(\"precision\")\n",
    "plt.ylim(0,100)\n",
    "plt.legend(loc = \"lower right\")\n",
    "plt.show()"
   ]
  },
  {
   "cell_type": "code",
   "execution_count": 34,
   "metadata": {},
   "outputs": [
    {
     "data": {
      "image/png": "[encoded data removed]",
      "text/plain": [
       "<Figure size 432x288 with 6 Axes>"
      ]
     },
     "metadata": {
      "needs_background": "light"
     },
     "output_type": "display_data"
    }
   ],
   "source": [
    "actuals = rand_y[0:6]\n",
    "predictions = np.argmax(temp_train_preds, axis=1)[0:6]\n",
    "images = np.squeeze(rand_x[0:6])\n",
    "nrows = 2\n",
    "ncols = 3\n",
    "for i in range(6):\n",
    "    plt.subplot(nrows, ncols, i+1)\n",
    "    plt.imshow(np.reshape(images[i], [28,28]), cmap=\"Greys_r\")\n",
    "    plt.title(\"Actual \"+str(actuals[i])+\" Predicción: \"+str(predictions[i]), fontsize = 10)\n",
    "    frame=plt.gca()\n",
    "    frame.axes.get_xaxis().set_visible(False)\n",
    "    frame.axes.get_yaxis().set_visible(False)"
   ]
  },
  {
   "cell_type": "code",
   "execution_count": null,
   "metadata": {},
   "outputs": [],
   "source": []
  }
 ],
 "metadata": {
  "kernelspec": {
   "display_name": "Python 3",
   "language": "python",
   "name": "python3"
  },
  "language_info": {
   "codemirror_mode": {
    "name": "ipython",
    "version": 3
   },
   "file_extension": ".py",
   "mimetype": "text/x-python",
   "name": "python",
   "nbconvert_exporter": "python",
   "pygments_lexer": "ipython3",
   "version": "3.7.1"
  }
 },
 "nbformat": 4,
 "nbformat_minor": 2
}
