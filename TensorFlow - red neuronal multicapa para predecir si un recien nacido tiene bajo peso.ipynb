{
 "cells": [
  {
   "cell_type": "markdown",
   "metadata": {},
   "source": [
    "#### red nuronal\n",
    "    -4 capas\n",
    "\n",
    "\n",
    "#### algoritmo\n",
    "    -paso 1: predecir el peso de un niño\n",
    "    -paso 2: si es menor a 2500gramos tiene bajo peso(LOW=1), si es mayor a 2500gramos no tiene bajo peso(LOW=0)\n"
   ]
  },
  {
   "cell_type": "code",
   "execution_count": 65,
   "metadata": {},
   "outputs": [],
   "source": [
    "import matplotlib.pyplot as plt\n",
    "import numpy as np\n",
    "import tensorflow as tf\n",
    "session = tf.Session()"
   ]
  },
  {
   "cell_type": "markdown",
   "metadata": {},
   "source": [
    "## se importa el dataset de birthweight 1989 (desde el repositoria GitHub del curso, es una archivo .dat)"
   ]
  },
  {
   "cell_type": "code",
   "execution_count": 66,
   "metadata": {},
   "outputs": [],
   "source": [
    "import requests\n",
    "url = \"https://raw.githubusercontent.com/joanby/tensorflow/master/datasets/birthweight.dat\"\n",
    "birth_file = requests.get(url) \n",
    "birth_data = birth_file.text.split(\"\\r\\n\") ##separa cada fila del dataset"
   ]
  },
  {
   "cell_type": "code",
   "execution_count": 67,
   "metadata": {},
   "outputs": [
    {
     "data": {
      "text/plain": [
       "['LOW\\tAGE\\tLWT\\tRACE\\tSMOKE\\tPTL\\tHT\\tUI\\tBWT',\n",
       " '1\\t28\\t113\\t1\\t1\\t1\\t0\\t1\\t709',\n",
       " '1\\t29\\t130\\t0\\t0\\t0\\t0\\t1\\t1021',\n",
       " '1\\t34\\t187\\t1\\t1\\t0\\t1\\t0\\t1135',\n",
       " '1\\t25\\t105\\t1\\t0\\t1\\t1\\t0\\t1330',\n",
       " '1\\t25\\t85\\t1\\t0\\t0\\t0\\t1\\t1474',\n",
       " '1\\t27\\t150\\t1\\t0\\t0\\t0\\t0\\t1588',\n",
       " '1\\t23\\t97\\t1\\t0\\t0\\t0\\t1\\t1588',\n",
       " '1\\t24\\t128\\t1\\t0\\t1\\t0\\t0\\t1701',\n",
       " '1\\t24\\t132\\t1\\t0\\t0\\t1\\t0\\t1729',\n",
       " '1\\t21\\t165\\t0\\t1\\t0\\t1\\t0\\t1790',\n",
       " '1\\t32\\t105\\t1\\t1\\t0\\t0\\t0\\t1818',\n",
       " '1\\t19\\t91\\t0\\t1\\t1\\t0\\t1\\t1885',\n",
       " '1\\t25\\t115\\t1\\t0\\t0\\t0\\t0\\t1893',\n",
       " '1\\t16\\t130\\t1\\t0\\t0\\t0\\t0\\t1899',\n",
       " '1\\t25\\t92\\t0\\t1\\t0\\t0\\t0\\t1928',\n",
       " '1\\t20\\t150\\t0\\t1\\t0\\t0\\t0\\t1928',\n",
       " '1\\t21\\t190\\t1\\t0\\t0\\t0\\t1\\t1928',\n",
       " '1\\t24\\t155\\t0\\t1\\t1\\t0\\t0\\t1936',\n",
       " '1\\t21\\t103\\t1\\t0\\t0\\t0\\t0\\t1970',\n",
       " '1\\t20\\t125\\t1\\t0\\t0\\t0\\t1\\t2055',\n",
       " '1\\t25\\t89\\t1\\t0\\t1\\t0\\t0\\t2055',\n",
       " '1\\t19\\t102\\t0\\t0\\t0\\t0\\t0\\t2082',\n",
       " '1\\t19\\t112\\t0\\t1\\t0\\t0\\t1\\t2084',\n",
       " '1\\t26\\t117\\t0\\t1\\t1\\t0\\t1\\t2084',\n",
       " '1\\t24\\t138\\t0\\t0\\t0\\t0\\t0\\t2100',\n",
       " '1\\t17\\t130\\t1\\t1\\t1\\t0\\t1\\t2125',\n",
       " '1\\t20\\t120\\t1\\t1\\t0\\t0\\t0\\t2126',\n",
       " '1\\t22\\t130\\t0\\t1\\t1\\t0\\t1\\t2187',\n",
       " '1\\t27\\t130\\t1\\t0\\t0\\t0\\t1\\t2187',\n",
       " '1\\t20\\t80\\t1\\t1\\t0\\t0\\t1\\t2211',\n",
       " '1\\t17\\t110\\t0\\t1\\t0\\t0\\t0\\t2225',\n",
       " '1\\t25\\t105\\t1\\t0\\t1\\t0\\t0\\t2240',\n",
       " '1\\t20\\t109\\t1\\t0\\t0\\t0\\t0\\t2240',\n",
       " '1\\t18\\t148\\t1\\t0\\t0\\t0\\t0\\t2282',\n",
       " '1\\t18\\t110\\t1\\t1\\t1\\t0\\t0\\t2296',\n",
       " '1\\t20\\t121\\t0\\t1\\t1\\t0\\t1\\t2296',\n",
       " '1\\t21\\t100\\t1\\t0\\t1\\t0\\t0\\t2301',\n",
       " '1\\t26\\t96\\t1\\t0\\t0\\t0\\t0\\t2325',\n",
       " '1\\t31\\t102\\t0\\t1\\t1\\t0\\t0\\t2353',\n",
       " '1\\t15\\t110\\t0\\t0\\t0\\t0\\t0\\t2353',\n",
       " '1\\t23\\t187\\t1\\t1\\t0\\t0\\t0\\t2367',\n",
       " '1\\t20\\t122\\t1\\t1\\t1\\t0\\t0\\t2381',\n",
       " '1\\t24\\t105\\t1\\t1\\t0\\t0\\t0\\t2381',\n",
       " '1\\t15\\t115\\t1\\t0\\t0\\t0\\t1\\t2381',\n",
       " '1\\t23\\t120\\t1\\t0\\t0\\t0\\t0\\t2395',\n",
       " '1\\t30\\t142\\t0\\t1\\t1\\t0\\t0\\t2410',\n",
       " '1\\t22\\t130\\t0\\t1\\t0\\t0\\t0\\t2410',\n",
       " '1\\t17\\t120\\t0\\t1\\t0\\t0\\t0\\t2414',\n",
       " '1\\t23\\t110\\t0\\t1\\t1\\t0\\t0\\t2424',\n",
       " '1\\t17\\t120\\t1\\t0\\t0\\t0\\t0\\t2438',\n",
       " '1\\t26\\t154\\t1\\t0\\t1\\t1\\t0\\t2442',\n",
       " '1\\t20\\t105\\t1\\t0\\t0\\t0\\t0\\t2450',\n",
       " '1\\t26\\t168\\t0\\t1\\t0\\t0\\t0\\t2466',\n",
       " '1\\t14\\t101\\t1\\t1\\t1\\t0\\t0\\t2466',\n",
       " '1\\t28\\t95\\t0\\t1\\t0\\t0\\t0\\t2466',\n",
       " '1\\t14\\t100\\t1\\t0\\t0\\t0\\t0\\t2495',\n",
       " '1\\t23\\t94\\t1\\t1\\t0\\t0\\t0\\t2495',\n",
       " '1\\t17\\t142\\t1\\t0\\t0\\t1\\t0\\t2495',\n",
       " '1\\t21\\t130\\t0\\t1\\t0\\t1\\t0\\t2495',\n",
       " '0\\t19\\t182\\t1\\t0\\t0\\t0\\t1\\t2523',\n",
       " '0\\t33\\t155\\t1\\t0\\t0\\t0\\t0\\t2551',\n",
       " '0\\t20\\t105\\t0\\t1\\t0\\t0\\t0\\t2557',\n",
       " '0\\t21\\t108\\t0\\t1\\t0\\t0\\t1\\t2594',\n",
       " '0\\t18\\t107\\t0\\t1\\t0\\t0\\t1\\t2600',\n",
       " '0\\t21\\t124\\t1\\t0\\t0\\t0\\t0\\t2622',\n",
       " '0\\t22\\t118\\t0\\t0\\t0\\t0\\t0\\t2637',\n",
       " '0\\t17\\t103\\t1\\t0\\t0\\t0\\t0\\t2637',\n",
       " '0\\t29\\t123\\t0\\t1\\t0\\t0\\t0\\t2663',\n",
       " '0\\t26\\t113\\t0\\t1\\t0\\t0\\t0\\t2665',\n",
       " '0\\t19\\t95\\t1\\t0\\t0\\t0\\t0\\t2722',\n",
       " '0\\t19\\t150\\t1\\t0\\t0\\t0\\t0\\t2733',\n",
       " '0\\t22\\t95\\t1\\t0\\t0\\t1\\t0\\t2750',\n",
       " '0\\t30\\t107\\t1\\t0\\t1\\t0\\t1\\t2750',\n",
       " '0\\t18\\t100\\t0\\t1\\t0\\t0\\t0\\t2769',\n",
       " '0\\t18\\t100\\t1\\t1\\t0\\t0\\t0\\t2769',\n",
       " '0\\t15\\t98\\t1\\t0\\t0\\t0\\t0\\t2778',\n",
       " '0\\t25\\t118\\t0\\t1\\t0\\t0\\t0\\t2782',\n",
       " '0\\t20\\t120\\t1\\t0\\t0\\t0\\t1\\t2807',\n",
       " '0\\t28\\t120\\t0\\t1\\t0\\t0\\t0\\t2821',\n",
       " '0\\t32\\t121\\t1\\t0\\t0\\t0\\t0\\t2835',\n",
       " '0\\t31\\t100\\t0\\t0\\t0\\t0\\t1\\t2835',\n",
       " '0\\t36\\t202\\t0\\t0\\t0\\t0\\t0\\t2836',\n",
       " '0\\t28\\t120\\t1\\t0\\t0\\t0\\t0\\t2863',\n",
       " '0\\t25\\t120\\t1\\t0\\t0\\t0\\t1\\t2877',\n",
       " '0\\t28\\t167\\t0\\t0\\t0\\t0\\t0\\t2877',\n",
       " '0\\t17\\t122\\t0\\t1\\t0\\t0\\t0\\t2906',\n",
       " '0\\t29\\t150\\t0\\t0\\t0\\t0\\t0\\t2920',\n",
       " '0\\t26\\t168\\t1\\t1\\t0\\t0\\t0\\t2920',\n",
       " '0\\t17\\t113\\t1\\t0\\t0\\t0\\t0\\t2920',\n",
       " '0\\t17\\t113\\t1\\t0\\t0\\t0\\t0\\t2920',\n",
       " '0\\t24\\t90\\t0\\t1\\t1\\t0\\t0\\t2948',\n",
       " '0\\t35\\t121\\t1\\t1\\t1\\t1\\t0\\t2948',\n",
       " '0\\t25\\t155\\t0\\t1\\t1\\t0\\t0\\t2977',\n",
       " '0\\t25\\t125\\t1\\t0\\t0\\t0\\t0\\t2977',\n",
       " '0\\t29\\t140\\t0\\t1\\t0\\t0\\t0\\t2977',\n",
       " '0\\t19\\t138\\t0\\t1\\t0\\t1\\t0\\t2977',\n",
       " '0\\t27\\t124\\t0\\t1\\t0\\t0\\t0\\t2992',\n",
       " '0\\t31\\t115\\t0\\t1\\t0\\t0\\t0\\t3005',\n",
       " '0\\t33\\t109\\t0\\t1\\t0\\t0\\t0\\t3033',\n",
       " '0\\t21\\t185\\t1\\t1\\t0\\t0\\t0\\t3042',\n",
       " '0\\t19\\t189\\t0\\t0\\t0\\t0\\t0\\t3062',\n",
       " '0\\t23\\t130\\t1\\t0\\t0\\t0\\t0\\t3062',\n",
       " '0\\t21\\t160\\t0\\t0\\t0\\t0\\t0\\t3062',\n",
       " '0\\t18\\t90\\t0\\t1\\t0\\t0\\t1\\t3076',\n",
       " '0\\t18\\t90\\t0\\t1\\t0\\t0\\t1\\t3076',\n",
       " '0\\t32\\t132\\t0\\t0\\t0\\t0\\t0\\t3080',\n",
       " '0\\t19\\t132\\t1\\t0\\t0\\t0\\t0\\t3090',\n",
       " '0\\t24\\t115\\t0\\t0\\t0\\t0\\t0\\t3090',\n",
       " '0\\t22\\t85\\t1\\t1\\t0\\t0\\t0\\t3090',\n",
       " '0\\t22\\t120\\t0\\t0\\t0\\t1\\t0\\t3100',\n",
       " '0\\t23\\t128\\t1\\t0\\t0\\t0\\t0\\t3104',\n",
       " '0\\t22\\t130\\t0\\t1\\t0\\t0\\t0\\t3132',\n",
       " '0\\t30\\t95\\t0\\t1\\t0\\t0\\t0\\t3147',\n",
       " '0\\t19\\t115\\t1\\t0\\t0\\t0\\t0\\t3175',\n",
       " '0\\t16\\t110\\t1\\t0\\t0\\t0\\t0\\t3175',\n",
       " '0\\t21\\t110\\t1\\t1\\t0\\t0\\t1\\t3203',\n",
       " '0\\t30\\t153\\t1\\t0\\t0\\t0\\t0\\t3203',\n",
       " '0\\t20\\t103\\t1\\t0\\t0\\t0\\t0\\t3203',\n",
       " '0\\t17\\t119\\t1\\t0\\t0\\t0\\t0\\t3225',\n",
       " '0\\t17\\t119\\t1\\t0\\t0\\t0\\t0\\t3225',\n",
       " '0\\t23\\t119\\t1\\t0\\t0\\t0\\t0\\t3232',\n",
       " '0\\t24\\t110\\t1\\t0\\t0\\t0\\t0\\t3232',\n",
       " '0\\t28\\t140\\t0\\t0\\t0\\t0\\t0\\t3234',\n",
       " '0\\t26\\t133\\t1\\t1\\t0\\t0\\t0\\t3260',\n",
       " '0\\t20\\t169\\t1\\t0\\t1\\t0\\t1\\t3274',\n",
       " '0\\t24\\t115\\t1\\t0\\t0\\t0\\t0\\t3274',\n",
       " '0\\t28\\t250\\t1\\t1\\t0\\t0\\t0\\t3303',\n",
       " '0\\t20\\t141\\t0\\t0\\t0\\t0\\t1\\t3317',\n",
       " '0\\t22\\t158\\t1\\t0\\t1\\t0\\t0\\t3317',\n",
       " '0\\t22\\t112\\t0\\t1\\t1\\t0\\t0\\t3317',\n",
       " '0\\t31\\t150\\t1\\t1\\t0\\t0\\t0\\t3321',\n",
       " '0\\t23\\t115\\t1\\t1\\t0\\t0\\t0\\t3331',\n",
       " '0\\t16\\t112\\t1\\t0\\t0\\t0\\t0\\t3374',\n",
       " '0\\t16\\t135\\t0\\t1\\t0\\t0\\t0\\t3374',\n",
       " '0\\t18\\t229\\t1\\t0\\t0\\t0\\t0\\t3402',\n",
       " '0\\t25\\t140\\t0\\t0\\t0\\t0\\t0\\t3416',\n",
       " '0\\t32\\t134\\t0\\t1\\t1\\t0\\t0\\t3430',\n",
       " '0\\t20\\t121\\t1\\t1\\t0\\t0\\t0\\t3444',\n",
       " '0\\t23\\t190\\t0\\t0\\t0\\t0\\t0\\t3459',\n",
       " '0\\t22\\t131\\t0\\t0\\t0\\t0\\t0\\t3460',\n",
       " '0\\t32\\t170\\t0\\t0\\t0\\t0\\t0\\t3473',\n",
       " '0\\t30\\t110\\t1\\t0\\t0\\t0\\t0\\t3475',\n",
       " '0\\t20\\t127\\t1\\t0\\t0\\t0\\t0\\t3487',\n",
       " '0\\t23\\t123\\t1\\t0\\t0\\t0\\t0\\t3544',\n",
       " '0\\t17\\t120\\t1\\t1\\t0\\t0\\t0\\t3572',\n",
       " '0\\t19\\t105\\t1\\t0\\t0\\t0\\t0\\t3572',\n",
       " '0\\t23\\t130\\t0\\t0\\t0\\t0\\t0\\t3586',\n",
       " '0\\t36\\t175\\t0\\t0\\t0\\t0\\t0\\t3600',\n",
       " '0\\t22\\t125\\t0\\t0\\t0\\t0\\t0\\t3614',\n",
       " '0\\t24\\t133\\t0\\t0\\t0\\t0\\t0\\t3614',\n",
       " '0\\t21\\t134\\t1\\t0\\t0\\t0\\t0\\t3629',\n",
       " '0\\t19\\t235\\t0\\t1\\t0\\t1\\t0\\t3629',\n",
       " '0\\t25\\t200\\t0\\t0\\t1\\t0\\t1\\t3637',\n",
       " '0\\t16\\t135\\t0\\t1\\t0\\t0\\t0\\t3643',\n",
       " '0\\t29\\t135\\t0\\t0\\t0\\t0\\t0\\t3651',\n",
       " '0\\t29\\t154\\t0\\t0\\t0\\t0\\t0\\t3651',\n",
       " '0\\t19\\t147\\t0\\t1\\t0\\t0\\t0\\t3651',\n",
       " '0\\t19\\t147\\t0\\t1\\t0\\t0\\t0\\t3651',\n",
       " '0\\t30\\t137\\t0\\t0\\t0\\t0\\t0\\t3699',\n",
       " '0\\t24\\t110\\t0\\t0\\t0\\t0\\t0\\t3728',\n",
       " '0\\t19\\t184\\t0\\t1\\t0\\t1\\t0\\t3756',\n",
       " '0\\t24\\t110\\t0\\t0\\t1\\t0\\t0\\t3770',\n",
       " '0\\t23\\t110\\t0\\t0\\t0\\t0\\t0\\t3770',\n",
       " '0\\t20\\t120\\t1\\t0\\t0\\t0\\t0\\t3770',\n",
       " '0\\t25\\t141\\t0\\t0\\t0\\t1\\t0\\t3790',\n",
       " '0\\t30\\t112\\t0\\t0\\t0\\t0\\t0\\t3799',\n",
       " '0\\t22\\t169\\t0\\t0\\t0\\t0\\t0\\t3827',\n",
       " '0\\t18\\t120\\t0\\t1\\t0\\t0\\t0\\t3856',\n",
       " '0\\t16\\t170\\t1\\t0\\t0\\t0\\t0\\t3860',\n",
       " '0\\t32\\t186\\t0\\t0\\t0\\t0\\t0\\t3860',\n",
       " '0\\t18\\t120\\t1\\t0\\t0\\t0\\t0\\t3884',\n",
       " '0\\t29\\t130\\t0\\t1\\t0\\t0\\t0\\t3884',\n",
       " '0\\t33\\t117\\t0\\t0\\t0\\t0\\t1\\t3912',\n",
       " '0\\t20\\t170\\t0\\t1\\t0\\t0\\t0\\t3940',\n",
       " '0\\t28\\t134\\t1\\t0\\t0\\t0\\t0\\t3941',\n",
       " '0\\t14\\t135\\t0\\t0\\t1\\t0\\t0\\t3941',\n",
       " '0\\t28\\t130\\t1\\t0\\t0\\t0\\t0\\t3969',\n",
       " '0\\t25\\t120\\t0\\t0\\t0\\t0\\t0\\t3983',\n",
       " '0\\t16\\t135\\t1\\t0\\t0\\t0\\t0\\t3997',\n",
       " '0\\t20\\t158\\t0\\t0\\t0\\t0\\t0\\t3997',\n",
       " '0\\t26\\t160\\t0\\t0\\t0\\t0\\t0\\t4054',\n",
       " '0\\t21\\t115\\t0\\t0\\t0\\t0\\t0\\t4054',\n",
       " '0\\t22\\t129\\t0\\t0\\t0\\t0\\t0\\t4111',\n",
       " '0\\t25\\t130\\t0\\t0\\t0\\t0\\t0\\t4153',\n",
       " '0\\t31\\t120\\t0\\t0\\t0\\t0\\t0\\t4167',\n",
       " '0\\t35\\t170\\t0\\t0\\t1\\t0\\t0\\t4174',\n",
       " '0\\t19\\t120\\t0\\t1\\t0\\t1\\t0\\t4238',\n",
       " '0\\t24\\t216\\t0\\t0\\t0\\t0\\t0\\t4593',\n",
       " '0\\t45\\t123\\t0\\t0\\t1\\t0\\t0\\t4990',\n",
       " '',\n",
       " '']"
      ]
     },
     "execution_count": 67,
     "metadata": {},
     "output_type": "execute_result"
    }
   ],
   "source": [
    "birth_data"
   ]
  },
  {
   "cell_type": "code",
   "execution_count": 68,
   "metadata": {},
   "outputs": [
    {
     "data": {
      "text/plain": [
       "['LOW', 'AGE', 'LWT', 'RACE', 'SMOKE', 'PTL', 'HT', 'UI', 'BWT']"
      ]
     },
     "execution_count": 68,
     "metadata": {},
     "output_type": "execute_result"
    }
   ],
   "source": [
    "birth_header = birth_data[0].split(\"\\t\") ##cabecera del dataset\n",
    "birth_header"
   ]
  },
  {
   "cell_type": "code",
   "execution_count": 69,
   "metadata": {},
   "outputs": [
    {
     "data": {
      "text/plain": [
       "[[1.0, 28.0, 113.0, 1.0, 1.0, 1.0, 0.0, 1.0, 709.0],\n",
       " [1.0, 29.0, 130.0, 0.0, 0.0, 0.0, 0.0, 1.0, 1021.0],\n",
       " [1.0, 34.0, 187.0, 1.0, 1.0, 0.0, 1.0, 0.0, 1135.0],\n",
       " [1.0, 25.0, 105.0, 1.0, 0.0, 1.0, 1.0, 0.0, 1330.0],\n",
       " [1.0, 25.0, 85.0, 1.0, 0.0, 0.0, 0.0, 1.0, 1474.0],\n",
       " [1.0, 27.0, 150.0, 1.0, 0.0, 0.0, 0.0, 0.0, 1588.0],\n",
       " [1.0, 23.0, 97.0, 1.0, 0.0, 0.0, 0.0, 1.0, 1588.0],\n",
       " [1.0, 24.0, 128.0, 1.0, 0.0, 1.0, 0.0, 0.0, 1701.0],\n",
       " [1.0, 24.0, 132.0, 1.0, 0.0, 0.0, 1.0, 0.0, 1729.0],\n",
       " [1.0, 21.0, 165.0, 0.0, 1.0, 0.0, 1.0, 0.0, 1790.0],\n",
       " [1.0, 32.0, 105.0, 1.0, 1.0, 0.0, 0.0, 0.0, 1818.0],\n",
       " [1.0, 19.0, 91.0, 0.0, 1.0, 1.0, 0.0, 1.0, 1885.0],\n",
       " [1.0, 25.0, 115.0, 1.0, 0.0, 0.0, 0.0, 0.0, 1893.0],\n",
       " [1.0, 16.0, 130.0, 1.0, 0.0, 0.0, 0.0, 0.0, 1899.0],\n",
       " [1.0, 25.0, 92.0, 0.0, 1.0, 0.0, 0.0, 0.0, 1928.0],\n",
       " [1.0, 20.0, 150.0, 0.0, 1.0, 0.0, 0.0, 0.0, 1928.0],\n",
       " [1.0, 21.0, 190.0, 1.0, 0.0, 0.0, 0.0, 1.0, 1928.0],\n",
       " [1.0, 24.0, 155.0, 0.0, 1.0, 1.0, 0.0, 0.0, 1936.0],\n",
       " [1.0, 21.0, 103.0, 1.0, 0.0, 0.0, 0.0, 0.0, 1970.0],\n",
       " [1.0, 20.0, 125.0, 1.0, 0.0, 0.0, 0.0, 1.0, 2055.0],\n",
       " [1.0, 25.0, 89.0, 1.0, 0.0, 1.0, 0.0, 0.0, 2055.0],\n",
       " [1.0, 19.0, 102.0, 0.0, 0.0, 0.0, 0.0, 0.0, 2082.0],\n",
       " [1.0, 19.0, 112.0, 0.0, 1.0, 0.0, 0.0, 1.0, 2084.0],\n",
       " [1.0, 26.0, 117.0, 0.0, 1.0, 1.0, 0.0, 1.0, 2084.0],\n",
       " [1.0, 24.0, 138.0, 0.0, 0.0, 0.0, 0.0, 0.0, 2100.0],\n",
       " [1.0, 17.0, 130.0, 1.0, 1.0, 1.0, 0.0, 1.0, 2125.0],\n",
       " [1.0, 20.0, 120.0, 1.0, 1.0, 0.0, 0.0, 0.0, 2126.0],\n",
       " [1.0, 22.0, 130.0, 0.0, 1.0, 1.0, 0.0, 1.0, 2187.0],\n",
       " [1.0, 27.0, 130.0, 1.0, 0.0, 0.0, 0.0, 1.0, 2187.0],\n",
       " [1.0, 20.0, 80.0, 1.0, 1.0, 0.0, 0.0, 1.0, 2211.0],\n",
       " [1.0, 17.0, 110.0, 0.0, 1.0, 0.0, 0.0, 0.0, 2225.0],\n",
       " [1.0, 25.0, 105.0, 1.0, 0.0, 1.0, 0.0, 0.0, 2240.0],\n",
       " [1.0, 20.0, 109.0, 1.0, 0.0, 0.0, 0.0, 0.0, 2240.0],\n",
       " [1.0, 18.0, 148.0, 1.0, 0.0, 0.0, 0.0, 0.0, 2282.0],\n",
       " [1.0, 18.0, 110.0, 1.0, 1.0, 1.0, 0.0, 0.0, 2296.0],\n",
       " [1.0, 20.0, 121.0, 0.0, 1.0, 1.0, 0.0, 1.0, 2296.0],\n",
       " [1.0, 21.0, 100.0, 1.0, 0.0, 1.0, 0.0, 0.0, 2301.0],\n",
       " [1.0, 26.0, 96.0, 1.0, 0.0, 0.0, 0.0, 0.0, 2325.0],\n",
       " [1.0, 31.0, 102.0, 0.0, 1.0, 1.0, 0.0, 0.0, 2353.0],\n",
       " [1.0, 15.0, 110.0, 0.0, 0.0, 0.0, 0.0, 0.0, 2353.0],\n",
       " [1.0, 23.0, 187.0, 1.0, 1.0, 0.0, 0.0, 0.0, 2367.0],\n",
       " [1.0, 20.0, 122.0, 1.0, 1.0, 1.0, 0.0, 0.0, 2381.0],\n",
       " [1.0, 24.0, 105.0, 1.0, 1.0, 0.0, 0.0, 0.0, 2381.0],\n",
       " [1.0, 15.0, 115.0, 1.0, 0.0, 0.0, 0.0, 1.0, 2381.0],\n",
       " [1.0, 23.0, 120.0, 1.0, 0.0, 0.0, 0.0, 0.0, 2395.0],\n",
       " [1.0, 30.0, 142.0, 0.0, 1.0, 1.0, 0.0, 0.0, 2410.0],\n",
       " [1.0, 22.0, 130.0, 0.0, 1.0, 0.0, 0.0, 0.0, 2410.0],\n",
       " [1.0, 17.0, 120.0, 0.0, 1.0, 0.0, 0.0, 0.0, 2414.0],\n",
       " [1.0, 23.0, 110.0, 0.0, 1.0, 1.0, 0.0, 0.0, 2424.0],\n",
       " [1.0, 17.0, 120.0, 1.0, 0.0, 0.0, 0.0, 0.0, 2438.0],\n",
       " [1.0, 26.0, 154.0, 1.0, 0.0, 1.0, 1.0, 0.0, 2442.0],\n",
       " [1.0, 20.0, 105.0, 1.0, 0.0, 0.0, 0.0, 0.0, 2450.0],\n",
       " [1.0, 26.0, 168.0, 0.0, 1.0, 0.0, 0.0, 0.0, 2466.0],\n",
       " [1.0, 14.0, 101.0, 1.0, 1.0, 1.0, 0.0, 0.0, 2466.0],\n",
       " [1.0, 28.0, 95.0, 0.0, 1.0, 0.0, 0.0, 0.0, 2466.0],\n",
       " [1.0, 14.0, 100.0, 1.0, 0.0, 0.0, 0.0, 0.0, 2495.0],\n",
       " [1.0, 23.0, 94.0, 1.0, 1.0, 0.0, 0.0, 0.0, 2495.0],\n",
       " [1.0, 17.0, 142.0, 1.0, 0.0, 0.0, 1.0, 0.0, 2495.0],\n",
       " [1.0, 21.0, 130.0, 0.0, 1.0, 0.0, 1.0, 0.0, 2495.0],\n",
       " [0.0, 19.0, 182.0, 1.0, 0.0, 0.0, 0.0, 1.0, 2523.0],\n",
       " [0.0, 33.0, 155.0, 1.0, 0.0, 0.0, 0.0, 0.0, 2551.0],\n",
       " [0.0, 20.0, 105.0, 0.0, 1.0, 0.0, 0.0, 0.0, 2557.0],\n",
       " [0.0, 21.0, 108.0, 0.0, 1.0, 0.0, 0.0, 1.0, 2594.0],\n",
       " [0.0, 18.0, 107.0, 0.0, 1.0, 0.0, 0.0, 1.0, 2600.0],\n",
       " [0.0, 21.0, 124.0, 1.0, 0.0, 0.0, 0.0, 0.0, 2622.0],\n",
       " [0.0, 22.0, 118.0, 0.0, 0.0, 0.0, 0.0, 0.0, 2637.0],\n",
       " [0.0, 17.0, 103.0, 1.0, 0.0, 0.0, 0.0, 0.0, 2637.0],\n",
       " [0.0, 29.0, 123.0, 0.0, 1.0, 0.0, 0.0, 0.0, 2663.0],\n",
       " [0.0, 26.0, 113.0, 0.0, 1.0, 0.0, 0.0, 0.0, 2665.0],\n",
       " [0.0, 19.0, 95.0, 1.0, 0.0, 0.0, 0.0, 0.0, 2722.0],\n",
       " [0.0, 19.0, 150.0, 1.0, 0.0, 0.0, 0.0, 0.0, 2733.0],\n",
       " [0.0, 22.0, 95.0, 1.0, 0.0, 0.0, 1.0, 0.0, 2750.0],\n",
       " [0.0, 30.0, 107.0, 1.0, 0.0, 1.0, 0.0, 1.0, 2750.0],\n",
       " [0.0, 18.0, 100.0, 0.0, 1.0, 0.0, 0.0, 0.0, 2769.0],\n",
       " [0.0, 18.0, 100.0, 1.0, 1.0, 0.0, 0.0, 0.0, 2769.0],\n",
       " [0.0, 15.0, 98.0, 1.0, 0.0, 0.0, 0.0, 0.0, 2778.0],\n",
       " [0.0, 25.0, 118.0, 0.0, 1.0, 0.0, 0.0, 0.0, 2782.0],\n",
       " [0.0, 20.0, 120.0, 1.0, 0.0, 0.0, 0.0, 1.0, 2807.0],\n",
       " [0.0, 28.0, 120.0, 0.0, 1.0, 0.0, 0.0, 0.0, 2821.0],\n",
       " [0.0, 32.0, 121.0, 1.0, 0.0, 0.0, 0.0, 0.0, 2835.0],\n",
       " [0.0, 31.0, 100.0, 0.0, 0.0, 0.0, 0.0, 1.0, 2835.0],\n",
       " [0.0, 36.0, 202.0, 0.0, 0.0, 0.0, 0.0, 0.0, 2836.0],\n",
       " [0.0, 28.0, 120.0, 1.0, 0.0, 0.0, 0.0, 0.0, 2863.0],\n",
       " [0.0, 25.0, 120.0, 1.0, 0.0, 0.0, 0.0, 1.0, 2877.0],\n",
       " [0.0, 28.0, 167.0, 0.0, 0.0, 0.0, 0.0, 0.0, 2877.0],\n",
       " [0.0, 17.0, 122.0, 0.0, 1.0, 0.0, 0.0, 0.0, 2906.0],\n",
       " [0.0, 29.0, 150.0, 0.0, 0.0, 0.0, 0.0, 0.0, 2920.0],\n",
       " [0.0, 26.0, 168.0, 1.0, 1.0, 0.0, 0.0, 0.0, 2920.0],\n",
       " [0.0, 17.0, 113.0, 1.0, 0.0, 0.0, 0.0, 0.0, 2920.0],\n",
       " [0.0, 17.0, 113.0, 1.0, 0.0, 0.0, 0.0, 0.0, 2920.0],\n",
       " [0.0, 24.0, 90.0, 0.0, 1.0, 1.0, 0.0, 0.0, 2948.0],\n",
       " [0.0, 35.0, 121.0, 1.0, 1.0, 1.0, 1.0, 0.0, 2948.0],\n",
       " [0.0, 25.0, 155.0, 0.0, 1.0, 1.0, 0.0, 0.0, 2977.0],\n",
       " [0.0, 25.0, 125.0, 1.0, 0.0, 0.0, 0.0, 0.0, 2977.0],\n",
       " [0.0, 29.0, 140.0, 0.0, 1.0, 0.0, 0.0, 0.0, 2977.0],\n",
       " [0.0, 19.0, 138.0, 0.0, 1.0, 0.0, 1.0, 0.0, 2977.0],\n",
       " [0.0, 27.0, 124.0, 0.0, 1.0, 0.0, 0.0, 0.0, 2992.0],\n",
       " [0.0, 31.0, 115.0, 0.0, 1.0, 0.0, 0.0, 0.0, 3005.0],\n",
       " [0.0, 33.0, 109.0, 0.0, 1.0, 0.0, 0.0, 0.0, 3033.0],\n",
       " [0.0, 21.0, 185.0, 1.0, 1.0, 0.0, 0.0, 0.0, 3042.0],\n",
       " [0.0, 19.0, 189.0, 0.0, 0.0, 0.0, 0.0, 0.0, 3062.0],\n",
       " [0.0, 23.0, 130.0, 1.0, 0.0, 0.0, 0.0, 0.0, 3062.0],\n",
       " [0.0, 21.0, 160.0, 0.0, 0.0, 0.0, 0.0, 0.0, 3062.0],\n",
       " [0.0, 18.0, 90.0, 0.0, 1.0, 0.0, 0.0, 1.0, 3076.0],\n",
       " [0.0, 18.0, 90.0, 0.0, 1.0, 0.0, 0.0, 1.0, 3076.0],\n",
       " [0.0, 32.0, 132.0, 0.0, 0.0, 0.0, 0.0, 0.0, 3080.0],\n",
       " [0.0, 19.0, 132.0, 1.0, 0.0, 0.0, 0.0, 0.0, 3090.0],\n",
       " [0.0, 24.0, 115.0, 0.0, 0.0, 0.0, 0.0, 0.0, 3090.0],\n",
       " [0.0, 22.0, 85.0, 1.0, 1.0, 0.0, 0.0, 0.0, 3090.0],\n",
       " [0.0, 22.0, 120.0, 0.0, 0.0, 0.0, 1.0, 0.0, 3100.0],\n",
       " [0.0, 23.0, 128.0, 1.0, 0.0, 0.0, 0.0, 0.0, 3104.0],\n",
       " [0.0, 22.0, 130.0, 0.0, 1.0, 0.0, 0.0, 0.0, 3132.0],\n",
       " [0.0, 30.0, 95.0, 0.0, 1.0, 0.0, 0.0, 0.0, 3147.0],\n",
       " [0.0, 19.0, 115.0, 1.0, 0.0, 0.0, 0.0, 0.0, 3175.0],\n",
       " [0.0, 16.0, 110.0, 1.0, 0.0, 0.0, 0.0, 0.0, 3175.0],\n",
       " [0.0, 21.0, 110.0, 1.0, 1.0, 0.0, 0.0, 1.0, 3203.0],\n",
       " [0.0, 30.0, 153.0, 1.0, 0.0, 0.0, 0.0, 0.0, 3203.0],\n",
       " [0.0, 20.0, 103.0, 1.0, 0.0, 0.0, 0.0, 0.0, 3203.0],\n",
       " [0.0, 17.0, 119.0, 1.0, 0.0, 0.0, 0.0, 0.0, 3225.0],\n",
       " [0.0, 17.0, 119.0, 1.0, 0.0, 0.0, 0.0, 0.0, 3225.0],\n",
       " [0.0, 23.0, 119.0, 1.0, 0.0, 0.0, 0.0, 0.0, 3232.0],\n",
       " [0.0, 24.0, 110.0, 1.0, 0.0, 0.0, 0.0, 0.0, 3232.0],\n",
       " [0.0, 28.0, 140.0, 0.0, 0.0, 0.0, 0.0, 0.0, 3234.0],\n",
       " [0.0, 26.0, 133.0, 1.0, 1.0, 0.0, 0.0, 0.0, 3260.0],\n",
       " [0.0, 20.0, 169.0, 1.0, 0.0, 1.0, 0.0, 1.0, 3274.0],\n",
       " [0.0, 24.0, 115.0, 1.0, 0.0, 0.0, 0.0, 0.0, 3274.0],\n",
       " [0.0, 28.0, 250.0, 1.0, 1.0, 0.0, 0.0, 0.0, 3303.0],\n",
       " [0.0, 20.0, 141.0, 0.0, 0.0, 0.0, 0.0, 1.0, 3317.0],\n",
       " [0.0, 22.0, 158.0, 1.0, 0.0, 1.0, 0.0, 0.0, 3317.0],\n",
       " [0.0, 22.0, 112.0, 0.0, 1.0, 1.0, 0.0, 0.0, 3317.0],\n",
       " [0.0, 31.0, 150.0, 1.0, 1.0, 0.0, 0.0, 0.0, 3321.0],\n",
       " [0.0, 23.0, 115.0, 1.0, 1.0, 0.0, 0.0, 0.0, 3331.0],\n",
       " [0.0, 16.0, 112.0, 1.0, 0.0, 0.0, 0.0, 0.0, 3374.0],\n",
       " [0.0, 16.0, 135.0, 0.0, 1.0, 0.0, 0.0, 0.0, 3374.0],\n",
       " [0.0, 18.0, 229.0, 1.0, 0.0, 0.0, 0.0, 0.0, 3402.0],\n",
       " [0.0, 25.0, 140.0, 0.0, 0.0, 0.0, 0.0, 0.0, 3416.0],\n",
       " [0.0, 32.0, 134.0, 0.0, 1.0, 1.0, 0.0, 0.0, 3430.0],\n",
       " [0.0, 20.0, 121.0, 1.0, 1.0, 0.0, 0.0, 0.0, 3444.0],\n",
       " [0.0, 23.0, 190.0, 0.0, 0.0, 0.0, 0.0, 0.0, 3459.0],\n",
       " [0.0, 22.0, 131.0, 0.0, 0.0, 0.0, 0.0, 0.0, 3460.0],\n",
       " [0.0, 32.0, 170.0, 0.0, 0.0, 0.0, 0.0, 0.0, 3473.0],\n",
       " [0.0, 30.0, 110.0, 1.0, 0.0, 0.0, 0.0, 0.0, 3475.0],\n",
       " [0.0, 20.0, 127.0, 1.0, 0.0, 0.0, 0.0, 0.0, 3487.0],\n",
       " [0.0, 23.0, 123.0, 1.0, 0.0, 0.0, 0.0, 0.0, 3544.0],\n",
       " [0.0, 17.0, 120.0, 1.0, 1.0, 0.0, 0.0, 0.0, 3572.0],\n",
       " [0.0, 19.0, 105.0, 1.0, 0.0, 0.0, 0.0, 0.0, 3572.0],\n",
       " [0.0, 23.0, 130.0, 0.0, 0.0, 0.0, 0.0, 0.0, 3586.0],\n",
       " [0.0, 36.0, 175.0, 0.0, 0.0, 0.0, 0.0, 0.0, 3600.0],\n",
       " [0.0, 22.0, 125.0, 0.0, 0.0, 0.0, 0.0, 0.0, 3614.0],\n",
       " [0.0, 24.0, 133.0, 0.0, 0.0, 0.0, 0.0, 0.0, 3614.0],\n",
       " [0.0, 21.0, 134.0, 1.0, 0.0, 0.0, 0.0, 0.0, 3629.0],\n",
       " [0.0, 19.0, 235.0, 0.0, 1.0, 0.0, 1.0, 0.0, 3629.0],\n",
       " [0.0, 25.0, 200.0, 0.0, 0.0, 1.0, 0.0, 1.0, 3637.0],\n",
       " [0.0, 16.0, 135.0, 0.0, 1.0, 0.0, 0.0, 0.0, 3643.0],\n",
       " [0.0, 29.0, 135.0, 0.0, 0.0, 0.0, 0.0, 0.0, 3651.0],\n",
       " [0.0, 29.0, 154.0, 0.0, 0.0, 0.0, 0.0, 0.0, 3651.0],\n",
       " [0.0, 19.0, 147.0, 0.0, 1.0, 0.0, 0.0, 0.0, 3651.0],\n",
       " [0.0, 19.0, 147.0, 0.0, 1.0, 0.0, 0.0, 0.0, 3651.0],\n",
       " [0.0, 30.0, 137.0, 0.0, 0.0, 0.0, 0.0, 0.0, 3699.0],\n",
       " [0.0, 24.0, 110.0, 0.0, 0.0, 0.0, 0.0, 0.0, 3728.0],\n",
       " [0.0, 19.0, 184.0, 0.0, 1.0, 0.0, 1.0, 0.0, 3756.0],\n",
       " [0.0, 24.0, 110.0, 0.0, 0.0, 1.0, 0.0, 0.0, 3770.0],\n",
       " [0.0, 23.0, 110.0, 0.0, 0.0, 0.0, 0.0, 0.0, 3770.0],\n",
       " [0.0, 20.0, 120.0, 1.0, 0.0, 0.0, 0.0, 0.0, 3770.0],\n",
       " [0.0, 25.0, 141.0, 0.0, 0.0, 0.0, 1.0, 0.0, 3790.0],\n",
       " [0.0, 30.0, 112.0, 0.0, 0.0, 0.0, 0.0, 0.0, 3799.0],\n",
       " [0.0, 22.0, 169.0, 0.0, 0.0, 0.0, 0.0, 0.0, 3827.0],\n",
       " [0.0, 18.0, 120.0, 0.0, 1.0, 0.0, 0.0, 0.0, 3856.0],\n",
       " [0.0, 16.0, 170.0, 1.0, 0.0, 0.0, 0.0, 0.0, 3860.0],\n",
       " [0.0, 32.0, 186.0, 0.0, 0.0, 0.0, 0.0, 0.0, 3860.0],\n",
       " [0.0, 18.0, 120.0, 1.0, 0.0, 0.0, 0.0, 0.0, 3884.0],\n",
       " [0.0, 29.0, 130.0, 0.0, 1.0, 0.0, 0.0, 0.0, 3884.0],\n",
       " [0.0, 33.0, 117.0, 0.0, 0.0, 0.0, 0.0, 1.0, 3912.0],\n",
       " [0.0, 20.0, 170.0, 0.0, 1.0, 0.0, 0.0, 0.0, 3940.0],\n",
       " [0.0, 28.0, 134.0, 1.0, 0.0, 0.0, 0.0, 0.0, 3941.0],\n",
       " [0.0, 14.0, 135.0, 0.0, 0.0, 1.0, 0.0, 0.0, 3941.0],\n",
       " [0.0, 28.0, 130.0, 1.0, 0.0, 0.0, 0.0, 0.0, 3969.0],\n",
       " [0.0, 25.0, 120.0, 0.0, 0.0, 0.0, 0.0, 0.0, 3983.0],\n",
       " [0.0, 16.0, 135.0, 1.0, 0.0, 0.0, 0.0, 0.0, 3997.0],\n",
       " [0.0, 20.0, 158.0, 0.0, 0.0, 0.0, 0.0, 0.0, 3997.0],\n",
       " [0.0, 26.0, 160.0, 0.0, 0.0, 0.0, 0.0, 0.0, 4054.0],\n",
       " [0.0, 21.0, 115.0, 0.0, 0.0, 0.0, 0.0, 0.0, 4054.0],\n",
       " [0.0, 22.0, 129.0, 0.0, 0.0, 0.0, 0.0, 0.0, 4111.0],\n",
       " [0.0, 25.0, 130.0, 0.0, 0.0, 0.0, 0.0, 0.0, 4153.0],\n",
       " [0.0, 31.0, 120.0, 0.0, 0.0, 0.0, 0.0, 0.0, 4167.0],\n",
       " [0.0, 35.0, 170.0, 0.0, 0.0, 1.0, 0.0, 0.0, 4174.0],\n",
       " [0.0, 19.0, 120.0, 0.0, 1.0, 0.0, 1.0, 0.0, 4238.0],\n",
       " [0.0, 24.0, 216.0, 0.0, 0.0, 0.0, 0.0, 0.0, 4593.0],\n",
       " [0.0, 45.0, 123.0, 0.0, 0.0, 1.0, 0.0, 0.0, 4990.0]]"
      ]
     },
     "execution_count": 69,
     "metadata": {},
     "output_type": "execute_result"
    }
   ],
   "source": [
    "birth_data = [[float(x) for x in y.split(\"\\t\") if len(x)>=1] for y in birth_data[1:] if len(y)>=1] ##con esta linea se obtiene los datos limpios fila por fila\n",
    "birth_data"
   ]
  },
  {
   "cell_type": "code",
   "execution_count": 70,
   "metadata": {},
   "outputs": [
    {
     "data": {
      "text/plain": [
       "189"
      ]
     },
     "execution_count": 70,
     "metadata": {},
     "output_type": "execute_result"
    }
   ],
   "source": [
    "len(birth_data)"
   ]
  },
  {
   "cell_type": "code",
   "execution_count": 71,
   "metadata": {},
   "outputs": [],
   "source": [
    "x_vals = np.array([x[1:8] for x in birth_data])\n",
    "y_vals = np.array([x[8] for x in birth_data])"
   ]
  },
  {
   "cell_type": "markdown",
   "metadata": {},
   "source": [
    "## se define la semilla de aleatoriedad"
   ]
  },
  {
   "cell_type": "code",
   "execution_count": 72,
   "metadata": {},
   "outputs": [],
   "source": [
    "seed = 2019\n",
    "tf.set_random_seed(seed)\n",
    "np.random.seed(seed)\n",
    "batch_size = 100"
   ]
  },
  {
   "cell_type": "markdown",
   "metadata": {},
   "source": [
    "## se separan los datos en conjunto de entrenamiento y test"
   ]
  },
  {
   "cell_type": "code",
   "execution_count": 73,
   "metadata": {},
   "outputs": [],
   "source": [
    "train_index = np.random.choice(len(x_vals), round(len(x_vals)*0.8), replace=False)\n",
    "test_index = np.array(list(set(range(len(x_vals)))-set(train_index)))\n",
    "x_vals_train = x_vals[train_index]\n",
    "y_vals_train = y_vals[train_index]\n",
    "x_vals_test = x_vals[test_index]\n",
    "y_vals_test = y_vals[test_index]"
   ]
  },
  {
   "cell_type": "markdown",
   "metadata": {},
   "source": [
    "## normalizacion de los datos"
   ]
  },
  {
   "cell_type": "code",
   "execution_count": 74,
   "metadata": {},
   "outputs": [],
   "source": [
    "def normalize_cols(m, col_min = np.array([None]), col_max=np.array([None])):\n",
    "    if not col_min[0]:\n",
    "        col_min = m.min(axis=0)\n",
    "    if not col_max[0]:\n",
    "        col_max = m.max(axis=0)\n",
    "    return (m-col_min)/(col_max-col_min), col_min, col_max"
   ]
  },
  {
   "cell_type": "code",
   "execution_count": 75,
   "metadata": {},
   "outputs": [],
   "source": [
    "x_vals_train, train_min, train_max = np.nan_to_num(normalize_cols(x_vals_train))\n",
    "x_vals_test,_,_ = np.nan_to_num(normalize_cols(x_vals_test, train_min, train_max))"
   ]
  },
  {
   "cell_type": "markdown",
   "metadata": {},
   "source": [
    "## funciones para definir pesos y bias (se hace asi para no andar escribiendo lo mismo todo el tiempo)"
   ]
  },
  {
   "cell_type": "code",
   "execution_count": 76,
   "metadata": {},
   "outputs": [],
   "source": [
    "def init_weight(shape, st_dev):\n",
    "    weight = tf.Variable(tf.random_normal(shape=shape, stddev=st_dev))\n",
    "    return(weight)\n",
    "\n",
    "def init_bias(shape, st_dev):\n",
    "    bias = tf.Variable(tf.random_normal(shape=shape, stddev=st_dev))\n",
    "    return(bias)"
   ]
  },
  {
   "cell_type": "markdown",
   "metadata": {},
   "source": [
    "## se definene los placeholders"
   ]
  },
  {
   "cell_type": "code",
   "execution_count": 77,
   "metadata": {},
   "outputs": [],
   "source": [
    "x_data = tf.placeholder(shape=[None, 7], dtype= tf.float32)\n",
    "y_target = tf.placeholder(shape=[None, 1], dtype= tf.float32)"
   ]
  },
  {
   "cell_type": "markdown",
   "metadata": {},
   "source": [
    "## se define la operacion (se hace asi para no andar escribiendo lo mismo todo el tiempo)"
   ]
  },
  {
   "cell_type": "code",
   "execution_count": 78,
   "metadata": {},
   "outputs": [],
   "source": [
    "def full_connected(input_layer, weights, biases):\n",
    "    layer = tf.add(tf.matmul(input_layer, weights), biases)\n",
    "    return(layer)"
   ]
  },
  {
   "cell_type": "markdown",
   "metadata": {},
   "source": [
    "### reduccion de datos(nota: se elige arbitrariamente): \n",
    "\n",
    "    \n",
    "    -capa 1 = entrada=7 datos  ; salida=25 datos ; por lo tanto 7*25+25=200 variables\n",
    "    -capa 2 = entrada=25 datos ; salida=10 datos ; por lo tanto 25*10+10 = 260 variables\n",
    "    -capa 3 = entrada=10 datos ; salida=3 datos  ; por lo tanto 10*3+3 = 33 variables\n",
    "    -capa 4 = entrada=3 datos  ; salida=1 dato   ; por lo tanto 3*1+1 = 4 variables\n",
    "    \n",
    "en total la red neuronal tiene que estimar 200+260+33+4 = 497 variables"
   ]
  },
  {
   "cell_type": "markdown",
   "metadata": {},
   "source": [
    "## construccion de capas"
   ]
  },
  {
   "cell_type": "code",
   "execution_count": 79,
   "metadata": {},
   "outputs": [],
   "source": [
    "# capa 1 = entrada=7 datos  ; salida=25 datos\n",
    "w1 = init_weight(shape=[7,25], st_dev=10.0)\n",
    "b1 = init_bias(shape=[25], st_dev=10.0)\n",
    "layer1 = full_connected(x_data, w1, b1)\n",
    "\n",
    "# capa 2 = entrada=25 datos ; salida=10 datos\n",
    "w2 = init_weight(shape=[25,10], st_dev=10.0)\n",
    "b2 = init_bias(shape=[10], st_dev=10.0)\n",
    "layer2 = full_connected(layer1, w2, b2)\n",
    "\n",
    "# capa 3 = entrada=10 datos ; salida=3 datos\n",
    "w3 = init_weight(shape=[10,3], st_dev=10.0)\n",
    "b3 = init_bias(shape=[3], st_dev=10.0)\n",
    "layer3 = full_connected(layer2, w3, b3)\n",
    "\n",
    "# capa 4 = entrada=3 datos  ; salida=1 dato \n",
    "w4 = init_weight(shape=[3,1], st_dev=10.0)\n",
    "b4 = init_bias(shape=[1], st_dev=10.0)\n",
    "layer4 = full_connected(layer3, w4, b4)"
   ]
  },
  {
   "cell_type": "markdown",
   "metadata": {},
   "source": [
    "## funcion de perdida"
   ]
  },
  {
   "cell_type": "code",
   "execution_count": 80,
   "metadata": {},
   "outputs": [],
   "source": [
    "loss = tf.reduce_mean(tf.abs(y_target-layer4))"
   ]
  },
  {
   "cell_type": "markdown",
   "metadata": {},
   "source": [
    "## optimizador"
   ]
  },
  {
   "cell_type": "code",
   "execution_count": 81,
   "metadata": {},
   "outputs": [],
   "source": [
    "optimizador = tf.train.AdamOptimizer(learning_rate=0.05)\n",
    "train_step = optimizador.minimize(loss)"
   ]
  },
  {
   "cell_type": "markdown",
   "metadata": {},
   "source": [
    "## inicializan variables"
   ]
  },
  {
   "cell_type": "code",
   "execution_count": 82,
   "metadata": {},
   "outputs": [],
   "source": [
    "init = tf.global_variables_initializer()\n",
    "session.run(init)"
   ]
  },
  {
   "cell_type": "markdown",
   "metadata": {},
   "source": [
    "## entrenamiento del modelo"
   ]
  },
  {
   "cell_type": "code",
   "execution_count": 83,
   "metadata": {},
   "outputs": [
    {
     "name": "stdout",
     "output_type": "stream",
     "text": [
      "paso=25, loss=19638.654\n",
      "paso=50, loss=5281.0737\n",
      "paso=75, loss=1081.7251\n",
      "paso=100, loss=752.5994\n",
      "paso=125, loss=1206.4\n",
      "paso=150, loss=1017.2442\n",
      "paso=175, loss=2367.9639\n",
      "paso=200, loss=990.2377\n",
      "paso=225, loss=615.92365\n",
      "paso=250, loss=857.9517\n",
      "paso=275, loss=724.70306\n",
      "paso=300, loss=892.7468\n"
     ]
    }
   ],
   "source": [
    "train_loss = []\n",
    "test_loss = []\n",
    "for i in range(300):\n",
    "    rand_index = np.random.choice(len(x_vals_train), size = batch_size)\n",
    "    rand_x = x_vals_train[rand_index]\n",
    "    rand_y = np.transpose([y_vals_train[rand_index]])\n",
    "    \n",
    "    session.run(train_step, feed_dict={x_data:rand_x, y_target:rand_y})\n",
    "    \n",
    "    temp_loss_train = session.run(loss, feed_dict={x_data:rand_x, y_target:rand_y})\n",
    "    train_loss.append(temp_loss_train)\n",
    "    \n",
    "    temp_loss_test = session.run(loss, feed_dict={x_data:x_vals_test, y_target:np.transpose([y_vals_test])})\n",
    "    test_loss.append(temp_loss_test)\n",
    "    \n",
    "    if(i+1)%25==0:\n",
    "        print(\"paso=\"+str(i+1)+ \", loss=\"+str(temp_loss_train))"
   ]
  },
  {
   "cell_type": "markdown",
   "metadata": {},
   "source": [
    "## grafico de funcion de perdidas"
   ]
  },
  {
   "cell_type": "code",
   "execution_count": 84,
   "metadata": {},
   "outputs": [
    {
     "data": {
      "image/png": "[encoded data removed]",
      "text/plain": [
       "<Figure size 432x288 with 1 Axes>"
      ]
     },
     "metadata": {
      "needs_background": "light"
     },
     "output_type": "display_data"
    }
   ],
   "source": [
    "plt.plot(train_loss, \"b-\", label=\"perdidas en entrenamiento\")\n",
    "plt.plot(test_loss, \"r-.\", label=\"perdidas en test\")\n",
    "plt.xlabel(\"iteracion\")\n",
    "plt.ylabel(\"loss\")\n",
    "plt.legend(loc=\"upper right\")\n",
    "plt.show()"
   ]
  },
  {
   "cell_type": "markdown",
   "metadata": {},
   "source": [
    "## porcentaje de aciertos en train y test"
   ]
  },
  {
   "cell_type": "code",
   "execution_count": 89,
   "metadata": {},
   "outputs": [],
   "source": [
    "actuals = np.array([x[0] for x in birth_data])\n",
    "train_actuals = actuals[train_index]\n",
    "test_actuals = actuals[test_index]\n",
    "\n",
    "train_preds = [x[0] for x in session.run(layer4, feed_dict={x_data:x_vals_train})]\n",
    "train_preds = np.array([1.0 if x<2500.0 else 0.0 for x in train_preds])\n",
    "\n",
    "test_preds = [x[0] for x in session.run(layer4, feed_dict={x_data:x_vals_test})]\n",
    "test_preds = np.array([1.0 if x<2500.0 else 0.0 for x in test_preds])"
   ]
  },
  {
   "cell_type": "code",
   "execution_count": 90,
   "metadata": {},
   "outputs": [],
   "source": [
    "train_acc = np.mean([x==y for x,y in zip(train_preds, train_actuals)])\n",
    "test_acc = np.mean([x==y for x,y in zip(test_preds, test_actuals)])"
   ]
  },
  {
   "cell_type": "code",
   "execution_count": 91,
   "metadata": {},
   "outputs": [
    {
     "data": {
      "text/plain": [
       "0.6026490066225165"
      ]
     },
     "execution_count": 91,
     "metadata": {},
     "output_type": "execute_result"
    }
   ],
   "source": [
    "train_acc # porcentaje de aciertos en train"
   ]
  },
  {
   "cell_type": "code",
   "execution_count": 92,
   "metadata": {},
   "outputs": [
    {
     "data": {
      "text/plain": [
       "0.5"
      ]
     },
     "execution_count": 92,
     "metadata": {},
     "output_type": "execute_result"
    }
   ],
   "source": [
    "test_acc # porcentaje de aciertos en test"
   ]
  },
  {
   "cell_type": "code",
   "execution_count": null,
   "metadata": {},
   "outputs": [],
   "source": []
  }
 ],
 "metadata": {
  "kernelspec": {
   "display_name": "Python 3",
   "language": "python",
   "name": "python3"
  },
  "language_info": {
   "codemirror_mode": {
    "name": "ipython",
    "version": 3
   },
   "file_extension": ".py",
   "mimetype": "text/x-python",
   "name": "python",
   "nbconvert_exporter": "python",
   "pygments_lexer": "ipython3",
   "version": "3.7.1"
  }
 },
 "nbformat": 4,
 "nbformat_minor": 2
}
