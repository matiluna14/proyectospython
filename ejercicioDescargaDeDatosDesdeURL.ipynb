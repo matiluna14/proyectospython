{
 "cells": [
  {
   "cell_type": "code",
   "execution_count": 24,
   "metadata": {},
   "outputs": [],
   "source": [
    "url = \"http://winterolympicsmedals.com/medals.csv\""
   ]
  },
  {
   "cell_type": "code",
   "execution_count": 25,
   "metadata": {},
   "outputs": [],
   "source": [
    "import pandas as pd"
   ]
  },
  {
   "cell_type": "code",
   "execution_count": 26,
   "metadata": {},
   "outputs": [
    {
     "name": "stdout",
     "output_type": "stream",
     "text": [
      "200\n"
     ]
    }
   ],
   "source": [
    "## primero importamos la libreria y hacemos la conexión con la web de datos\n",
    "import urllib3\n",
    "http = urllib3.PoolManager()\n",
    "r = http.request('GET', url)\n",
    "estadoRespuesta = r.status\n",
    "datosRespuesta = r.data\n",
    "\n",
    "## imprimimos el estado de la respuesta para verificar que todo anduvo bien, si el estado es 200 es correcto\n",
    "print(estadoRespuesta)\n"
   ]
  },
  {
   "cell_type": "code",
   "execution_count": 27,
   "metadata": {},
   "outputs": [],
   "source": [
    "## el objeto datosRespuesta contiene un string binario, asi que lo convertimos a un string decodificandolo en utf-8\n",
    "str_data = datosRespuesta.decode('utf-8')"
   ]
  },
  {
   "cell_type": "code",
   "execution_count": 28,
   "metadata": {},
   "outputs": [],
   "source": [
    "## dividimos el string en un arreglo de filas, separandolo por intros\n",
    "filas = str_data.split(\"\\n\")"
   ]
  },
  {
   "cell_type": "code",
   "execution_count": 29,
   "metadata": {},
   "outputs": [],
   "source": [
    "## la primera linea contiene la cabecera, asi que la extraemos\n",
    "col_names = filas[0].split(',')\n",
    "num_cols = len(col_names)"
   ]
  },
  {
   "cell_type": "code",
   "execution_count": 30,
   "metadata": {},
   "outputs": [],
   "source": [
    "## generamos un diccionario vacio donde se irá almacenando la informacion procesada desde la url externa\n",
    "counter = 0\n",
    "main_dict = {}\n",
    "for col in col_names:\n",
    "    main_dict[col] = []\n",
    "    "
   ]
  },
  {
   "cell_type": "code",
   "execution_count": 31,
   "metadata": {},
   "outputs": [],
   "source": [
    "## procesamos fila a fila la informacion para ir rellenando el diccionario\n",
    "for fila in filas:\n",
    "    ## nos saltamos la primera fila, porque es la que tiene la cabecera que ya hemos procesado\n",
    "    if (counter>0):\n",
    "        ## dividimos cada fila por la coma como elemento separador\n",
    "        values = fila.strip().split(\",\")\n",
    "        ## añadimos vada valor a su respectiva columna en el diccionario\n",
    "        for i in range(num_cols):\n",
    "            main_dict[col_names[i]].append(values[i])\n",
    "    counter += 1"
   ]
  },
  {
   "cell_type": "code",
   "execution_count": 32,
   "metadata": {},
   "outputs": [
    {
     "name": "stdout",
     "output_type": "stream",
     "text": [
      "   Year      City       Sport      Discipline  NOC       Event Event gender  \\\n",
      "0  1924  Chamonix     Skating  Figure skating  AUT  individual            M   \n",
      "1  1924  Chamonix     Skating  Figure skating  AUT  individual            W   \n",
      "2  1924  Chamonix     Skating  Figure skating  AUT       pairs            X   \n",
      "3  1924  Chamonix   Bobsleigh       Bobsleigh  BEL    four-man            M   \n",
      "4  1924  Chamonix  Ice Hockey      Ice Hockey  CAN  ice hockey            M   \n",
      "\n",
      "    Medal  \n",
      "0  Silver  \n",
      "1    Gold  \n",
      "2    Gold  \n",
      "3  Bronze  \n",
      "4    Gold  \n"
     ]
    }
   ],
   "source": [
    "## convertimos el diccionario a dataframe \n",
    "df = pd.DataFrame(main_dict)\n",
    "print(df.head())"
   ]
  },
  {
   "cell_type": "code",
   "execution_count": 33,
   "metadata": {},
   "outputs": [],
   "source": [
    "## guardamos el dataset en nuestra pc en el formato que queramos, en este caso lo guardaré en csv, excel y json\n",
    "df.to_csv(\"medallasOlimpicas.csv\")\n",
    "df.to_excel(\"medallasOlimpicas.xls\")\n",
    "df.to_json(\"medallasOlimpicas.json\")\n"
   ]
  },
  {
   "cell_type": "code",
   "execution_count": null,
   "metadata": {},
   "outputs": [],
   "source": []
  }
 ],
 "metadata": {
  "kernelspec": {
   "display_name": "Python 3",
   "language": "python",
   "name": "python3"
  },
  "language_info": {
   "codemirror_mode": {
    "name": "ipython",
    "version": 3
   },
   "file_extension": ".py",
   "mimetype": "text/x-python",
   "name": "python",
   "nbconvert_exporter": "python",
   "pygments_lexer": "ipython3",
   "version": "3.7.1"
  }
 },
 "nbformat": 4,
 "nbformat_minor": 2
}
