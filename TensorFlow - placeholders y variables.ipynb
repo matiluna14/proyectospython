{
 "cells": [
  {
   "cell_type": "code",
   "execution_count": 1,
   "metadata": {},
   "outputs": [],
   "source": [
    "import tensorflow as tf"
   ]
  },
  {
   "cell_type": "markdown",
   "metadata": {},
   "source": [
    "### variables\n",
    "    - parametros del modelo, TensorFlow los utiliza para optimizar el resultado de nuestro modelo.\n",
    "    - tener en cuenta que una variable siempre se crea a partir de un tensor."
   ]
  },
  {
   "cell_type": "code",
   "execution_count": 4,
   "metadata": {},
   "outputs": [],
   "source": [
    "my_var = tf.Variable(tf.zeros([3,4])) ##crea una variable a partir del tensor zeros de 3 filas y 4 columnas\n",
    "session = tf.Session() ## se inicia session\n",
    "inits = tf.global_variables_initializer() ## se inicializan las variables\n",
    "session.run(inits) ## se ejecuta para que se inicialicen las variables."
   ]
  },
  {
   "cell_type": "markdown",
   "metadata": {},
   "source": [
    "### placeholders\n",
    "    - objeto que recibe datos de un tipo y tamaño concretos."
   ]
  },
  {
   "cell_type": "code",
   "execution_count": 9,
   "metadata": {},
   "outputs": [
    {
     "data": {
      "text/plain": [
       "array([[0.39476601, 0.79396272],\n",
       "       [0.16942858, 0.24826954]])"
      ]
     },
     "execution_count": 9,
     "metadata": {},
     "output_type": "execute_result"
    }
   ],
   "source": [
    "import numpy as np\n",
    "x_vals = np.random.rand(2,2) ## se crea una matriz de 2 filas y 2 columnas\n",
    "x_vals"
   ]
  },
  {
   "cell_type": "code",
   "execution_count": 10,
   "metadata": {},
   "outputs": [
    {
     "data": {
      "text/plain": [
       "array([[0.394766  , 0.7939627 ],\n",
       "       [0.16942857, 0.24826954]], dtype=float32)"
      ]
     },
     "execution_count": 10,
     "metadata": {},
     "output_type": "execute_result"
    }
   ],
   "source": [
    "session = tf.Session()\n",
    "x = tf.placeholder(tf.float32, shape=[2,2]) ## se crea el placeholder \"x\" de 2 filas y 2 columnas\n",
    "y = tf.identity(x) ## la funcion identity es necesaria porque es la que lleva a cabo la operacion\n",
    "session.run(y, feed_dict={x:x_vals}) ## aqui es donde ocurre el vinculo donde los \"x_vals\"  se asignan al placeholder \"x\""
   ]
  },
  {
   "cell_type": "code",
   "execution_count": null,
   "metadata": {},
   "outputs": [],
   "source": []
  }
 ],
 "metadata": {
  "kernelspec": {
   "display_name": "Python 3",
   "language": "python",
   "name": "python3"
  },
  "language_info": {
   "codemirror_mode": {
    "name": "ipython",
    "version": 3
   },
   "file_extension": ".py",
   "mimetype": "text/x-python",
   "name": "python",
   "nbconvert_exporter": "python",
   "pygments_lexer": "ipython3",
   "version": "3.7.1"
  }
 },
 "nbformat": 4,
 "nbformat_minor": 2
}
