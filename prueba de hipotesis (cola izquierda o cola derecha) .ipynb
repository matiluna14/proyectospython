{
 "cells": [
  {
   "cell_type": "code",
   "execution_count": 210,
   "metadata": {},
   "outputs": [],
   "source": [
    "import pandas as pd\n",
    "import numpy as np\n",
    "import math\n",
    "import statsmodels.formula.api as smf\n",
    "from scipy.special import ndtr\n"
   ]
  },
  {
   "cell_type": "code",
   "execution_count": 257,
   "metadata": {},
   "outputs": [],
   "source": [
    "##datos del problema\n",
    "x_media = 520\n",
    "u_promedioTeorico = 500\n",
    "n=256\n",
    "desviacionTipica = 80.7\n",
    "nivelSignificancia = 0.01\n",
    "tipoCola=\"derecha\""
   ]
  },
  {
   "cell_type": "code",
   "execution_count": 258,
   "metadata": {},
   "outputs": [],
   "source": [
    "##funcion para obtener el pvalor\n",
    "def funcionPvalor(n, x_media, u_promedioTeorico, desviacionTipica, tipoCola): ##función para obtener el pvalor \n",
    "    raiz_n = math.sqrt(n)\n",
    "    z = ( (x_media - u_promedioTeorico) / (desviacionTipica / raiz_n) )\n",
    "    print(z)\n",
    "    \n",
    "    valorAcumuladoZ=ndtr(z)\n",
    "    print(\"zona aceptacion: \",valorAcumuladoZ)\n",
    "    \n",
    "    if(tipoCola==\"derecha\"):\n",
    "        pvalor = (1-valorAcumuladoZ)\n",
    "    else: ##si pasa por acá es cola izquierda\n",
    "        pvalor = (valorAcumuladoZ)\n",
    "\n",
    "    print(\"el pvalor es(zona rechazo): \",pvalor)\n",
    "    return pvalor"
   ]
  },
  {
   "cell_type": "code",
   "execution_count": 259,
   "metadata": {},
   "outputs": [
    {
     "name": "stdout",
     "output_type": "stream",
     "text": [
      "3.9653035935563814\n",
      "zona aceptacion:  0.9999633487053539\n",
      "el pvalor es(zona rechazo):  3.6651294646139476e-05\n"
     ]
    }
   ],
   "source": [
    "pvalor=funcionPvalor(n,x_media,u_promedioTeorico,desviacionTipica,tipoCola)"
   ]
  },
  {
   "cell_type": "code",
   "execution_count": 260,
   "metadata": {},
   "outputs": [],
   "source": [
    "## funcion que compara el pvalor con el nivel de significancia para saber si se acepta o se rechaza la hipotesis nula\n",
    "def funcionContrasteHipotesis(pvalor,nivelSignificancia):\n",
    "    if (pvalor <= nivelSignificancia ):     \n",
    "        conclusion = \"se rechaza H0 y se acepta H1\"\n",
    "    else:\n",
    "        conclusion = \"se acepta H0\"\n",
    "    \n",
    "    return conclusion\n",
    "        \n",
    " \n",
    "    \n",
    "    \n"
   ]
  },
  {
   "cell_type": "code",
   "execution_count": 261,
   "metadata": {},
   "outputs": [
    {
     "name": "stdout",
     "output_type": "stream",
     "text": [
      "se rechaza H0 y se acepta H1\n"
     ]
    }
   ],
   "source": [
    "mensaje=funcionContrasteHipotesis(pvalor,nivelSignificancia)\n",
    "print(mensaje)"
   ]
  },
  {
   "cell_type": "code",
   "execution_count": null,
   "metadata": {},
   "outputs": [],
   "source": []
  }
 ],
 "metadata": {
  "kernelspec": {
   "display_name": "Python 3",
   "language": "python",
   "name": "python3"
  },
  "language_info": {
   "codemirror_mode": {
    "name": "ipython",
    "version": 3
   },
   "file_extension": ".py",
   "mimetype": "text/x-python",
   "name": "python",
   "nbconvert_exporter": "python",
   "pygments_lexer": "ipython3",
   "version": "3.7.1"
  }
 },
 "nbformat": 4,
 "nbformat_minor": 2
}
