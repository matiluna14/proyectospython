{
 "cells": [
  {
   "cell_type": "markdown",
   "metadata": {},
   "source": [
    "# regresión lineal simple en python\n",
    "## el paquete statsmodel para regresión lineal"
   ]
  },
  {
   "cell_type": "code",
   "execution_count": 36,
   "metadata": {},
   "outputs": [],
   "source": [
    "import pandas as pd\n",
    "import numpy as np"
   ]
  },
  {
   "cell_type": "code",
   "execution_count": 37,
   "metadata": {},
   "outputs": [],
   "source": [
    "data = pd.read_csv(\"Advertising.csv\")"
   ]
  },
  {
   "cell_type": "code",
   "execution_count": 38,
   "metadata": {},
   "outputs": [
    {
     "data": {
      "text/html": [
       "<div>\n",
       "<style scoped>\n",
       "    .dataframe tbody tr th:only-of-type {\n",
       "        vertical-align: middle;\n",
       "    }\n",
       "\n",
       "    .dataframe tbody tr th {\n",
       "        vertical-align: top;\n",
       "    }\n",
       "\n",
       "    .dataframe thead th {\n",
       "        text-align: right;\n",
       "    }\n",
       "</style>\n",
       "<table border=\"1\" class=\"dataframe\">\n",
       "  <thead>\n",
       "    <tr style=\"text-align: right;\">\n",
       "      <th></th>\n",
       "      <th>TV</th>\n",
       "      <th>Radio</th>\n",
       "      <th>Newspaper</th>\n",
       "      <th>Sales</th>\n",
       "    </tr>\n",
       "  </thead>\n",
       "  <tbody>\n",
       "    <tr>\n",
       "      <th>0</th>\n",
       "      <td>230.1</td>\n",
       "      <td>37.8</td>\n",
       "      <td>69.2</td>\n",
       "      <td>22.1</td>\n",
       "    </tr>\n",
       "    <tr>\n",
       "      <th>1</th>\n",
       "      <td>44.5</td>\n",
       "      <td>39.3</td>\n",
       "      <td>45.1</td>\n",
       "      <td>10.4</td>\n",
       "    </tr>\n",
       "    <tr>\n",
       "      <th>2</th>\n",
       "      <td>17.2</td>\n",
       "      <td>45.9</td>\n",
       "      <td>69.3</td>\n",
       "      <td>9.3</td>\n",
       "    </tr>\n",
       "    <tr>\n",
       "      <th>3</th>\n",
       "      <td>151.5</td>\n",
       "      <td>41.3</td>\n",
       "      <td>58.5</td>\n",
       "      <td>18.5</td>\n",
       "    </tr>\n",
       "    <tr>\n",
       "      <th>4</th>\n",
       "      <td>180.8</td>\n",
       "      <td>10.8</td>\n",
       "      <td>58.4</td>\n",
       "      <td>12.9</td>\n",
       "    </tr>\n",
       "  </tbody>\n",
       "</table>\n",
       "</div>"
      ],
      "text/plain": [
       "      TV  Radio  Newspaper  Sales\n",
       "0  230.1   37.8       69.2   22.1\n",
       "1   44.5   39.3       45.1   10.4\n",
       "2   17.2   45.9       69.3    9.3\n",
       "3  151.5   41.3       58.5   18.5\n",
       "4  180.8   10.8       58.4   12.9"
      ]
     },
     "execution_count": 38,
     "metadata": {},
     "output_type": "execute_result"
    }
   ],
   "source": [
    "data.head()"
   ]
  },
  {
   "cell_type": "code",
   "execution_count": 39,
   "metadata": {},
   "outputs": [],
   "source": [
    "import statsmodels.formula.api as smf"
   ]
  },
  {
   "cell_type": "code",
   "execution_count": 40,
   "metadata": {},
   "outputs": [],
   "source": [
    "lm = smf.ols(formula=\"Sales~TV\", data=data).fit() ##predecir las ventas en función de la TV, utilizando como dataset el dataset al que llamamos \"data\""
   ]
  },
  {
   "cell_type": "code",
   "execution_count": 41,
   "metadata": {},
   "outputs": [
    {
     "data": {
      "text/plain": [
       "Intercept    7.032594\n",
       "TV           0.047537\n",
       "dtype: float64"
      ]
     },
     "execution_count": 41,
     "metadata": {},
     "output_type": "execute_result"
    }
   ],
   "source": [
    "lm.params"
   ]
  },
  {
   "cell_type": "markdown",
   "metadata": {},
   "source": [
    "el modelo lineal predictivo sería:\n",
    "Sales = 7.032594 + 0.047537 * TV"
   ]
  },
  {
   "cell_type": "code",
   "execution_count": 42,
   "metadata": {},
   "outputs": [
    {
     "data": {
      "text/html": [
       "<table class=\"simpletable\">\n",
       "<caption>OLS Regression Results</caption>\n",
       "<tr>\n",
       "  <th>Dep. Variable:</th>          <td>Sales</td>      <th>  R-squared:         </th> <td>   0.612</td>\n",
       "</tr>\n",
       "<tr>\n",
       "  <th>Model:</th>                   <td>OLS</td>       <th>  Adj. R-squared:    </th> <td>   0.610</td>\n",
       "</tr>\n",
       "<tr>\n",
       "  <th>Method:</th>             <td>Least Squares</td>  <th>  F-statistic:       </th> <td>   312.1</td>\n",
       "</tr>\n",
       "<tr>\n",
       "  <th>Date:</th>             <td>Sat, 23 Mar 2019</td> <th>  Prob (F-statistic):</th> <td>1.47e-42</td>\n",
       "</tr>\n",
       "<tr>\n",
       "  <th>Time:</th>                 <td>16:47:41</td>     <th>  Log-Likelihood:    </th> <td> -519.05</td>\n",
       "</tr>\n",
       "<tr>\n",
       "  <th>No. Observations:</th>      <td>   200</td>      <th>  AIC:               </th> <td>   1042.</td>\n",
       "</tr>\n",
       "<tr>\n",
       "  <th>Df Residuals:</th>          <td>   198</td>      <th>  BIC:               </th> <td>   1049.</td>\n",
       "</tr>\n",
       "<tr>\n",
       "  <th>Df Model:</th>              <td>     1</td>      <th>                     </th>     <td> </td>   \n",
       "</tr>\n",
       "<tr>\n",
       "  <th>Covariance Type:</th>      <td>nonrobust</td>    <th>                     </th>     <td> </td>   \n",
       "</tr>\n",
       "</table>\n",
       "<table class=\"simpletable\">\n",
       "<tr>\n",
       "      <td></td>         <th>coef</th>     <th>std err</th>      <th>t</th>      <th>P>|t|</th>  <th>[0.025</th>    <th>0.975]</th>  \n",
       "</tr>\n",
       "<tr>\n",
       "  <th>Intercept</th> <td>    7.0326</td> <td>    0.458</td> <td>   15.360</td> <td> 0.000</td> <td>    6.130</td> <td>    7.935</td>\n",
       "</tr>\n",
       "<tr>\n",
       "  <th>TV</th>        <td>    0.0475</td> <td>    0.003</td> <td>   17.668</td> <td> 0.000</td> <td>    0.042</td> <td>    0.053</td>\n",
       "</tr>\n",
       "</table>\n",
       "<table class=\"simpletable\">\n",
       "<tr>\n",
       "  <th>Omnibus:</th>       <td> 0.531</td> <th>  Durbin-Watson:     </th> <td>   1.935</td>\n",
       "</tr>\n",
       "<tr>\n",
       "  <th>Prob(Omnibus):</th> <td> 0.767</td> <th>  Jarque-Bera (JB):  </th> <td>   0.669</td>\n",
       "</tr>\n",
       "<tr>\n",
       "  <th>Skew:</th>          <td>-0.089</td> <th>  Prob(JB):          </th> <td>   0.716</td>\n",
       "</tr>\n",
       "<tr>\n",
       "  <th>Kurtosis:</th>      <td> 2.779</td> <th>  Cond. No.          </th> <td>    338.</td>\n",
       "</tr>\n",
       "</table><br/><br/>Warnings:<br/>[1] Standard Errors assume that the covariance matrix of the errors is correctly specified."
      ],
      "text/plain": [
       "<class 'statsmodels.iolib.summary.Summary'>\n",
       "\"\"\"\n",
       "                            OLS Regression Results                            \n",
       "==============================================================================\n",
       "Dep. Variable:                  Sales   R-squared:                       0.612\n",
       "Model:                            OLS   Adj. R-squared:                  0.610\n",
       "Method:                 Least Squares   F-statistic:                     312.1\n",
       "Date:                Sat, 23 Mar 2019   Prob (F-statistic):           1.47e-42\n",
       "Time:                        16:47:41   Log-Likelihood:                -519.05\n",
       "No. Observations:                 200   AIC:                             1042.\n",
       "Df Residuals:                     198   BIC:                             1049.\n",
       "Df Model:                           1                                         \n",
       "Covariance Type:            nonrobust                                         \n",
       "==============================================================================\n",
       "                 coef    std err          t      P>|t|      [0.025      0.975]\n",
       "------------------------------------------------------------------------------\n",
       "Intercept      7.0326      0.458     15.360      0.000       6.130       7.935\n",
       "TV             0.0475      0.003     17.668      0.000       0.042       0.053\n",
       "==============================================================================\n",
       "Omnibus:                        0.531   Durbin-Watson:                   1.935\n",
       "Prob(Omnibus):                  0.767   Jarque-Bera (JB):                0.669\n",
       "Skew:                          -0.089   Prob(JB):                        0.716\n",
       "Kurtosis:                       2.779   Cond. No.                         338.\n",
       "==============================================================================\n",
       "\n",
       "Warnings:\n",
       "[1] Standard Errors assume that the covariance matrix of the errors is correctly specified.\n",
       "\"\"\""
      ]
     },
     "execution_count": 42,
     "metadata": {},
     "output_type": "execute_result"
    }
   ],
   "source": [
    "lm.summary()"
   ]
  },
  {
   "cell_type": "markdown",
   "metadata": {},
   "source": [
    "### Prob (F-statistic) es el \"p-valor general del modelo\"\n",
    "### F-statistic es el \"estadistico F\"\n",
    "### R-squared es el \"R2\"\n",
    "### p>|t| es el \"p-valor individual de la variable\""
   ]
  },
  {
   "cell_type": "code",
   "execution_count": 43,
   "metadata": {},
   "outputs": [
    {
     "data": {
      "text/plain": [
       "0      17.970775\n",
       "1       9.147974\n",
       "2       7.850224\n",
       "3      14.234395\n",
       "4      15.627218\n",
       "5       7.446162\n",
       "6       9.765950\n",
       "7      12.746498\n",
       "8       7.441409\n",
       "9      16.530414\n",
       "10     10.174765\n",
       "11     17.238710\n",
       "12      8.163966\n",
       "13     11.667416\n",
       "14     16.734822\n",
       "15     16.321253\n",
       "16     10.255578\n",
       "17     20.409404\n",
       "18     10.322129\n",
       "19     14.034741\n",
       "20     17.414596\n",
       "21     18.317792\n",
       "22      7.660077\n",
       "23     17.885209\n",
       "24      9.994126\n",
       "25     19.529976\n",
       "26     13.825579\n",
       "27     18.446141\n",
       "28     18.859710\n",
       "29     10.388680\n",
       "         ...    \n",
       "170     9.409426\n",
       "171    14.852371\n",
       "172     7.964312\n",
       "173    15.037764\n",
       "174    17.604742\n",
       "175    20.195489\n",
       "176    18.840695\n",
       "177    15.123330\n",
       "178    20.185982\n",
       "179    14.904661\n",
       "180    14.476831\n",
       "181    17.419349\n",
       "182     9.704153\n",
       "183    20.704131\n",
       "184    19.097393\n",
       "185    16.777605\n",
       "186    13.663955\n",
       "187    16.116846\n",
       "188    20.628073\n",
       "189     7.921529\n",
       "190     8.910291\n",
       "191    10.621610\n",
       "192     7.850224\n",
       "193    14.961705\n",
       "194    14.148829\n",
       "195     8.848493\n",
       "196    11.510545\n",
       "197    15.446579\n",
       "198    20.513985\n",
       "199    18.065848\n",
       "Length: 200, dtype: float64"
      ]
     },
     "execution_count": 43,
     "metadata": {},
     "output_type": "execute_result"
    }
   ],
   "source": [
    "## predicciones de \"Sales\" con respecto a la columna \"TV\" \n",
    "prediccion_sales = lm.predict(pd.DataFrame(data[\"TV\"])) ## se pasa como parámetro a la función \"lm.predict()\" solamente la columna TV \n",
    "prediccion_sales "
   ]
  },
  {
   "cell_type": "code",
   "execution_count": 44,
   "metadata": {},
   "outputs": [],
   "source": [
    "import matplotlib.pyplot as plt"
   ]
  },
  {
   "cell_type": "code",
   "execution_count": 45,
   "metadata": {},
   "outputs": [
    {
     "data": {
      "text/plain": [
       "[<matplotlib.lines.Line2D at 0x2617f910470>]"
      ]
     },
     "execution_count": 45,
     "metadata": {},
     "output_type": "execute_result"
    },
    {
     "data": {
      "image/png": "[encoded data removed]",
      "text/plain": [
       "<Figure size 432x288 with 1 Axes>"
      ]
     },
     "metadata": {
      "needs_background": "light"
     },
     "output_type": "display_data"
    }
   ],
   "source": [
    "%matplotlib inline\n",
    "data.plot(kind=\"scatter\", x=\"TV\", y=\"Sales\")\n",
    "plt.plot(pd.DataFrame(data[\"TV\"]), prediccion_sales, c=\"red\")"
   ]
  },
  {
   "cell_type": "markdown",
   "metadata": {},
   "source": [
    "la linea roja es el modelo que se obtuvo\n",
    "los puntos de color azul son los datos originales que presenta el dataset"
   ]
  },
  {
   "cell_type": "code",
   "execution_count": 46,
   "metadata": {},
   "outputs": [],
   "source": [
    "## se añade al dataset la columna de las predicciones del modelo.\n",
    "data[\"prediccion_sales\"] =  prediccion_sales"
   ]
  },
  {
   "cell_type": "code",
   "execution_count": 47,
   "metadata": {},
   "outputs": [
    {
     "data": {
      "text/html": [
       "<div>\n",
       "<style scoped>\n",
       "    .dataframe tbody tr th:only-of-type {\n",
       "        vertical-align: middle;\n",
       "    }\n",
       "\n",
       "    .dataframe tbody tr th {\n",
       "        vertical-align: top;\n",
       "    }\n",
       "\n",
       "    .dataframe thead th {\n",
       "        text-align: right;\n",
       "    }\n",
       "</style>\n",
       "<table border=\"1\" class=\"dataframe\">\n",
       "  <thead>\n",
       "    <tr style=\"text-align: right;\">\n",
       "      <th></th>\n",
       "      <th>TV</th>\n",
       "      <th>Radio</th>\n",
       "      <th>Newspaper</th>\n",
       "      <th>Sales</th>\n",
       "      <th>prediccion_sales</th>\n",
       "    </tr>\n",
       "  </thead>\n",
       "  <tbody>\n",
       "    <tr>\n",
       "      <th>0</th>\n",
       "      <td>230.1</td>\n",
       "      <td>37.8</td>\n",
       "      <td>69.2</td>\n",
       "      <td>22.1</td>\n",
       "      <td>17.970775</td>\n",
       "    </tr>\n",
       "    <tr>\n",
       "      <th>1</th>\n",
       "      <td>44.5</td>\n",
       "      <td>39.3</td>\n",
       "      <td>45.1</td>\n",
       "      <td>10.4</td>\n",
       "      <td>9.147974</td>\n",
       "    </tr>\n",
       "    <tr>\n",
       "      <th>2</th>\n",
       "      <td>17.2</td>\n",
       "      <td>45.9</td>\n",
       "      <td>69.3</td>\n",
       "      <td>9.3</td>\n",
       "      <td>7.850224</td>\n",
       "    </tr>\n",
       "    <tr>\n",
       "      <th>3</th>\n",
       "      <td>151.5</td>\n",
       "      <td>41.3</td>\n",
       "      <td>58.5</td>\n",
       "      <td>18.5</td>\n",
       "      <td>14.234395</td>\n",
       "    </tr>\n",
       "    <tr>\n",
       "      <th>4</th>\n",
       "      <td>180.8</td>\n",
       "      <td>10.8</td>\n",
       "      <td>58.4</td>\n",
       "      <td>12.9</td>\n",
       "      <td>15.627218</td>\n",
       "    </tr>\n",
       "  </tbody>\n",
       "</table>\n",
       "</div>"
      ],
      "text/plain": [
       "      TV  Radio  Newspaper  Sales  prediccion_sales\n",
       "0  230.1   37.8       69.2   22.1         17.970775\n",
       "1   44.5   39.3       45.1   10.4          9.147974\n",
       "2   17.2   45.9       69.3    9.3          7.850224\n",
       "3  151.5   41.3       58.5   18.5         14.234395\n",
       "4  180.8   10.8       58.4   12.9         15.627218"
      ]
     },
     "execution_count": 47,
     "metadata": {},
     "output_type": "execute_result"
    }
   ],
   "source": [
    "data.head()"
   ]
  },
  {
   "cell_type": "code",
   "execution_count": 48,
   "metadata": {},
   "outputs": [
    {
     "name": "stdout",
     "output_type": "stream",
     "text": [
      "la suma de los cuadrados de la diferencia es  2102.5305831313517\n",
      "error estándar residual es:  3.258656368650463\n",
      "el promedio de ventas del dataset original es:  14.022500000000003\n",
      "el error del modelo es:  0.23238768897489478\n"
     ]
    }
   ],
   "source": [
    "## se añade al dataset la columna de \"RSE\" error estándar residual\n",
    "data[\"RSE\"] = (data[\"Sales\"] - data[\"prediccion_sales\"])**2\n",
    "\n",
    "##suma de los cuadrados de los errores\n",
    "SSD = sum(data[\"RSE\"])\n",
    "print(\"la suma de los cuadrados de la diferencia es \",SSD)\n",
    "\n",
    "## error estándar residual\n",
    "RSE = np.sqrt(SSD/(len(data)-2))\n",
    "print(\"error estándar residual es: \",RSE)\n",
    "\n",
    "## promedio de ventas del dataset original\n",
    "promedio_ventas = np.mean(data[\"Sales\"])\n",
    "print(\"el promedio de ventas del dataset original es: \",promedio_ventas)\n",
    "\n",
    "##error del modelo\n",
    "error = RSE/promedio_ventas\n",
    "print(\"el error del modelo es: \",error)"
   ]
  },
  {
   "cell_type": "markdown",
   "metadata": {},
   "source": [
    "el error es del 23%, esto quiere decir que el 23% de los datos el modelo no puede explicar,este es un valor alto, hay que reducirlo de alguna manera, la manera es agregar las variables predictivas que faltan."
   ]
  },
  {
   "cell_type": "code",
   "execution_count": 49,
   "metadata": {},
   "outputs": [
    {
     "data": {
      "text/html": [
       "<div>\n",
       "<style scoped>\n",
       "    .dataframe tbody tr th:only-of-type {\n",
       "        vertical-align: middle;\n",
       "    }\n",
       "\n",
       "    .dataframe tbody tr th {\n",
       "        vertical-align: top;\n",
       "    }\n",
       "\n",
       "    .dataframe thead th {\n",
       "        text-align: right;\n",
       "    }\n",
       "</style>\n",
       "<table border=\"1\" class=\"dataframe\">\n",
       "  <thead>\n",
       "    <tr style=\"text-align: right;\">\n",
       "      <th></th>\n",
       "      <th>TV</th>\n",
       "      <th>Radio</th>\n",
       "      <th>Newspaper</th>\n",
       "      <th>Sales</th>\n",
       "      <th>prediccion_sales</th>\n",
       "      <th>RSE</th>\n",
       "    </tr>\n",
       "  </thead>\n",
       "  <tbody>\n",
       "    <tr>\n",
       "      <th>0</th>\n",
       "      <td>230.1</td>\n",
       "      <td>37.8</td>\n",
       "      <td>69.2</td>\n",
       "      <td>22.1</td>\n",
       "      <td>17.970775</td>\n",
       "      <td>17.050503</td>\n",
       "    </tr>\n",
       "    <tr>\n",
       "      <th>1</th>\n",
       "      <td>44.5</td>\n",
       "      <td>39.3</td>\n",
       "      <td>45.1</td>\n",
       "      <td>10.4</td>\n",
       "      <td>9.147974</td>\n",
       "      <td>1.567569</td>\n",
       "    </tr>\n",
       "    <tr>\n",
       "      <th>2</th>\n",
       "      <td>17.2</td>\n",
       "      <td>45.9</td>\n",
       "      <td>69.3</td>\n",
       "      <td>9.3</td>\n",
       "      <td>7.850224</td>\n",
       "      <td>2.101851</td>\n",
       "    </tr>\n",
       "    <tr>\n",
       "      <th>3</th>\n",
       "      <td>151.5</td>\n",
       "      <td>41.3</td>\n",
       "      <td>58.5</td>\n",
       "      <td>18.5</td>\n",
       "      <td>14.234395</td>\n",
       "      <td>18.195390</td>\n",
       "    </tr>\n",
       "    <tr>\n",
       "      <th>4</th>\n",
       "      <td>180.8</td>\n",
       "      <td>10.8</td>\n",
       "      <td>58.4</td>\n",
       "      <td>12.9</td>\n",
       "      <td>15.627218</td>\n",
       "      <td>7.437719</td>\n",
       "    </tr>\n",
       "  </tbody>\n",
       "</table>\n",
       "</div>"
      ],
      "text/plain": [
       "      TV  Radio  Newspaper  Sales  prediccion_sales        RSE\n",
       "0  230.1   37.8       69.2   22.1         17.970775  17.050503\n",
       "1   44.5   39.3       45.1   10.4          9.147974   1.567569\n",
       "2   17.2   45.9       69.3    9.3          7.850224   2.101851\n",
       "3  151.5   41.3       58.5   18.5         14.234395  18.195390\n",
       "4  180.8   10.8       58.4   12.9         15.627218   7.437719"
      ]
     },
     "execution_count": 49,
     "metadata": {},
     "output_type": "execute_result"
    }
   ],
   "source": [
    "data.head()"
   ]
  },
  {
   "cell_type": "markdown",
   "metadata": {},
   "source": [
    "# regresión lineal múltiple\n",
    "## el paquete statsmodel para regresión lineal múltiple"
   ]
  },
  {
   "cell_type": "markdown",
   "metadata": {},
   "source": [
    "# añadimos la variable predictora \"Newspapaer\" al modelo anterior"
   ]
  },
  {
   "cell_type": "code",
   "execution_count": 50,
   "metadata": {},
   "outputs": [],
   "source": [
    "lm2 = smf.ols(formula=\"Sales~TV+Newspaper\",data=data).fit()"
   ]
  },
  {
   "cell_type": "code",
   "execution_count": 51,
   "metadata": {},
   "outputs": [
    {
     "data": {
      "text/plain": [
       "Intercept    5.774948\n",
       "TV           0.046901\n",
       "Newspaper    0.044219\n",
       "dtype: float64"
      ]
     },
     "execution_count": 51,
     "metadata": {},
     "output_type": "execute_result"
    }
   ],
   "source": [
    "lm2.params"
   ]
  },
  {
   "cell_type": "markdown",
   "metadata": {},
   "source": [
    "el modelo lineal predictivo sería:\n",
    "Sales = 5.774948 + (0.046901 * TV) + (0.044219 * Newspaper)"
   ]
  },
  {
   "cell_type": "code",
   "execution_count": 52,
   "metadata": {},
   "outputs": [
    {
     "data": {
      "text/plain": [
       "Intercept    3.145860e-22\n",
       "TV           5.507584e-44\n",
       "Newspaper    2.217084e-05\n",
       "dtype: float64"
      ]
     },
     "execution_count": 52,
     "metadata": {},
     "output_type": "execute_result"
    }
   ],
   "source": [
    "lm2.pvalues ativo## los p-valores individuales de las variables son lo suficientemente pequeños y no son ceros, es decir son un buen indicativo como para tener en cuenta las 2 variables para el modelo"
   ]
  },
  {
   "cell_type": "code",
   "execution_count": 53,
   "metadata": {},
   "outputs": [
    {
     "data": {
      "text/plain": [
       "0.6458354938293271"
      ]
     },
     "execution_count": 53,
     "metadata": {},
     "output_type": "execute_result"
    }
   ],
   "source": [
    "lm2.rsquared ## el r2 aumentó un poco, es decir tambien es una buena señal de considerar las 2 variables predictoras."
   ]
  },
  {
   "cell_type": "code",
   "execution_count": 54,
   "metadata": {},
   "outputs": [
    {
     "data": {
      "text/plain": [
       "0      19.626901\n",
       "1       9.856348\n",
       "2       9.646055\n",
       "3      15.467318\n",
       "4      16.837102\n",
       "5       9.499445\n",
       "6       9.510924\n",
       "7      11.925419\n",
       "8       6.222518\n",
       "9      16.083262\n",
       "10      9.945228\n",
       "11     16.021516\n",
       "12      9.805257\n",
       "13     10.666196\n",
       "14     17.381579\n",
       "15     17.278653\n",
       "16     13.995865\n",
       "17     21.440393\n",
       "18      9.829727\n",
       "19     13.528088\n",
       "20     18.379490\n",
       "21     17.948453\n",
       "22      8.587327\n",
       "23     17.641044\n",
       "24      9.506109\n",
       "25     18.967556\n",
       "26     13.034296\n",
       "27     18.048554\n",
       "28     18.456595\n",
       "29     10.890326\n",
       "         ...    \n",
       "170     8.933646\n",
       "171    15.586198\n",
       "172     7.445942\n",
       "173    14.239121\n",
       "174    16.785052\n",
       "175    20.610266\n",
       "176    18.322864\n",
       "177    15.314058\n",
       "178    19.800514\n",
       "179    14.320051\n",
       "180    13.486699\n",
       "181    17.234475\n",
       "182     9.724113\n",
       "183    22.438692\n",
       "184    19.005059\n",
       "185    16.256398\n",
       "186    13.493904\n",
       "187    15.542563\n",
       "188    19.352307\n",
       "189     7.686735\n",
       "190     7.884019\n",
       "191     9.581306\n",
       "192     7.978983\n",
       "193    13.757260\n",
       "194    13.061376\n",
       "195     8.176802\n",
       "196    10.551220\n",
       "197    14.359467\n",
       "198    22.003458\n",
       "199    17.045429\n",
       "Length: 200, dtype: float64"
      ]
     },
     "execution_count": 54,
     "metadata": {},
     "output_type": "execute_result"
    }
   ],
   "source": [
    "## predicciones de \"Sales\" con respecto a la columna \"TV\" y a la columna \"Newspaper\"\n",
    "prediccion_sales = lm2.predict(data[[\"TV\",\"Newspaper\"]]) ##se pasa como parámetro a la funcion \"lm.predict\" la columna \"TV\" y la columna \"Newspaper\" del dataset\n",
    "prediccion_sales"
   ]
  },
  {
   "cell_type": "code",
   "execution_count": 55,
   "metadata": {},
   "outputs": [],
   "source": [
    "## se añade al dataset la columna sde la predicciones del modelo.\n",
    "data[\"prediccion_sales\"] =  prediccion_sales"
   ]
  },
  {
   "cell_type": "code",
   "execution_count": 56,
   "metadata": {},
   "outputs": [
    {
     "name": "stdout",
     "output_type": "stream",
     "text": [
      "la suma de los cuadrados de la diferencia es  1918.5618118968273\n",
      "error estándar residual es:  3.120719860252885\n",
      "el promedio de ventas del dataset original es:  14.022500000000003\n",
      "el error del modelo es:  0.22255089037282116\n"
     ]
    }
   ],
   "source": [
    "## se añade al dataset la columna de \"RSE\" error estándar residual\n",
    "data[\"RSE\"] = (data[\"Sales\"] - data[\"prediccion_sales\"])**2\n",
    "\n",
    "##suma de los cuadrados de los errores\n",
    "SSD = sum(data[\"RSE\"])\n",
    "print(\"la suma de los cuadrados de la diferencia es \",SSD)\n",
    "\n",
    "## error estándar residual\n",
    "RSE = np.sqrt(SSD/(len(data)-2-1)) ## k=2 porque son 2 variables predictoras\n",
    "print(\"error estándar residual es: \",RSE)\n",
    "\n",
    "## promedio de ventas del dataset original\n",
    "promedio_ventas = np.mean(data[\"Sales\"])\n",
    "print(\"el promedio de ventas del dataset original es: \",promedio_ventas)\n",
    "\n",
    "##error del modelo\n",
    "error = RSE/promedio_ventas\n",
    "print(\"el error del modelo es: \",error)"
   ]
  },
  {
   "cell_type": "markdown",
   "metadata": {},
   "source": [
    "### CONCLUSIÓN:\n",
    "\n",
    "### el R2 aumentó un poco\n",
    "### el p-valor general a subido, lo cual no es bueno.\n",
    "### el p-valor individual de newspaper es lo suficientemente pequeño y no es cero.\n",
    "### el error del modelo a mejorado muy poco con respecto al anterior.\n",
    "#### conclusión: añadir el Newspaper al modelo original mejoró muy poco. Ahora falta agregar la variable de la radio al modelo."
   ]
  },
  {
   "cell_type": "markdown",
   "metadata": {},
   "source": [
    "# añadimos la variable predictora \"Radio\" al modelo anterior "
   ]
  },
  {
   "cell_type": "code",
   "execution_count": 63,
   "metadata": {},
   "outputs": [],
   "source": [
    "lm3 = smf.ols(formula=\"Sales~TV+Radio\",data=data).fit()"
   ]
  },
  {
   "cell_type": "code",
   "execution_count": 64,
   "metadata": {},
   "outputs": [
    {
     "data": {
      "text/html": [
       "<table class=\"simpletable\">\n",
       "<caption>OLS Regression Results</caption>\n",
       "<tr>\n",
       "  <th>Dep. Variable:</th>          <td>Sales</td>      <th>  R-squared:         </th> <td>   0.897</td>\n",
       "</tr>\n",
       "<tr>\n",
       "  <th>Model:</th>                   <td>OLS</td>       <th>  Adj. R-squared:    </th> <td>   0.896</td>\n",
       "</tr>\n",
       "<tr>\n",
       "  <th>Method:</th>             <td>Least Squares</td>  <th>  F-statistic:       </th> <td>   859.6</td>\n",
       "</tr>\n",
       "<tr>\n",
       "  <th>Date:</th>             <td>Sat, 23 Mar 2019</td> <th>  Prob (F-statistic):</th> <td>4.83e-98</td>\n",
       "</tr>\n",
       "<tr>\n",
       "  <th>Time:</th>                 <td>16:53:11</td>     <th>  Log-Likelihood:    </th> <td> -386.20</td>\n",
       "</tr>\n",
       "<tr>\n",
       "  <th>No. Observations:</th>      <td>   200</td>      <th>  AIC:               </th> <td>   778.4</td>\n",
       "</tr>\n",
       "<tr>\n",
       "  <th>Df Residuals:</th>          <td>   197</td>      <th>  BIC:               </th> <td>   788.3</td>\n",
       "</tr>\n",
       "<tr>\n",
       "  <th>Df Model:</th>              <td>     2</td>      <th>                     </th>     <td> </td>   \n",
       "</tr>\n",
       "<tr>\n",
       "  <th>Covariance Type:</th>      <td>nonrobust</td>    <th>                     </th>     <td> </td>   \n",
       "</tr>\n",
       "</table>\n",
       "<table class=\"simpletable\">\n",
       "<tr>\n",
       "      <td></td>         <th>coef</th>     <th>std err</th>      <th>t</th>      <th>P>|t|</th>  <th>[0.025</th>    <th>0.975]</th>  \n",
       "</tr>\n",
       "<tr>\n",
       "  <th>Intercept</th> <td>    2.9211</td> <td>    0.294</td> <td>    9.919</td> <td> 0.000</td> <td>    2.340</td> <td>    3.502</td>\n",
       "</tr>\n",
       "<tr>\n",
       "  <th>TV</th>        <td>    0.0458</td> <td>    0.001</td> <td>   32.909</td> <td> 0.000</td> <td>    0.043</td> <td>    0.048</td>\n",
       "</tr>\n",
       "<tr>\n",
       "  <th>Radio</th>     <td>    0.1880</td> <td>    0.008</td> <td>   23.382</td> <td> 0.000</td> <td>    0.172</td> <td>    0.204</td>\n",
       "</tr>\n",
       "</table>\n",
       "<table class=\"simpletable\">\n",
       "<tr>\n",
       "  <th>Omnibus:</th>       <td>60.022</td> <th>  Durbin-Watson:     </th> <td>   2.081</td>\n",
       "</tr>\n",
       "<tr>\n",
       "  <th>Prob(Omnibus):</th> <td> 0.000</td> <th>  Jarque-Bera (JB):  </th> <td> 148.679</td>\n",
       "</tr>\n",
       "<tr>\n",
       "  <th>Skew:</th>          <td>-1.323</td> <th>  Prob(JB):          </th> <td>5.19e-33</td>\n",
       "</tr>\n",
       "<tr>\n",
       "  <th>Kurtosis:</th>      <td> 6.292</td> <th>  Cond. No.          </th> <td>    425.</td>\n",
       "</tr>\n",
       "</table><br/><br/>Warnings:<br/>[1] Standard Errors assume that the covariance matrix of the errors is correctly specified."
      ],
      "text/plain": [
       "<class 'statsmodels.iolib.summary.Summary'>\n",
       "\"\"\"\n",
       "                            OLS Regression Results                            \n",
       "==============================================================================\n",
       "Dep. Variable:                  Sales   R-squared:                       0.897\n",
       "Model:                            OLS   Adj. R-squared:                  0.896\n",
       "Method:                 Least Squares   F-statistic:                     859.6\n",
       "Date:                Sat, 23 Mar 2019   Prob (F-statistic):           4.83e-98\n",
       "Time:                        16:53:11   Log-Likelihood:                -386.20\n",
       "No. Observations:                 200   AIC:                             778.4\n",
       "Df Residuals:                     197   BIC:                             788.3\n",
       "Df Model:                           2                                         \n",
       "Covariance Type:            nonrobust                                         \n",
       "==============================================================================\n",
       "                 coef    std err          t      P>|t|      [0.025      0.975]\n",
       "------------------------------------------------------------------------------\n",
       "Intercept      2.9211      0.294      9.919      0.000       2.340       3.502\n",
       "TV             0.0458      0.001     32.909      0.000       0.043       0.048\n",
       "Radio          0.1880      0.008     23.382      0.000       0.172       0.204\n",
       "==============================================================================\n",
       "Omnibus:                       60.022   Durbin-Watson:                   2.081\n",
       "Prob(Omnibus):                  0.000   Jarque-Bera (JB):              148.679\n",
       "Skew:                          -1.323   Prob(JB):                     5.19e-33\n",
       "Kurtosis:                       6.292   Cond. No.                         425.\n",
       "==============================================================================\n",
       "\n",
       "Warnings:\n",
       "[1] Standard Errors assume that the covariance matrix of the errors is correctly specified.\n",
       "\"\"\""
      ]
     },
     "execution_count": 64,
     "metadata": {},
     "output_type": "execute_result"
    }
   ],
   "source": [
    "lm3.summary()"
   ]
  },
  {
   "cell_type": "markdown",
   "metadata": {},
   "source": [
    "### En este caso el p-valor general es sumamente pequeño, lo cual es bueno.\n",
    "### el estadistico F es super grande, lo cual es bueno\n",
    "### el valor de R2 a mejorado considerablemente, lo cual es bueno.\n",
    "### el p-valor individual de la variable radio es cero, lo cual es bueno."
   ]
  },
  {
   "cell_type": "code",
   "execution_count": 65,
   "metadata": {},
   "outputs": [
    {
     "data": {
      "text/plain": [
       "0      20.555465\n",
       "1      12.345362\n",
       "2      12.337018\n",
       "3      17.617116\n",
       "4      13.223908\n",
       "5      12.512084\n",
       "6      11.718212\n",
       "7      12.105516\n",
       "8       3.709379\n",
       "9      12.551697\n",
       "10      7.035860\n",
       "11     17.256520\n",
       "12     10.608662\n",
       "13      8.810951\n",
       "14     18.444668\n",
       "15     20.828915\n",
       "16     12.903865\n",
       "17     23.241076\n",
       "18      9.941215\n",
       "19     14.153846\n",
       "20     18.121392\n",
       "21     14.742064\n",
       "22      6.514172\n",
       "23     16.544027\n",
       "24      8.140352\n",
       "25     15.608021\n",
       "26     14.967694\n",
       "27     17.046335\n",
       "28     19.399541\n",
       "29      9.159297\n",
       "         ...    \n",
       "170     7.389574\n",
       "171    14.376846\n",
       "172     7.596578\n",
       "173    11.960970\n",
       "174    13.736151\n",
       "175    24.783526\n",
       "176    19.964022\n",
       "177    12.174924\n",
       "178    16.013844\n",
       "179    12.378040\n",
       "180    10.575089\n",
       "181    13.933696\n",
       "182     6.564088\n",
       "183    24.163936\n",
       "184    18.537949\n",
       "185    20.779377\n",
       "186     9.698684\n",
       "187    17.060279\n",
       "188    18.620097\n",
       "189     6.051445\n",
       "190    12.454978\n",
       "191     8.405926\n",
       "192     4.478859\n",
       "193    18.448761\n",
       "194    16.463190\n",
       "195     5.364512\n",
       "196     8.152375\n",
       "197    12.768048\n",
       "198    23.792923\n",
       "199    15.157543\n",
       "Length: 200, dtype: float64"
      ]
     },
     "execution_count": 65,
     "metadata": {},
     "output_type": "execute_result"
    }
   ],
   "source": [
    "## predicciones de \"Sales\" con respecto a la columna \"TV\" y a la columna \"Radio\"\n",
    "prediccion_sales = lm3.predict(data[[\"TV\",\"Radio\"]]) ##se pasa como parámetro a la funcion \"lm.predict\" la columna \"TV\" y la columna \"Radio\" del dataset\n",
    "prediccion_sales"
   ]
  },
  {
   "cell_type": "code",
   "execution_count": 66,
   "metadata": {},
   "outputs": [],
   "source": [
    "## se añade al dataset la columna de la predicciones del modelo.\n",
    "data[\"prediccion_sales\"] =  prediccion_sales"
   ]
  },
  {
   "cell_type": "code",
   "execution_count": 67,
   "metadata": {},
   "outputs": [
    {
     "name": "stdout",
     "output_type": "stream",
     "text": [
      "la suma de los cuadrados de la diferencia es  556.9139800676182\n",
      "error estándar residual es:  1.681360912508001\n",
      "el promedio de ventas del dataset original es:  14.022500000000003\n",
      "el error del modelo es:  0.11990450436855059\n"
     ]
    }
   ],
   "source": [
    "## se añade al dataset la columna de \"RSE\" error estándar residual\n",
    "data[\"RSE\"] = (data[\"Sales\"] - data[\"prediccion_sales\"])**2\n",
    "\n",
    "##suma de los cuadrados de los errores\n",
    "SSD = sum(data[\"RSE\"])\n",
    "print(\"la suma de los cuadrados de la diferencia es \",SSD)\n",
    "\n",
    "## error estándar residual\n",
    "RSE = np.sqrt(SSD/(len(data)-2-1)) ## k=2 porque son 2 variables predictoras\n",
    "print(\"error estándar residual es: \",RSE)\n",
    "\n",
    "## promedio de ventas del dataset original\n",
    "promedio_ventas = np.mean(data[\"Sales\"])\n",
    "print(\"el promedio de ventas del dataset original es: \",promedio_ventas)\n",
    "\n",
    "##error del modelo\n",
    "error = RSE/promedio_ventas\n",
    "print(\"el error del modelo es: \",error)"
   ]
  },
  {
   "cell_type": "markdown",
   "metadata": {},
   "source": [
    "### CONCLUSIÓN:\n",
    "\n",
    "### En este caso el p-valor general es sumamente pequeño, lo cual es bueno.\n",
    "### el estadistico F es super grande, lo cual es bueno\n",
    "### el valor de R2 a mejorado considerablemente, lo cual es bueno.\n",
    "### el p-valor individual de la variable radio es cero, lo cual es bueno.\n",
    "### el error del modelo a bajado considerablemente con respecto al anterior.\n",
    "\n",
    "#### conclusión: añadir la Radio al modelo original mejoró muchisimo."
   ]
  },
  {
   "cell_type": "markdown",
   "metadata": {},
   "source": [
    "# añadimos las variable predictoras \"TV\",Radio\",\"Newspaper\" al modelo"
   ]
  },
  {
   "cell_type": "code",
   "execution_count": 70,
   "metadata": {},
   "outputs": [],
   "source": [
    "lm4 = smf.ols(formula=\"Sales~TV+Radio+Newspaper\",data=data).fit()"
   ]
  },
  {
   "cell_type": "code",
   "execution_count": 71,
   "metadata": {},
   "outputs": [
    {
     "data": {
      "text/html": [
       "<table class=\"simpletable\">\n",
       "<caption>OLS Regression Results</caption>\n",
       "<tr>\n",
       "  <th>Dep. Variable:</th>          <td>Sales</td>      <th>  R-squared:         </th> <td>   0.897</td>\n",
       "</tr>\n",
       "<tr>\n",
       "  <th>Model:</th>                   <td>OLS</td>       <th>  Adj. R-squared:    </th> <td>   0.896</td>\n",
       "</tr>\n",
       "<tr>\n",
       "  <th>Method:</th>             <td>Least Squares</td>  <th>  F-statistic:       </th> <td>   570.3</td>\n",
       "</tr>\n",
       "<tr>\n",
       "  <th>Date:</th>             <td>Sat, 23 Mar 2019</td> <th>  Prob (F-statistic):</th> <td>1.58e-96</td>\n",
       "</tr>\n",
       "<tr>\n",
       "  <th>Time:</th>                 <td>16:57:59</td>     <th>  Log-Likelihood:    </th> <td> -386.18</td>\n",
       "</tr>\n",
       "<tr>\n",
       "  <th>No. Observations:</th>      <td>   200</td>      <th>  AIC:               </th> <td>   780.4</td>\n",
       "</tr>\n",
       "<tr>\n",
       "  <th>Df Residuals:</th>          <td>   196</td>      <th>  BIC:               </th> <td>   793.6</td>\n",
       "</tr>\n",
       "<tr>\n",
       "  <th>Df Model:</th>              <td>     3</td>      <th>                     </th>     <td> </td>   \n",
       "</tr>\n",
       "<tr>\n",
       "  <th>Covariance Type:</th>      <td>nonrobust</td>    <th>                     </th>     <td> </td>   \n",
       "</tr>\n",
       "</table>\n",
       "<table class=\"simpletable\">\n",
       "<tr>\n",
       "      <td></td>         <th>coef</th>     <th>std err</th>      <th>t</th>      <th>P>|t|</th>  <th>[0.025</th>    <th>0.975]</th>  \n",
       "</tr>\n",
       "<tr>\n",
       "  <th>Intercept</th> <td>    2.9389</td> <td>    0.312</td> <td>    9.422</td> <td> 0.000</td> <td>    2.324</td> <td>    3.554</td>\n",
       "</tr>\n",
       "<tr>\n",
       "  <th>TV</th>        <td>    0.0458</td> <td>    0.001</td> <td>   32.809</td> <td> 0.000</td> <td>    0.043</td> <td>    0.049</td>\n",
       "</tr>\n",
       "<tr>\n",
       "  <th>Radio</th>     <td>    0.1885</td> <td>    0.009</td> <td>   21.893</td> <td> 0.000</td> <td>    0.172</td> <td>    0.206</td>\n",
       "</tr>\n",
       "<tr>\n",
       "  <th>Newspaper</th> <td>   -0.0010</td> <td>    0.006</td> <td>   -0.177</td> <td> 0.860</td> <td>   -0.013</td> <td>    0.011</td>\n",
       "</tr>\n",
       "</table>\n",
       "<table class=\"simpletable\">\n",
       "<tr>\n",
       "  <th>Omnibus:</th>       <td>60.414</td> <th>  Durbin-Watson:     </th> <td>   2.084</td>\n",
       "</tr>\n",
       "<tr>\n",
       "  <th>Prob(Omnibus):</th> <td> 0.000</td> <th>  Jarque-Bera (JB):  </th> <td> 151.241</td>\n",
       "</tr>\n",
       "<tr>\n",
       "  <th>Skew:</th>          <td>-1.327</td> <th>  Prob(JB):          </th> <td>1.44e-33</td>\n",
       "</tr>\n",
       "<tr>\n",
       "  <th>Kurtosis:</th>      <td> 6.332</td> <th>  Cond. No.          </th> <td>    454.</td>\n",
       "</tr>\n",
       "</table><br/><br/>Warnings:<br/>[1] Standard Errors assume that the covariance matrix of the errors is correctly specified."
      ],
      "text/plain": [
       "<class 'statsmodels.iolib.summary.Summary'>\n",
       "\"\"\"\n",
       "                            OLS Regression Results                            \n",
       "==============================================================================\n",
       "Dep. Variable:                  Sales   R-squared:                       0.897\n",
       "Model:                            OLS   Adj. R-squared:                  0.896\n",
       "Method:                 Least Squares   F-statistic:                     570.3\n",
       "Date:                Sat, 23 Mar 2019   Prob (F-statistic):           1.58e-96\n",
       "Time:                        16:57:59   Log-Likelihood:                -386.18\n",
       "No. Observations:                 200   AIC:                             780.4\n",
       "Df Residuals:                     196   BIC:                             793.6\n",
       "Df Model:                           3                                         \n",
       "Covariance Type:            nonrobust                                         \n",
       "==============================================================================\n",
       "                 coef    std err          t      P>|t|      [0.025      0.975]\n",
       "------------------------------------------------------------------------------\n",
       "Intercept      2.9389      0.312      9.422      0.000       2.324       3.554\n",
       "TV             0.0458      0.001     32.809      0.000       0.043       0.049\n",
       "Radio          0.1885      0.009     21.893      0.000       0.172       0.206\n",
       "Newspaper     -0.0010      0.006     -0.177      0.860      -0.013       0.011\n",
       "==============================================================================\n",
       "Omnibus:                       60.414   Durbin-Watson:                   2.084\n",
       "Prob(Omnibus):                  0.000   Jarque-Bera (JB):              151.241\n",
       "Skew:                          -1.327   Prob(JB):                     1.44e-33\n",
       "Kurtosis:                       6.332   Cond. No.                         454.\n",
       "==============================================================================\n",
       "\n",
       "Warnings:\n",
       "[1] Standard Errors assume that the covariance matrix of the errors is correctly specified.\n",
       "\"\"\""
      ]
     },
     "execution_count": 71,
     "metadata": {},
     "output_type": "execute_result"
    }
   ],
   "source": [
    "lm4.summary()"
   ]
  },
  {
   "cell_type": "code",
   "execution_count": 72,
   "metadata": {},
   "outputs": [],
   "source": [
    "## se añade al dataset la columna sde la predicciones del modelo.\n",
    "data[\"prediccion_sales\"] =  prediccion_sales"
   ]
  },
  {
   "cell_type": "code",
   "execution_count": 74,
   "metadata": {},
   "outputs": [
    {
     "name": "stdout",
     "output_type": "stream",
     "text": [
      "la suma de los cuadrados de la diferencia es  556.9139800676182\n",
      "error estándar residual es:  1.6856446415208184\n",
      "el promedio de ventas del dataset original es:  14.022500000000003\n",
      "el error del modelo es:  0.12020999404676898\n"
     ]
    }
   ],
   "source": [
    "## se añade al dataset la columna de \"RSE\" error estándar residual\n",
    "data[\"RSE\"] = (data[\"Sales\"] - data[\"prediccion_sales\"])**2\n",
    "\n",
    "##suma de los cuadrados de los errores\n",
    "SSD = sum(data[\"RSE\"])\n",
    "print(\"la suma de los cuadrados de la diferencia es \",SSD)\n",
    "\n",
    "## error estándar residual\n",
    "RSE = np.sqrt(SSD/(len(data)-3-1)) ## k=3 porque son 3 variables predictoras\n",
    "print(\"error estándar residual es: \",RSE)\n",
    "\n",
    "## promedio de ventas del dataset original\n",
    "promedio_ventas = np.mean(data[\"Sales\"])\n",
    "print(\"el promedio de ventas del dataset original es: \",promedio_ventas)\n",
    "\n",
    "##error del modelo\n",
    "error = RSE/promedio_ventas\n",
    "print(\"el error del modelo es: \",error)"
   ]
  },
  {
   "cell_type": "markdown",
   "metadata": {},
   "source": [
    "### CONCLUSIÓN:\n",
    "\n",
    "### el R2 ya no subió.\n",
    "### el p-valor general a subido, lo cual no es bueno.\n",
    "### el coeficiente de Newspaper es casi cero, lo cual no es bueno.\n",
    "### el p-valor individual de la variable Newspaper es muy alto, es casi 1, lo cual no es nada bueno.\n",
    "### el error del modelo a subido un poco con respecto al anterior. \n",
    "\n",
    "### es decir agregar la variable Newspaper va en contra al modelo y es un modelo menos eficaz que el anterior y por lo tanto predice peor que el modelo anterior a pesar de que tiene una variable predictora más con respecto al anterior."
   ]
  },
  {
   "cell_type": "code",
   "execution_count": null,
   "metadata": {},
   "outputs": [],
   "source": []
  }
 ],
 "metadata": {
  "kernelspec": {
   "display_name": "Python 3",
   "language": "python",
   "name": "python3"
  },
  "language_info": {
   "codemirror_mode": {
    "name": "ipython",
    "version": 3
   },
   "file_extension": ".py",
   "mimetype": "text/x-python",
   "name": "python",
   "nbconvert_exporter": "python",
   "pygments_lexer": "ipython3",
   "version": "3.7.1"
  }
 },
 "nbformat": 4,
 "nbformat_minor": 2
}
