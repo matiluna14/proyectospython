{
 "cells": [
  {
   "cell_type": "markdown",
   "metadata": {},
   "source": [
    "# Propagacion hacia atras\n",
    "- uno de los beneficios de usar tensorflow es que es capaz de actualizar las variables del modelo automaticamente, el objetivo es minimizar la funcion de perdida."
   ]
  },
  {
   "cell_type": "markdown",
   "metadata": {},
   "source": [
    "## en este caso el entrenamiento que se lleva a cabo es estocastico \n",
    "    -es decir toma solo un elemento por vez para entrenar"
   ]
  },
  {
   "cell_type": "markdown",
   "metadata": {},
   "source": [
    "### el ejemplo de clasificacion a llevar a cabo sera el siguiente:\n",
    "    -x1=randomnormal(media=-2, desviacion=1); x2=randomnormal(media=2, desviacion=1)\n",
    "    -el target de x1= 0; el target de x2=1\n",
    "    -la operacion sera: la sigmoide de (x+A)\n",
    "    -determinar el valor de A; teoricamente tendra que alcanzar un valor similar a 0  \n",
    "    -la funcion de perdida que se utilizara sera croos_entropy_sigmoide"
   ]
  },
  {
   "cell_type": "code",
   "execution_count": 2,
   "metadata": {},
   "outputs": [],
   "source": [
    "import tensorflow as tf\n",
    "import numpy as np\n",
    "session = tf.Session()"
   ]
  },
  {
   "cell_type": "markdown",
   "metadata": {},
   "source": [
    "# se definen los datos"
   ]
  },
  {
   "cell_type": "code",
   "execution_count": 17,
   "metadata": {},
   "outputs": [],
   "source": [
    "x_vals = np.concatenate((np.random.normal(loc=-2, scale=1, size=100), np.random.normal(loc=2, scale=1, size=100)) ) ## 200 valores aleatorios, los 100 primeros con media=-2 y desviacion=1; y los 100 siguientes con media=2 y desviacion=1 \n",
    "y_vals = np.concatenate((np.repeat(0.,100), np.repeat(1.,100))) ##200 valores para el target, los 100 primeros con valor 0, ylos 100 siguientes con valor 1"
   ]
  },
  {
   "cell_type": "markdown",
   "metadata": {},
   "source": [
    "# se definen los placeholders y variables"
   ]
  },
  {
   "cell_type": "code",
   "execution_count": 21,
   "metadata": {},
   "outputs": [],
   "source": [
    "x_data = tf.placeholder(shape=[1], dtype=tf.float32) ##placeholder de 1 solo elemento\n",
    "y_target = tf.placeholder(shape=[1], dtype=tf.float32) ##placeholder de 1 solo elemento\n",
    "A = tf.Variable(tf.random_normal(mean=10, shape=[1])) ##variable A, inicializada con un valor cercano a 10"
   ]
  },
  {
   "cell_type": "markdown",
   "metadata": {},
   "source": [
    "# se define la operacion"
   ]
  },
  {
   "cell_type": "code",
   "execution_count": 22,
   "metadata": {},
   "outputs": [],
   "source": [
    "my_prediction = tf.add(x_data, A) ##la prediccion"
   ]
  },
  {
   "cell_type": "code",
   "execution_count": 23,
   "metadata": {},
   "outputs": [],
   "source": [
    "## se expande la dimension de my_predcition y de y_target para que en lugar de ser de 1 dimension sea de 2 dimensiones ya que la funcion de perdida espera mas de 1 valor.\n",
    "my_prediction_expanded = tf.expand_dims(my_prediction, 0) ##el 0 es para compensar la dimension adicional\n",
    "y_target_expanded = tf.expand_dims(y_target, 0) ##el 0 es para compensar la dimension adicional"
   ]
  },
  {
   "cell_type": "markdown",
   "metadata": {},
   "source": [
    "# se inicializan las variables"
   ]
  },
  {
   "cell_type": "code",
   "execution_count": 27,
   "metadata": {},
   "outputs": [
    {
     "name": "stdout",
     "output_type": "stream",
     "text": [
      "[10.681364]\n"
     ]
    }
   ],
   "source": [
    "init = tf.initialize_all_variables()\n",
    "session.run(init)\n",
    "print(session.run(A)) ##muestra el valor inicial de la variable A"
   ]
  },
  {
   "cell_type": "markdown",
   "metadata": {},
   "source": [
    "# se definen la funcion de perdida"
   ]
  },
  {
   "cell_type": "code",
   "execution_count": 28,
   "metadata": {},
   "outputs": [],
   "source": [
    "loss = tf.nn.sigmoid_cross_entropy_with_logits(logits=my_prediction_expanded, labels=y_target_expanded)"
   ]
  },
  {
   "cell_type": "markdown",
   "metadata": {},
   "source": [
    "# se definen el optimizador"
   ]
  },
  {
   "cell_type": "code",
   "execution_count": 29,
   "metadata": {},
   "outputs": [],
   "source": [
    "optimizador = tf.train.GradientDescentOptimizer(learning_rate=0.04)\n",
    "train_step = optimizador.minimize(loss)"
   ]
  },
  {
   "cell_type": "markdown",
   "metadata": {},
   "source": [
    "# se realizan las iteraciones para entrenar el algoritmo"
   ]
  },
  {
   "cell_type": "code",
   "execution_count": 30,
   "metadata": {},
   "outputs": [
    {
     "name": "stdout",
     "output_type": "stream",
     "text": [
      "paso:100 A= [8.403967]Loss= [[6.4344e-05]]\n",
      "paso:200 A= [6.3812976]Loss= [[0.00011557]]\n",
      "paso:300 A= [4.5272455]Loss= [[4.410384]]\n",
      "paso:400 A= [3.0324907]Loss= [[1.0229037]]\n",
      "paso:500 A= [2.0948553]Loss= [[0.00734765]]\n",
      "paso:600 A= [1.3692768]Loss= [[0.06026553]]\n",
      "paso:700 A= [0.89527965]Loss= [[0.02198587]]\n",
      "paso:800 A= [0.59127325]Loss= [[0.07308731]]\n",
      "paso:900 A= [0.25248653]Loss= [[0.02080736]]\n",
      "paso:1000 A= [0.11350577]Loss= [[0.24546185]]\n"
     ]
    }
   ],
   "source": [
    "for i in range(1000): ## se realizan 1000 iteraciones \n",
    "    ##se seleccion un indice aleatorio entre 0 y 200 para luego escoger con ese mismo indice un valor de la distribucion x_vals y y_vals\n",
    "    rand_index = np.random.choice(200)\n",
    "    rand_x = [x_vals[rand_index]]\n",
    "    rand_y = [y_vals[rand_index]]\n",
    "    session.run(train_step, feed_dict={x_data:rand_x, y_target:rand_y})\n",
    "    if (i+1)%100==0:\n",
    "        print(\"paso:\" +str(i+1)+\" A= \" +str(session.run(A))+\"Loss= \" +str(session.run(loss, feed_dict={x_data:rand_x, y_target:rand_y})))"
   ]
  },
  {
   "cell_type": "code",
   "execution_count": null,
   "metadata": {},
   "outputs": [],
   "source": []
  }
 ],
 "metadata": {
  "kernelspec": {
   "display_name": "Python 3",
   "language": "python",
   "name": "python3"
  },
  "language_info": {
   "codemirror_mode": {
    "name": "ipython",
    "version": 3
   },
   "file_extension": ".py",
   "mimetype": "text/x-python",
   "name": "python",
   "nbconvert_exporter": "python",
   "pygments_lexer": "ipython3",
   "version": "3.7.1"
  }
 },
 "nbformat": 4,
 "nbformat_minor": 2
}
