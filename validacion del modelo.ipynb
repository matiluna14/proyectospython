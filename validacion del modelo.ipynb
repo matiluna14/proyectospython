{
 "cells": [
  {
   "cell_type": "markdown",
   "metadata": {},
   "source": [
    "# entrenamiento y validacion del modelo "
   ]
  },
  {
   "cell_type": "code",
   "execution_count": 33,
   "metadata": {},
   "outputs": [],
   "source": [
    "import pandas as pd\n",
    "import numpy as np"
   ]
  },
  {
   "cell_type": "code",
   "execution_count": 34,
   "metadata": {},
   "outputs": [],
   "source": [
    "data = pd.read_csv(\"Advertising.csv\")"
   ]
  },
  {
   "cell_type": "code",
   "execution_count": 35,
   "metadata": {},
   "outputs": [
    {
     "data": {
      "text/html": [
       "<div>\n",
       "<style scoped>\n",
       "    .dataframe tbody tr th:only-of-type {\n",
       "        vertical-align: middle;\n",
       "    }\n",
       "\n",
       "    .dataframe tbody tr th {\n",
       "        vertical-align: top;\n",
       "    }\n",
       "\n",
       "    .dataframe thead th {\n",
       "        text-align: right;\n",
       "    }\n",
       "</style>\n",
       "<table border=\"1\" class=\"dataframe\">\n",
       "  <thead>\n",
       "    <tr style=\"text-align: right;\">\n",
       "      <th></th>\n",
       "      <th>TV</th>\n",
       "      <th>Radio</th>\n",
       "      <th>Newspaper</th>\n",
       "      <th>Sales</th>\n",
       "    </tr>\n",
       "  </thead>\n",
       "  <tbody>\n",
       "    <tr>\n",
       "      <th>0</th>\n",
       "      <td>230.1</td>\n",
       "      <td>37.8</td>\n",
       "      <td>69.2</td>\n",
       "      <td>22.1</td>\n",
       "    </tr>\n",
       "    <tr>\n",
       "      <th>1</th>\n",
       "      <td>44.5</td>\n",
       "      <td>39.3</td>\n",
       "      <td>45.1</td>\n",
       "      <td>10.4</td>\n",
       "    </tr>\n",
       "    <tr>\n",
       "      <th>2</th>\n",
       "      <td>17.2</td>\n",
       "      <td>45.9</td>\n",
       "      <td>69.3</td>\n",
       "      <td>9.3</td>\n",
       "    </tr>\n",
       "    <tr>\n",
       "      <th>3</th>\n",
       "      <td>151.5</td>\n",
       "      <td>41.3</td>\n",
       "      <td>58.5</td>\n",
       "      <td>18.5</td>\n",
       "    </tr>\n",
       "    <tr>\n",
       "      <th>4</th>\n",
       "      <td>180.8</td>\n",
       "      <td>10.8</td>\n",
       "      <td>58.4</td>\n",
       "      <td>12.9</td>\n",
       "    </tr>\n",
       "  </tbody>\n",
       "</table>\n",
       "</div>"
      ],
      "text/plain": [
       "      TV  Radio  Newspaper  Sales\n",
       "0  230.1   37.8       69.2   22.1\n",
       "1   44.5   39.3       45.1   10.4\n",
       "2   17.2   45.9       69.3    9.3\n",
       "3  151.5   41.3       58.5   18.5\n",
       "4  180.8   10.8       58.4   12.9"
      ]
     },
     "execution_count": 35,
     "metadata": {},
     "output_type": "execute_result"
    }
   ],
   "source": [
    "data.head()"
   ]
  },
  {
   "cell_type": "markdown",
   "metadata": {},
   "source": [
    "# dividir el dataset en conjunto de entrenamiento y testing"
   ]
  },
  {
   "cell_type": "code",
   "execution_count": 36,
   "metadata": {},
   "outputs": [],
   "source": [
    "## se construye distribucion uniforme con el misma cantidad de datos que el dataset\n",
    "a = np.random.randn(len(data)) "
   ]
  },
  {
   "cell_type": "code",
   "execution_count": 37,
   "metadata": {},
   "outputs": [],
   "source": [
    "##me quedo con el 80% de los elementos para training y con el 20% de los elementos para testing\n",
    "ochenta = (a<0.8)\n",
    "veinte = (a>0.8)\n",
    "\n",
    "training = data[ochenta]\n",
    "testing =  data[veinte]"
   ]
  },
  {
   "cell_type": "code",
   "execution_count": 38,
   "metadata": {},
   "outputs": [
    {
     "data": {
      "text/plain": [
       "(154, 46)"
      ]
     },
     "execution_count": 38,
     "metadata": {},
     "output_type": "execute_result"
    }
   ],
   "source": [
    "len(training), len(testing)"
   ]
  },
  {
   "cell_type": "markdown",
   "metadata": {},
   "source": [
    "# creacion del modelo con el conjunto de entrenamiento"
   ]
  },
  {
   "cell_type": "code",
   "execution_count": 39,
   "metadata": {},
   "outputs": [],
   "source": [
    "import statsmodels.formula.api as smf"
   ]
  },
  {
   "cell_type": "code",
   "execution_count": 40,
   "metadata": {},
   "outputs": [],
   "source": [
    "lm = smf.ols(formula=\"Sales~TV+Radio\", data=training).fit()"
   ]
  },
  {
   "cell_type": "code",
   "execution_count": 41,
   "metadata": {},
   "outputs": [
    {
     "data": {
      "text/html": [
       "<table class=\"simpletable\">\n",
       "<caption>OLS Regression Results</caption>\n",
       "<tr>\n",
       "  <th>Dep. Variable:</th>          <td>Sales</td>      <th>  R-squared:         </th> <td>   0.895</td>\n",
       "</tr>\n",
       "<tr>\n",
       "  <th>Model:</th>                   <td>OLS</td>       <th>  Adj. R-squared:    </th> <td>   0.894</td>\n",
       "</tr>\n",
       "<tr>\n",
       "  <th>Method:</th>             <td>Least Squares</td>  <th>  F-statistic:       </th> <td>   644.5</td>\n",
       "</tr>\n",
       "<tr>\n",
       "  <th>Date:</th>             <td>Sun, 31 Mar 2019</td> <th>  Prob (F-statistic):</th> <td>1.14e-74</td>\n",
       "</tr>\n",
       "<tr>\n",
       "  <th>Time:</th>                 <td>21:36:10</td>     <th>  Log-Likelihood:    </th> <td> -304.78</td>\n",
       "</tr>\n",
       "<tr>\n",
       "  <th>No. Observations:</th>      <td>   154</td>      <th>  AIC:               </th> <td>   615.6</td>\n",
       "</tr>\n",
       "<tr>\n",
       "  <th>Df Residuals:</th>          <td>   151</td>      <th>  BIC:               </th> <td>   624.7</td>\n",
       "</tr>\n",
       "<tr>\n",
       "  <th>Df Model:</th>              <td>     2</td>      <th>                     </th>     <td> </td>   \n",
       "</tr>\n",
       "<tr>\n",
       "  <th>Covariance Type:</th>      <td>nonrobust</td>    <th>                     </th>     <td> </td>   \n",
       "</tr>\n",
       "</table>\n",
       "<table class=\"simpletable\">\n",
       "<tr>\n",
       "      <td></td>         <th>coef</th>     <th>std err</th>      <th>t</th>      <th>P>|t|</th>  <th>[0.025</th>    <th>0.975]</th>  \n",
       "</tr>\n",
       "<tr>\n",
       "  <th>Intercept</th> <td>    2.9902</td> <td>    0.339</td> <td>    8.817</td> <td> 0.000</td> <td>    2.320</td> <td>    3.660</td>\n",
       "</tr>\n",
       "<tr>\n",
       "  <th>TV</th>        <td>    0.0469</td> <td>    0.002</td> <td>   28.814</td> <td> 0.000</td> <td>    0.044</td> <td>    0.050</td>\n",
       "</tr>\n",
       "<tr>\n",
       "  <th>Radio</th>     <td>    0.1780</td> <td>    0.010</td> <td>   18.491</td> <td> 0.000</td> <td>    0.159</td> <td>    0.197</td>\n",
       "</tr>\n",
       "</table>\n",
       "<table class=\"simpletable\">\n",
       "<tr>\n",
       "  <th>Omnibus:</th>       <td>47.841</td> <th>  Durbin-Watson:     </th> <td>   2.177</td>\n",
       "</tr>\n",
       "<tr>\n",
       "  <th>Prob(Omnibus):</th> <td> 0.000</td> <th>  Jarque-Bera (JB):  </th> <td> 101.546</td>\n",
       "</tr>\n",
       "<tr>\n",
       "  <th>Skew:</th>          <td>-1.372</td> <th>  Prob(JB):          </th> <td>8.90e-23</td>\n",
       "</tr>\n",
       "<tr>\n",
       "  <th>Kurtosis:</th>      <td> 5.881</td> <th>  Cond. No.          </th> <td>    405.</td>\n",
       "</tr>\n",
       "</table><br/><br/>Warnings:<br/>[1] Standard Errors assume that the covariance matrix of the errors is correctly specified."
      ],
      "text/plain": [
       "<class 'statsmodels.iolib.summary.Summary'>\n",
       "\"\"\"\n",
       "                            OLS Regression Results                            \n",
       "==============================================================================\n",
       "Dep. Variable:                  Sales   R-squared:                       0.895\n",
       "Model:                            OLS   Adj. R-squared:                  0.894\n",
       "Method:                 Least Squares   F-statistic:                     644.5\n",
       "Date:                Sun, 31 Mar 2019   Prob (F-statistic):           1.14e-74\n",
       "Time:                        21:36:10   Log-Likelihood:                -304.78\n",
       "No. Observations:                 154   AIC:                             615.6\n",
       "Df Residuals:                     151   BIC:                             624.7\n",
       "Df Model:                           2                                         \n",
       "Covariance Type:            nonrobust                                         \n",
       "==============================================================================\n",
       "                 coef    std err          t      P>|t|      [0.025      0.975]\n",
       "------------------------------------------------------------------------------\n",
       "Intercept      2.9902      0.339      8.817      0.000       2.320       3.660\n",
       "TV             0.0469      0.002     28.814      0.000       0.044       0.050\n",
       "Radio          0.1780      0.010     18.491      0.000       0.159       0.197\n",
       "==============================================================================\n",
       "Omnibus:                       47.841   Durbin-Watson:                   2.177\n",
       "Prob(Omnibus):                  0.000   Jarque-Bera (JB):              101.546\n",
       "Skew:                          -1.372   Prob(JB):                     8.90e-23\n",
       "Kurtosis:                       5.881   Cond. No.                         405.\n",
       "==============================================================================\n",
       "\n",
       "Warnings:\n",
       "[1] Standard Errors assume that the covariance matrix of the errors is correctly specified.\n",
       "\"\"\""
      ]
     },
     "execution_count": 41,
     "metadata": {},
     "output_type": "execute_result"
    }
   ],
   "source": [
    "lm.summary()"
   ]
  },
  {
   "cell_type": "markdown",
   "metadata": {},
   "source": [
    "### el modelo resultante es: \n",
    "Sales = 2.9902 + (0.0469 * TV) + (0.1780 * Radio)"
   ]
  },
  {
   "cell_type": "code",
   "execution_count": 42,
   "metadata": {},
   "outputs": [
    {
     "data": {
      "text/plain": [
       "0      20.501113\n",
       "1      12.069609\n",
       "2      11.964681\n",
       "4      13.385690\n",
       "5      12.100193\n",
       "8       3.767014\n",
       "9      12.816890\n",
       "10      7.120294\n",
       "11     17.323530\n",
       "12     10.352041\n",
       "13      8.912232\n",
       "14     18.410581\n",
       "17     23.225697\n",
       "19     14.146925\n",
       "20     18.155386\n",
       "21     15.023973\n",
       "22      6.438438\n",
       "23     16.697406\n",
       "24      8.152323\n",
       "25     15.934337\n",
       "26     14.901691\n",
       "28     19.473355\n",
       "29      9.146378\n",
       "31     11.377978\n",
       "33     18.997204\n",
       "34      7.724525\n",
       "35     17.344004\n",
       "36     23.293560\n",
       "37     15.282369\n",
       "38      9.761710\n",
       "         ...    \n",
       "162    15.040979\n",
       "163    17.201838\n",
       "165    14.585529\n",
       "166    10.520426\n",
       "168    17.285153\n",
       "170     7.397905\n",
       "171    14.419153\n",
       "172     7.485813\n",
       "173    12.146095\n",
       "174    14.018443\n",
       "175    24.669818\n",
       "176    20.006282\n",
       "178    16.367545\n",
       "179    12.530950\n",
       "180    10.792253\n",
       "182     6.638518\n",
       "183    24.121332\n",
       "185    20.623864\n",
       "186     9.901854\n",
       "187    17.053887\n",
       "188    18.867732\n",
       "189     6.019960\n",
       "190    12.155603\n",
       "192     4.525986\n",
       "193    18.281886\n",
       "194    16.341527\n",
       "195     5.439001\n",
       "196     8.277082\n",
       "197    12.940658\n",
       "198    23.755906\n",
       "Length: 154, dtype: float64"
      ]
     },
     "execution_count": 42,
     "metadata": {},
     "output_type": "execute_result"
    }
   ],
   "source": [
    "sales_prediccion_training = lm.predict(training)\n",
    "sales_prediccion_training"
   ]
  },
  {
   "cell_type": "code",
   "execution_count": 43,
   "metadata": {},
   "outputs": [
    {
     "name": "stdout",
     "output_type": "stream",
     "text": [
      "el error es:  0.12612780433942578\n"
     ]
    }
   ],
   "source": [
    "SSD = sum((training[\"Sales\"] - sales_prediccion_training)**2)\n",
    "SSD\n",
    "RSE = np.sqrt(SSD/len(training-2-1))\n",
    "RSE\n",
    "sales_mean = np.mean(training[\"Sales\"])\n",
    "error = RSE/sales_mean\n",
    "print (\"el error es: \",error)"
   ]
  },
  {
   "cell_type": "markdown",
   "metadata": {},
   "source": [
    "# validacion del modelo con el conjunto de testing"
   ]
  },
  {
   "cell_type": "code",
   "execution_count": 44,
   "metadata": {},
   "outputs": [
    {
     "data": {
      "text/plain": [
       "3      17.440255\n",
       "6      11.522140\n",
       "7      12.111615\n",
       "15     20.636638\n",
       "16     12.681111\n",
       "18      9.881581\n",
       "27     17.214840\n",
       "30     21.753724\n",
       "32      7.812621\n",
       "41     17.229476\n",
       "45     15.200674\n",
       "50     12.905870\n",
       "53     19.769807\n",
       "54     20.427332\n",
       "55     21.103202\n",
       "67     12.099175\n",
       "68     19.010260\n",
       "72     10.118927\n",
       "77     13.709512\n",
       "80     11.322368\n",
       "84     20.648516\n",
       "92     19.154743\n",
       "94     10.515151\n",
       "96     12.873947\n",
       "100    14.178607\n",
       "103    14.857382\n",
       "105    17.710461\n",
       "119     6.746807\n",
       "128    22.034964\n",
       "129     7.919008\n",
       "131    15.935355\n",
       "134    11.588851\n",
       "135    13.617988\n",
       "138     9.614655\n",
       "142    19.232582\n",
       "145     9.903755\n",
       "149     9.676533\n",
       "160    14.295800\n",
       "164    11.099015\n",
       "167    13.607651\n",
       "169    18.200793\n",
       "177    12.355027\n",
       "181    14.191582\n",
       "184    18.675525\n",
       "191     8.450636\n",
       "199    15.398437\n",
       "dtype: float64"
      ]
     },
     "execution_count": 44,
     "metadata": {},
     "output_type": "execute_result"
    }
   ],
   "source": [
    "sales_prediccion_testing = lm.predict(testing)\n",
    "sales_prediccion_testing"
   ]
  },
  {
   "cell_type": "code",
   "execution_count": 45,
   "metadata": {},
   "outputs": [
    {
     "name": "stdout",
     "output_type": "stream",
     "text": [
      "el error es:  0.09689263368500879\n"
     ]
    }
   ],
   "source": [
    "SSD = sum((testing[\"Sales\"] - sales_prediccion_testing)**2)\n",
    "SSD\n",
    "RSE = np.sqrt(SSD/len(testing-2-1))\n",
    "RSE\n",
    "sales_mean = np.mean(testing[\"Sales\"])\n",
    "error = RSE/sales_mean\n",
    "print (\"el error es: \",error)"
   ]
  },
  {
   "cell_type": "code",
   "execution_count": null,
   "metadata": {},
   "outputs": [],
   "source": []
  }
 ],
 "metadata": {
  "kernelspec": {
   "display_name": "Python 3",
   "language": "python",
   "name": "python3"
  },
  "language_info": {
   "codemirror_mode": {
    "name": "ipython",
    "version": 3
   },
   "file_extension": ".py",
   "mimetype": "text/x-python",
   "name": "python",
   "nbconvert_exporter": "python",
   "pygments_lexer": "ipython3",
   "version": "3.7.1"
  }
 },
 "nbformat": 4,
 "nbformat_minor": 2
}
