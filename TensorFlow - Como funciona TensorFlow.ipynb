{
 "cells": [
  {
   "cell_type": "markdown",
   "metadata": {},
   "source": [
    "# ¿Como funciona TensorFlow?"
   ]
  },
  {
   "cell_type": "code",
   "execution_count": 15,
   "metadata": {},
   "outputs": [],
   "source": [
    "import tensorflow as tf"
   ]
  },
  {
   "cell_type": "markdown",
   "metadata": {},
   "source": [
    "### 1- importacion del conjunto de datos"
   ]
  },
  {
   "cell_type": "markdown",
   "metadata": {},
   "source": [
    "### 2- transformacion y normalizacion de los datos."
   ]
  },
  {
   "cell_type": "markdown",
   "metadata": {},
   "source": [
    "### 3- dividir el conjunto de datos en conjunto de entrenamiento y test."
   ]
  },
  {
   "cell_type": "markdown",
   "metadata": {},
   "source": [
    "### 4- definir los hiperparametros (variables) del algoritmo. Estos son las variables que utiliza el algoritmo y que va ajustando automaticamente para disminuir la funcion de perdida."
   ]
  },
  {
   "cell_type": "code",
   "execution_count": 2,
   "metadata": {},
   "outputs": [],
   "source": [
    "#un ejemplo de definicion de hiperparametros seria:\n",
    "\n",
    "learning_rate = 0.01  ##ratio de aprendizaje\n",
    "batch_size = 50       ##tamao de la muestra por cada iteracion\n",
    "iterations = 10000    ##iteraciones"
   ]
  },
  {
   "cell_type": "markdown",
   "metadata": {},
   "source": [
    "### 5- inicializar  placeholders"
   ]
  },
  {
   "cell_type": "code",
   "execution_count": 12,
   "metadata": {},
   "outputs": [],
   "source": [
    "#un ejemplo de una constante y 2 placeholders seria:\n",
    "\n",
    "x = tf.constant(30) ##una constante\n",
    "x_input = tf.placeholder(tf.float32, [None,3]) ## los placeholders son estructuras a las que posteriormente se le van a cargar datos. None significa que no sabemos cuantos vectores van a ser suministrados al input, y 3 significa que todos los vectores que suministremos van a ser de 3 coordenadas\n",
    "y_input = tf.placeholder(tf.float32, [None,5]) "
   ]
  },
  {
   "cell_type": "markdown",
   "metadata": {},
   "source": [
    "### 6- definir la estructura del modelo del algoritmo"
   ]
  },
  {
   "cell_type": "code",
   "execution_count": null,
   "metadata": {},
   "outputs": [],
   "source": [
    "## un ejemplo seria: para una funcion lineal como la sig: y=mx+n\n",
    "\n",
    "##la estructura del modelo del algoritmo seria: \n",
    "\n",
    "y_pred = tf.add(tf.multiply(m,x),n)"
   ]
  },
  {
   "cell_type": "markdown",
   "metadata": {},
   "source": [
    "### 7- declarar la funcion de perdidas (mide como de lejos las predicciones se han alejado del valor real)"
   ]
  },
  {
   "cell_type": "code",
   "execution_count": null,
   "metadata": {},
   "outputs": [],
   "source": [
    "# la funcion mas tipica es la del error cuadratico medio (MSE)\n",
    "MSE = ((y_actual - y_pred)**2) / n\n",
    "# esto en TensorFlow seria de la siguiente manera:\n",
    "loss = tf.reduce_mean(tf.square(y_actual - y_pred))"
   ]
  },
  {
   "cell_type": "markdown",
   "metadata": {},
   "source": [
    "### 8- inicializar y entrenar el modelo anterior"
   ]
  },
  {
   "cell_type": "code",
   "execution_count": null,
   "metadata": {},
   "outputs": [],
   "source": [
    "# opcion 1:\n",
    "with tf.Session(graph=graph) as session:\n",
    "    ...\n",
    "    session.run(...)"
   ]
  },
  {
   "cell_type": "code",
   "execution_count": null,
   "metadata": {},
   "outputs": [],
   "source": [
    "# opcion 2:\n",
    "session = tf.Session(graph=graph)\n",
    "...\n",
    "session.run(...)"
   ]
  },
  {
   "cell_type": "markdown",
   "metadata": {},
   "source": [
    "### 9- evaluar el modelo(como de bien el modelo predice nuevos datos a partir de los criterios que ha inferido)"
   ]
  },
  {
   "cell_type": "markdown",
   "metadata": {},
   "source": [
    "### 10- ajustar los hiperparametros"
   ]
  },
  {
   "cell_type": "markdown",
   "metadata": {},
   "source": [
    "### 11- subir a produccion y predecir nuevos datos"
   ]
  },
  {
   "cell_type": "code",
   "execution_count": null,
   "metadata": {},
   "outputs": [],
   "source": []
  }
 ],
 "metadata": {
  "kernelspec": {
   "display_name": "Python 3",
   "language": "python",
   "name": "python3"
  },
  "language_info": {
   "codemirror_mode": {
    "name": "ipython",
    "version": 3
   },
   "file_extension": ".py",
   "mimetype": "text/x-python",
   "name": "python",
   "nbconvert_exporter": "python",
   "pygments_lexer": "ipython3",
   "version": "3.7.1"
  }
 },
 "nbformat": 4,
 "nbformat_minor": 2
}
