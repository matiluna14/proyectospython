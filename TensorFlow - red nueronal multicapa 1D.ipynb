{
 "cells": [
  {
   "cell_type": "code",
   "execution_count": 106,
   "metadata": {},
   "outputs": [],
   "source": [
    "import numpy as np\n",
    "import tensorflow as tf\n",
    "session = tf.Session()"
   ]
  },
  {
   "cell_type": "code",
   "execution_count": 107,
   "metadata": {},
   "outputs": [],
   "source": [
    "data_size = 25\n",
    "data_1d = np.random.normal(size = data_size) # se definen los datos como un vector de tamaño 25\n",
    "x_data = tf.placeholder(shape=[data_size], dtype=tf.float32) # se define el placeholder"
   ]
  },
  {
   "cell_type": "markdown",
   "metadata": {},
   "source": [
    "#### en el caso de imagenes, tensorflow trabaja con 4 dimensiones, las cuales son:\n",
    "      [cantidad de elementos, anchura, altura, canales de color]"
   ]
  },
  {
   "cell_type": "markdown",
   "metadata": {},
   "source": [
    "# capa de convolucion\n",
    "    paso 1: transforma el vector de 1d en un vector de 4d\n",
    "    paso 2: ejecuta la operacion de convolucion\n",
    "    paso 3: realiza un squeeze para aplanar el resultado"
   ]
  },
  {
   "cell_type": "code",
   "execution_count": 108,
   "metadata": {},
   "outputs": [],
   "source": [
    "def conv_layer_1d(input_1d, my_filter):\n",
    "    input_2d = tf.expand_dims(input_1d, 0) # se añade 1 dimension\n",
    "    input_3d = tf.expand_dims(input_2d, 0) # se añade 1 dimension\n",
    "    input_4d = tf.expand_dims(input_3d, 3) # se añade 1 dimension\n",
    "    convolution = tf.nn.conv2d(input_4d, filter=my_filter, strides=[1,1,1,1], padding=\"VALID\") # se ejecuta la operaciond e convolucion\n",
    "    output = tf.squeeze(convolution) # se quita las dimensiones añadidas anteriormente\n",
    "    return(output)"
   ]
  },
  {
   "cell_type": "code",
   "execution_count": 109,
   "metadata": {},
   "outputs": [],
   "source": [
    "my_filter = tf.Variable(tf.random_normal(shape=[1,5,1,1])) #[cantidad de elementos, anchura, altura, canales de color]\n",
    "my_conv_output = conv_layer_1d(x_data, my_filter)"
   ]
  },
  {
   "cell_type": "markdown",
   "metadata": {},
   "source": [
    "# capa de activacion"
   ]
  },
  {
   "cell_type": "code",
   "execution_count": 110,
   "metadata": {},
   "outputs": [],
   "source": [
    "def activation(input_1d):\n",
    "    return tf.nn.relu(input_1d)"
   ]
  },
  {
   "cell_type": "code",
   "execution_count": 111,
   "metadata": {},
   "outputs": [],
   "source": [
    "my_activation_output = activation(my_conv_output)"
   ]
  },
  {
   "cell_type": "markdown",
   "metadata": {},
   "source": [
    "# capa de maxpool\n",
    "    -se encarga de eliminar valores mediocres\n",
    "    -devuleve el valor maximo de los elementos que caen dentro de la ventana"
   ]
  },
  {
   "cell_type": "code",
   "execution_count": 112,
   "metadata": {},
   "outputs": [],
   "source": [
    "def max_pool(input_1d, width): #\"width\" es el tamaño de la ventana\n",
    "    input_2d = tf.expand_dims(input_1d, 0)\n",
    "    input_3d = tf.expand_dims(input_2d, 0)\n",
    "    input_4d = tf.expand_dims(input_3d, 3)\n",
    "    pooling = tf.nn.max_pool(input_4d, ksize=[1,1,width,1], strides=[1,1,1,1], padding=\"VALID\")\n",
    "    output = tf.squeeze(pooling) # se quita las dimensiones añadidas anteriormente\n",
    "    return(output)"
   ]
  },
  {
   "cell_type": "code",
   "execution_count": 113,
   "metadata": {},
   "outputs": [],
   "source": [
    "my_maxpool_output = max_pool(my_activation_output, width=5) # en este caso el tamaño de la ventana sera de 5"
   ]
  },
  {
   "cell_type": "markdown",
   "metadata": {},
   "source": [
    "# capa de fullyconnected\n",
    "    -conecta toda la informacion anterior y devuleve la salida\n",
    "    -la salida se debe indicar, segun lo que necesitamos"
   ]
  },
  {
   "cell_type": "code",
   "execution_count": 114,
   "metadata": {},
   "outputs": [],
   "source": [
    "def fully_connected(input_layer, num_output):\n",
    "    weight_shape = tf.squeeze(tf.stack([tf.shape(input_layer), [num_output]])) # se define el tamaño de la matriz de pesos\n",
    "    weight = tf.random_normal(weight_shape, stddev=0.1) # matriz de pesos con el tamaño definido anteirormente y una desviacion estandar pequeña\n",
    "    bias = tf.random_normal(shape=[num_output]) # se define el bias\n",
    "    input_layer_2d = tf.expand_dims(input_layer, 0) # se expande la dimension del input_layer a 2d para poder multiplicar\n",
    "    full_output = tf.add(tf.matmul(input_layer_2d, weight), bias) # operacion\n",
    "    full_output_1d = tf.squeeze(full_output) #se quita las dimensiones extras\n",
    "    return(full_output_1d)"
   ]
  },
  {
   "cell_type": "code",
   "execution_count": 115,
   "metadata": {},
   "outputs": [],
   "source": [
    "my_full_output = fully_connected(my_maxpool_output, 5) # el valor de la salida en este caso sera 5"
   ]
  },
  {
   "cell_type": "markdown",
   "metadata": {},
   "source": [
    "### hasta aqui la definicion de capas"
   ]
  },
  {
   "cell_type": "markdown",
   "metadata": {},
   "source": [
    "# se inicializan variables "
   ]
  },
  {
   "cell_type": "code",
   "execution_count": 116,
   "metadata": {},
   "outputs": [],
   "source": [
    "init = tf.global_variables_initializer()\n",
    "session.run(init)"
   ]
  },
  {
   "cell_type": "markdown",
   "metadata": {},
   "source": [
    "# resultados de cada capa"
   ]
  },
  {
   "cell_type": "code",
   "execution_count": 117,
   "metadata": {},
   "outputs": [
    {
     "data": {
      "text/plain": [
       "array([ 0.82776061, -0.37962648, -0.90966925, -0.4982885 , -0.91240613,\n",
       "        0.93977772,  0.90419787,  0.59773432, -0.23843811, -1.11869032,\n",
       "       -0.12169182,  0.90916853, -0.49330608,  1.15427104, -0.17326395,\n",
       "        0.78375885, -0.23922061,  0.24791774, -1.03347151, -0.94509943,\n",
       "       -1.37755911,  0.18543963,  0.26871107,  0.37879331,  0.7138591 ])"
      ]
     },
     "execution_count": 117,
     "metadata": {},
     "output_type": "execute_result"
    }
   ],
   "source": [
    "# datos de entrada iniciales\n",
    "data_1d"
   ]
  },
  {
   "cell_type": "code",
   "execution_count": 118,
   "metadata": {},
   "outputs": [
    {
     "data": {
      "text/plain": [
       "array([[[[1.4869758 ]],\n",
       "\n",
       "        [[0.21947595]],\n",
       "\n",
       "        [[1.0534577 ]],\n",
       "\n",
       "        [[0.5079911 ]],\n",
       "\n",
       "        [[0.75944173]]]], dtype=float32)"
      ]
     },
     "execution_count": 118,
     "metadata": {},
     "output_type": "execute_result"
    }
   ],
   "source": [
    "# el filtro\n",
    "session.run(my_filter)"
   ]
  },
  {
   "cell_type": "code",
   "execution_count": 119,
   "metadata": {},
   "outputs": [
    {
     "name": "stdout",
     "output_type": "stream",
     "text": [
      "INPUT: tamaño 25(correspondiente a data_1d)\n",
      "OPERACION: capa de convolucion con filtro de tamaño 5 + stride de tamaño 1\n",
      "SALIDA: tamaño 21\n",
      "[-0.75680244 -1.0388596  -1.2591157   0.9620908  -0.07536905  1.2548596\n",
      "  0.56382155  0.2866342  -0.64106226 -0.10639685 -0.04631376  2.9668212\n",
      " -0.44625732  2.5707598  -0.9965533   0.13135588 -2.9162998  -1.4127538\n",
      " -2.897102   -1.088154   -0.9900638 ]\n"
     ]
    }
   ],
   "source": [
    "# capa de convolucion (multiplica el my_filter con los datos de data_1d)\n",
    "print(\"INPUT: tamaño 25(correspondiente a data_1d)\")\n",
    "print(\"OPERACION: capa de convolucion con filtro de tamaño 5 + stride de tamaño 1\")\n",
    "print(\"SALIDA: tamaño 21\")\n",
    "print(session.run(my_conv_output, feed_dict={x_data: data_1d}))"
   ]
  },
  {
   "cell_type": "code",
   "execution_count": 120,
   "metadata": {},
   "outputs": [
    {
     "name": "stdout",
     "output_type": "stream",
     "text": [
      "INPUT: tamaño 21(correspondiente a la salida de la capa my_conv_output)\n",
      "OPERACION: se aplica funcion relu a los valores de la salida de la capa my_conv_output\n",
      "SALIDA: tamaño 21\n",
      "[-0.         -0.         -0.          0.9620908  -0.          1.2548596\n",
      "  0.56382155  0.2866342  -0.         -0.         -0.          2.9668212\n",
      " -0.          2.5707598  -0.          0.13135588 -0.         -0.\n",
      " -0.         -0.         -0.        ]\n"
     ]
    }
   ],
   "source": [
    "# capa de activacion (elimina los valores negativos de la salida devuelta por la capa de convolucion)\n",
    "print(\"INPUT: tamaño 21(correspondiente a la salida de la capa my_conv_output)\")\n",
    "print(\"OPERACION: se aplica funcion relu a los valores de la salida de la capa my_conv_output\")\n",
    "print(\"SALIDA: tamaño 21\")\n",
    "print(session.run(my_activation_output, feed_dict={x_data: data_1d}))"
   ]
  },
  {
   "cell_type": "code",
   "execution_count": 121,
   "metadata": {},
   "outputs": [
    {
     "name": "stdout",
     "output_type": "stream",
     "text": [
      "INPUT: tamaño 21(correspondiente a la salida de la capa de activacion)\n",
      "OPERACION: maxpooling con ventana de tamaño 5 + stride de tamaño 1\n",
      "SALIDA: tamaño 17\n",
      "[ 0.9620908   1.2548596   1.2548596   1.2548596   1.2548596   1.2548596\n",
      "  0.56382155  2.9668212   2.9668212   2.9668212   2.9668212   2.9668212\n",
      "  2.5707598   2.5707598   0.13135588  0.13135588 -0.        ]\n"
     ]
    }
   ],
   "source": [
    "# capa de maxpool(toma en fila valores de 5 en 5 y elije el mas grande)\n",
    "print(\"INPUT: tamaño 21(correspondiente a la salida de la capa de activacion)\")\n",
    "print(\"OPERACION: maxpooling con ventana de tamaño 5 + stride de tamaño 1\")\n",
    "print(\"SALIDA: tamaño 17\")\n",
    "print(session.run(my_maxpool_output, feed_dict={x_data: data_1d}))"
   ]
  },
  {
   "cell_type": "code",
   "execution_count": 122,
   "metadata": {},
   "outputs": [
    {
     "name": "stdout",
     "output_type": "stream",
     "text": [
      "INPUT: tamaño 17(correspondiente a la salida de la capa de max_pool)\n",
      "OPERACION: conectar la entrada data_1d con los 5 valores de salida\n",
      "SALIDA: tamaño 5\n",
      "[-1.287904   -0.41955012 -0.92214954 -2.7925303   0.1916806 ]\n"
     ]
    }
   ],
   "source": [
    "# capa fully_conected (conecta toda la informacion anterior y devuleve la salida)\n",
    "print(\"INPUT: tamaño 17(correspondiente a la salida de la capa de max_pool)\")\n",
    "print(\"OPERACION: conectar la entrada data_1d con los 5 valores de salida\")\n",
    "print(\"SALIDA: tamaño 5\")\n",
    "print(session.run(my_full_output, feed_dict={x_data: data_1d}))"
   ]
  }
 ],
 "metadata": {
  "kernelspec": {
   "display_name": "Python 3",
   "language": "python",
   "name": "python3"
  },
  "language_info": {
   "codemirror_mode": {
    "name": "ipython",
    "version": 3
   },
   "file_extension": ".py",
   "mimetype": "text/x-python",
   "name": "python",
   "nbconvert_exporter": "python",
   "pygments_lexer": "ipython3",
   "version": "3.7.1"
  }
 },
 "nbformat": 4,
 "nbformat_minor": 2
}
