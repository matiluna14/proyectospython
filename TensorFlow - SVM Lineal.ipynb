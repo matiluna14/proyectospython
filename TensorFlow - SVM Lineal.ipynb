{
 "cells": [
  {
   "cell_type": "markdown",
   "metadata": {},
   "source": [
    "# SVM Lineal binario para separar las flores de iris en setosa y no setosa"
   ]
  },
  {
   "cell_type": "markdown",
   "metadata": {},
   "source": [
    "$$\\frac{1}{n}\\sum_{i=1}^n \\max(0,1-y_i(Ax_i-b))+\\alpha||A||^2$$"
   ]
  },
  {
   "cell_type": "markdown",
   "metadata": {},
   "source": [
    "- $A$: es el vector de las pendientes en cada variable \n",
    "- $b$: es la ordenada en el origen (intercept)\n",
    "- $x=(x_1,x_2,\\cdots, x_n)$ es el vector de datos\n",
    "- $y_i$ es la clase del objeto (-1 o 1)\n",
    "- $\\alpha$: coeficiente de regularización y suavizado de la separación"
   ]
  },
  {
   "cell_type": "code",
   "execution_count": 171,
   "metadata": {},
   "outputs": [],
   "source": [
    "import matplotlib.pyplot as plt\n",
    "import numpy as np\n",
    "from sklearn import datasets"
   ]
  },
  {
   "cell_type": "code",
   "execution_count": 172,
   "metadata": {},
   "outputs": [],
   "source": [
    "import tensorflow as tf\n",
    "session = tf.Session()"
   ]
  },
  {
   "cell_type": "markdown",
   "metadata": {},
   "source": [
    "## se cargan los datos"
   ]
  },
  {
   "cell_type": "code",
   "execution_count": 173,
   "metadata": {},
   "outputs": [],
   "source": [
    "iris = datasets.load_iris()\n",
    "x_vals = np.array([[x[0], x[3]] for x in iris.data])\n",
    "y_vals = np.array([1 if y == 0 else -1 for y in iris.target])"
   ]
  },
  {
   "cell_type": "markdown",
   "metadata": {},
   "source": [
    "## se divide el dataset en conjunto de entrenamiento y conjunto de test"
   ]
  },
  {
   "cell_type": "code",
   "execution_count": 174,
   "metadata": {},
   "outputs": [],
   "source": [
    "train_index = np.random.choice(len(x_vals), round(len(x_vals)*0.8), replace=False)\n",
    "test_index = np.array(list(set(range(len(x_vals)))-set(train_index)))\n",
    "\n",
    "x_vals_train = x_vals[train_index]\n",
    "y_vals_train = y_vals[train_index]\n",
    "\n",
    "x_vals_test = x_vals[test_index]\n",
    "y_vals_test = y_vals[test_index]"
   ]
  },
  {
   "cell_type": "markdown",
   "metadata": {},
   "source": [
    "## se declaran los placeholders"
   ]
  },
  {
   "cell_type": "code",
   "execution_count": 175,
   "metadata": {},
   "outputs": [],
   "source": [
    "x_data = tf.placeholder(shape=[None,2], dtype=tf.float32)\n",
    "y_target = tf.placeholder(shape=[None,1], dtype=tf.float32)"
   ]
  },
  {
   "cell_type": "markdown",
   "metadata": {},
   "source": [
    "## se declaran las variables"
   ]
  },
  {
   "cell_type": "code",
   "execution_count": 176,
   "metadata": {},
   "outputs": [],
   "source": [
    "A = tf.Variable(tf.random_normal(shape=[2,1]))\n",
    "b = tf.Variable(tf.random_normal(shape=[1,1]))"
   ]
  },
  {
   "cell_type": "markdown",
   "metadata": {},
   "source": [
    "## creacion del modelo\n",
    "    - y = Ax - b"
   ]
  },
  {
   "cell_type": "code",
   "execution_count": 177,
   "metadata": {},
   "outputs": [],
   "source": [
    "prediccion = tf.subtract(tf.matmul(x_data, A), b)"
   ]
  },
  {
   "cell_type": "markdown",
   "metadata": {},
   "source": [
    "## se define la funcion de perdida"
   ]
  },
  {
   "cell_type": "code",
   "execution_count": 178,
   "metadata": {},
   "outputs": [],
   "source": [
    "clasification_termino = tf.reduce_mean(tf.maximum(0.0, tf.subtract(1.0, tf.multiply(prediccion, y_target))))\n",
    "alpha = tf.constant([0.1])\n",
    "l2_norm = tf.reduce_sum(tf.square(A))\n",
    "loss = tf.add(clasification_termino, tf.multiply(alpha, l2_norm))"
   ]
  },
  {
   "cell_type": "markdown",
   "metadata": {},
   "source": [
    "## funcion de clasificacion del modelo"
   ]
  },
  {
   "cell_type": "code",
   "execution_count": 179,
   "metadata": {},
   "outputs": [],
   "source": [
    "clasificacion_del_modelo = tf.sign(prediccion) ##cuando la prediccion sea un numero negativo, la funcion \"sign\" lo convertira a -1; y cuando la prediccion sea un numero positivo la funcion \"sign\" lo convertira a 1\n",
    "accuracy = tf.reduce_mean(tf.cast(tf.equal(clasificacion_del_modelo, y_target), tf.float32)) ## saca el porcentaje de aciertos con respecto al total de los datos"
   ]
  },
  {
   "cell_type": "markdown",
   "metadata": {},
   "source": [
    "## se define el batch_size"
   ]
  },
  {
   "cell_type": "code",
   "execution_count": 180,
   "metadata": {},
   "outputs": [],
   "source": [
    "batch_size = 100"
   ]
  },
  {
   "cell_type": "markdown",
   "metadata": {},
   "source": [
    "## se define el optimizador con propagacion hacia atras"
   ]
  },
  {
   "cell_type": "code",
   "execution_count": 181,
   "metadata": {},
   "outputs": [],
   "source": [
    "optimizador = tf.train.GradientDescentOptimizer(learning_rate=0.01)\n",
    "train_step = optimizador.minimize(loss)"
   ]
  },
  {
   "cell_type": "markdown",
   "metadata": {},
   "source": [
    "## inicializar las variables"
   ]
  },
  {
   "cell_type": "code",
   "execution_count": 182,
   "metadata": {},
   "outputs": [],
   "source": [
    "init = tf.global_variables_initializer()\n",
    "session.run(init)"
   ]
  },
  {
   "cell_type": "markdown",
   "metadata": {},
   "source": [
    "## entrenamiento del modelo"
   ]
  },
  {
   "cell_type": "code",
   "execution_count": 183,
   "metadata": {},
   "outputs": [
    {
     "name": "stdout",
     "output_type": "stream",
     "text": [
      "Paso #100, A = [[-0.45593917]\n",
      " [ 0.76773345]], b = [[-0.3989672]], Loss = [0.78566074]\n",
      "Paso #200, A = [[-0.31297898]\n",
      " [ 0.26912913]], b = [[-0.4592671]], Loss = [0.76631355]\n",
      "Paso #300, A = [[-0.2329816 ]\n",
      " [-0.08544067]], b = [[-0.50116706]], Loss = [0.49575636]\n",
      "Paso #400, A = [[-0.17179058]\n",
      " [-0.32653388]], b = [[-0.5431669]], Loss = [0.46110323]\n",
      "Paso #500, A = [[-0.1289354]\n",
      " [-0.5199187]], b = [[-0.586167]], Loss = [0.425257]\n",
      "Paso #600, A = [[-0.11469166]\n",
      " [-0.6710814 ]], b = [[-0.6247667]], Loss = [0.3402609]\n",
      "Paso #700, A = [[-0.08183544]\n",
      " [-0.7878975 ]], b = [[-0.6709669]], Loss = [0.362863]\n",
      "Paso #800, A = [[-0.0602684]\n",
      " [-0.8847718]], b = [[-0.7151668]], Loss = [0.37710512]\n",
      "Paso #900, A = [[-0.05241114]\n",
      " [-0.97026056]], b = [[-0.7592666]], Loss = [0.38926515]\n",
      "Paso #1000, A = [[-0.05401907]\n",
      " [-1.0372865 ]], b = [[-0.80236655]], Loss = [0.36050954]\n",
      "Paso #1100, A = [[-0.04087676]\n",
      " [-1.0867038 ]], b = [[-0.8473664]], Loss = [0.36809728]\n",
      "Paso #1200, A = [[-0.03563198]\n",
      " [-1.1267186 ]], b = [[-0.8918666]], Loss = [0.40740642]\n",
      "Paso #1300, A = [[-0.0440891]\n",
      " [-1.1556009]], b = [[-0.9331667]], Loss = [0.3598698]\n",
      "Paso #1400, A = [[-0.03453895]\n",
      " [-1.1805964 ]], b = [[-0.97836643]], Loss = [0.35347408]\n",
      "Paso #1500, A = [[-0.03870644]\n",
      " [-1.20856   ]], b = [[-1.021866]], Loss = [0.34932292]\n",
      "Paso #1600, A = [[-0.0444585]\n",
      " [-1.2320589]], b = [[-1.064866]], Loss = [0.344114]\n",
      "Paso #1700, A = [[-0.03912864]\n",
      " [-1.2532189 ]], b = [[-1.1102662]], Loss = [0.34090632]\n",
      "Paso #1800, A = [[-0.04944233]\n",
      " [-1.2710006 ]], b = [[-1.1526662]], Loss = [0.37101424]\n",
      "Paso #1900, A = [[-0.04496143]\n",
      " [-1.2820582 ]], b = [[-1.1971661]], Loss = [0.34220615]\n",
      "Paso #2000, A = [[-0.05750567]\n",
      " [-1.2870411 ]], b = [[-1.237366]], Loss = [0.3237555]\n",
      "Paso #2100, A = [[-0.06193315]\n",
      " [-1.2911941 ]], b = [[-1.2791661]], Loss = [0.33110854]\n",
      "Paso #2200, A = [[-0.0653933]\n",
      " [-1.2998551]], b = [[-1.3201662]], Loss = [0.3288759]\n",
      "Paso #2300, A = [[-0.0759785]\n",
      " [-1.2990191]], b = [[-1.3595662]], Loss = [0.345513]\n",
      "Paso #2400, A = [[-0.07590509]\n",
      " [-1.3037508 ]], b = [[-1.4016656]], Loss = [0.3321682]\n",
      "Paso #2500, A = [[-0.07273046]\n",
      " [-1.3130661 ]], b = [[-1.4447656]], Loss = [0.3380289]\n",
      "Paso #2600, A = [[-0.09260151]\n",
      " [-1.3187348 ]], b = [[-1.4838653]], Loss = [0.37612805]\n",
      "Paso #2700, A = [[-0.08804469]\n",
      " [-1.3217106 ]], b = [[-1.5245652]], Loss = [0.31252587]\n",
      "Paso #2800, A = [[-0.10520492]\n",
      " [-1.3278606 ]], b = [[-1.5627655]], Loss = [0.3489582]\n",
      "Paso #2900, A = [[-0.0970971]\n",
      " [-1.3326502]], b = [[-1.6050655]], Loss = [0.31983384]\n",
      "Paso #3000, A = [[-0.11437533]\n",
      " [-1.3358104 ]], b = [[-1.6426657]], Loss = [0.35396135]\n"
     ]
    }
   ],
   "source": [
    "loss_vect = []\n",
    "train_acc = []\n",
    "test_acc = []\n",
    "\n",
    "for i in range(3000):\n",
    "    rand_index = np.random.choice(len(x_vals_train), size=batch_size)\n",
    "    rand_x = x_vals_train[rand_index]\n",
    "    rand_y = np.transpose([y_vals_train[rand_index]])\n",
    "    session.run(train_step, feed_dict = {x_data: rand_x, y_target: rand_y})\n",
    "    \n",
    "    temp_loss = session.run(loss, feed_dict = {x_data: rand_x, y_target: rand_y})\n",
    "    loss_vect.append(temp_loss)\n",
    "    \n",
    "    train_acc_temp = session.run(accuracy, feed_dict = {x_data: x_vals_train, y_target: np.transpose([y_vals_train])})\n",
    "    train_acc.append(train_acc_temp)\n",
    "    \n",
    "    test_acc_temp = session.run(accuracy, feed_dict= {x_data: x_vals_test, y_target: np.transpose([y_vals_test])})\n",
    "    test_acc.append(test_acc_temp)\n",
    "    \n",
    "    if(i+1)%100==0:\n",
    "        print(\"Paso #\"+str(i+1)+\", A = \"+str(session.run(A))+\", b = \"+str(session.run(b))+ \", Loss = \"+str(temp_loss))"
   ]
  },
  {
   "cell_type": "code",
   "execution_count": 184,
   "metadata": {},
   "outputs": [],
   "source": [
    "## se obtienen los valores de \"A\" y de \"b\"\n",
    "[[a1],[a2]] = session.run(A)\n",
    "[[b]] = session.run(b)\n",
    "\n",
    "slope = -a2/a1\n",
    "y_intercept = b/a1"
   ]
  },
  {
   "cell_type": "code",
   "execution_count": 185,
   "metadata": {},
   "outputs": [],
   "source": [
    "x1_vals = [d[1] for d in x_vals]\n",
    "\n",
    "best_fit = []\n",
    "for i in x1_vals:\n",
    "    best_fit.append(slope*i + y_intercept)\n",
    "    \n",
    "setosa_x = [d[1] for i, d in enumerate(x_vals) if y_vals[i]==1]\n",
    "setosa_y = [d[0] for i, d in enumerate(x_vals) if y_vals[i]==1]\n",
    "no_setosa_x = [d[1] for i, d in enumerate(x_vals) if y_vals[i]==-1]\n",
    "no_setosa_y = [d[0] for i, d in enumerate(x_vals) if y_vals[i]==-1] "
   ]
  },
  {
   "cell_type": "code",
   "execution_count": 186,
   "metadata": {},
   "outputs": [
    {
     "data": {
      "image/png": "[encoded data removed]",
      "text/plain": [
       "<Figure size 432x288 with 1 Axes>"
      ]
     },
     "metadata": {
      "needs_background": "light"
     },
     "output_type": "display_data"
    }
   ],
   "source": [
    "plt.plot(setosa_x, setosa_y, 'o', label = \"Setosa\")\n",
    "plt.plot(no_setosa_x, no_setosa_y, 'x', label=\"No Setosa\")\n",
    "plt.plot(x1_vals, best_fit, 'r-', label = \"Separador Lineal\", linewidth=3)\n",
    "plt.ylim([0,10])\n",
    "plt.legend(loc=\"lower right\")\n",
    "plt.xlabel(\"Anchura de Pétalo\")\n",
    "plt.ylabel(\"Longitud de Sépalo\")\n",
    "plt.title(\"Setosa vs No Setosa por medidas\")\n",
    "plt.show()"
   ]
  },
  {
   "cell_type": "code",
   "execution_count": 187,
   "metadata": {},
   "outputs": [
    {
     "data": {
      "image/png": "[encoded data removed]",
      "text/plain": [
       "<Figure size 432x288 with 1 Axes>"
      ]
     },
     "metadata": {
      "needs_background": "light"
     },
     "output_type": "display_data"
    }
   ],
   "source": [
    "plt.plot(train_acc, 'k-', label = \"Precisión en Entrenamiento\")\n",
    "plt.plot(test_acc, 'r--', label = \"Precisión en Test\")\n",
    "plt.title(\"Precisión en entrenamiento y test\")\n",
    "plt.xlabel(\"Número de iteración\")\n",
    "plt.ylabel(\"Precisión\")\n",
    "plt.legend(loc=\"lower right\")\n",
    "plt.ylim([0,1])\n",
    "plt.show()"
   ]
  },
  {
   "cell_type": "code",
   "execution_count": 188,
   "metadata": {},
   "outputs": [
    {
     "data": {
      "image/png": "[encoded data removed]",
      "text/plain": [
       "<Figure size 432x288 with 1 Axes>"
      ]
     },
     "metadata": {
      "needs_background": "light"
     },
     "output_type": "display_data"
    }
   ],
   "source": [
    "plt.plot(loss_vect, 'k-')\n",
    "plt.title(\"Función de pérdida por iteración\")\n",
    "plt.xlabel(\"Número de iteración\")\n",
    "plt.ylabel(\"Función de Pérdidas\")\n",
    "plt.ylim([0,1])\n",
    "plt.show()"
   ]
  },
  {
   "cell_type": "code",
   "execution_count": null,
   "metadata": {},
   "outputs": [],
   "source": []
  }
 ],
 "metadata": {
  "kernelspec": {
   "display_name": "Python 3",
   "language": "python",
   "name": "python3"
  },
  "language_info": {
   "codemirror_mode": {
    "name": "ipython",
    "version": 3
   },
   "file_extension": ".py",
   "mimetype": "text/x-python",
   "name": "python",
   "nbconvert_exporter": "python",
   "pygments_lexer": "ipython3",
   "version": "3.7.1"
  }
 },
 "nbformat": 4,
 "nbformat_minor": 2
}
