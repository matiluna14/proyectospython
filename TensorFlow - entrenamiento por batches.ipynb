{
 "cells": [
  {
   "cell_type": "markdown",
   "metadata": {},
   "source": [
    "# ENTRENAMIENTO POR BATCHES\n",
    "    -toma conjunto de datos para entrenar"
   ]
  },
  {
   "cell_type": "markdown",
   "metadata": {},
   "source": [
    "### el ejemplo a llevar a cabo sera el siguiente:\n",
    "    -x_vals = randomnormal(media=1, desviacion=0.1)\n",
    "    -la operacion sera: y = (A * x_vals) ;\n",
    "    -target = 10\n",
    "    -L2 como funcion de perdida"
   ]
  },
  {
   "cell_type": "code",
   "execution_count": 55,
   "metadata": {},
   "outputs": [],
   "source": [
    "import numpy as np\n",
    "import matplotlib.pyplot as plt\n",
    "import tensorflow as tf\n",
    "session = tf.Session()"
   ]
  },
  {
   "cell_type": "markdown",
   "metadata": {},
   "source": [
    "# se define el tamaño del batche"
   ]
  },
  {
   "cell_type": "code",
   "execution_count": 56,
   "metadata": {},
   "outputs": [],
   "source": [
    "batch_size = 25"
   ]
  },
  {
   "cell_type": "markdown",
   "metadata": {},
   "source": [
    "# se definen los datos"
   ]
  },
  {
   "cell_type": "code",
   "execution_count": 57,
   "metadata": {},
   "outputs": [],
   "source": [
    "x_vals = np.random.normal(loc=1., scale=0.1, size=200) ## 200 valores aleatorios, con media=1 y desviacion=0.1; \n",
    "y_vals = np.repeat(10.,200) ##200 valores para el target, con valor 10"
   ]
  },
  {
   "cell_type": "markdown",
   "metadata": {},
   "source": [
    "# se definen los placeholders y variables"
   ]
  },
  {
   "cell_type": "code",
   "execution_count": 58,
   "metadata": {},
   "outputs": [],
   "source": [
    "x_data = tf.placeholder(shape=[None, 1], dtype=tf.float32) ##placeholder de filas=None y columnas=1\n",
    "y_target = tf.placeholder(shape=[None, 1], dtype=tf.float32) ##placeholder de filas=None y columnas=1\n",
    "A = tf.Variable(tf.random_normal(shape=[1,1])) ##variable inicializada con un valor aleatorio"
   ]
  },
  {
   "cell_type": "markdown",
   "metadata": {},
   "source": [
    "# se define la operacion"
   ]
  },
  {
   "cell_type": "code",
   "execution_count": 59,
   "metadata": {},
   "outputs": [],
   "source": [
    "my_prediction = tf.matmul(x_data, A) ##la prediccion en este caso es una multiplicacion de matrices, por lo tanto, tener en cuenta el orden de multiplicacion para que el numero de columnas de la primera matriz coincida con el numero de filas de la segunda matriz"
   ]
  },
  {
   "cell_type": "markdown",
   "metadata": {},
   "source": [
    "# se definen la funcion de perdida"
   ]
  },
  {
   "cell_type": "code",
   "execution_count": 60,
   "metadata": {},
   "outputs": [],
   "source": [
    "loss = tf.reduce_mean(tf.square(my_prediction - y_target)) ##en este caso la funcion de perdidas utilizada es la norma L2; reduce_mean() saca el promedio de loss sumando la el valor de loss de cada batche y dividiendolo por la cantidad de batches"
   ]
  },
  {
   "cell_type": "markdown",
   "metadata": {},
   "source": [
    "# se definen el optimizador"
   ]
  },
  {
   "cell_type": "code",
   "execution_count": 61,
   "metadata": {},
   "outputs": [],
   "source": [
    "optimizador = tf.train.GradientDescentOptimizer(learning_rate=0.025)\n",
    "train_step = optimizador.minimize(loss)"
   ]
  },
  {
   "cell_type": "markdown",
   "metadata": {},
   "source": [
    "# se inicializan las variables"
   ]
  },
  {
   "cell_type": "code",
   "execution_count": 62,
   "metadata": {},
   "outputs": [
    {
     "name": "stdout",
     "output_type": "stream",
     "text": [
      "[[0.12797548]]\n"
     ]
    }
   ],
   "source": [
    "init = tf.global_variables_initializer()\n",
    "session.run(init)\n",
    "print(session.run(A)) ##muestra el valor inicial de la variable A"
   ]
  },
  {
   "cell_type": "markdown",
   "metadata": {},
   "source": [
    "# se realizan las iteraciones para entrenar el algoritmo"
   ]
  },
  {
   "cell_type": "code",
   "execution_count": 63,
   "metadata": {},
   "outputs": [
    {
     "name": "stdout",
     "output_type": "stream",
     "text": [
      "paso:5 A= [[2.3522785]]Loss= 57.962852\n",
      "paso:10 A= [[4.0884457]]Loss= 35.896683\n",
      "paso:15 A= [[5.417485]]Loss= 21.626038\n",
      "paso:20 A= [[6.4332085]]Loss= 11.401045\n",
      "paso:25 A= [[7.210676]]Loss= 8.154026\n",
      "paso:30 A= [[7.788664]]Loss= 3.1444378\n",
      "paso:35 A= [[8.240666]]Loss= 3.4526632\n",
      "paso:40 A= [[8.588656]]Loss= 2.4567819\n",
      "paso:45 A= [[8.870417]]Loss= 2.5458164\n",
      "paso:50 A= [[9.076003]]Loss= 1.4349023\n",
      "paso:55 A= [[9.218417]]Loss= 1.0278013\n",
      "paso:60 A= [[9.329344]]Loss= 1.1348963\n",
      "paso:65 A= [[9.399066]]Loss= 0.93667954\n",
      "paso:70 A= [[9.519199]]Loss= 1.0120186\n",
      "paso:75 A= [[9.571234]]Loss= 0.91708213\n",
      "paso:80 A= [[9.59414]]Loss= 1.4609851\n",
      "paso:85 A= [[9.630651]]Loss= 0.9663751\n",
      "paso:90 A= [[9.684887]]Loss= 1.6868126\n",
      "paso:95 A= [[9.701185]]Loss= 0.7879974\n",
      "paso:100 A= [[9.723374]]Loss= 0.97904205\n",
      "paso:105 A= [[9.752038]]Loss= 0.89046514\n",
      "paso:110 A= [[9.777076]]Loss= 1.725676\n",
      "paso:115 A= [[9.778211]]Loss= 1.2887604\n",
      "paso:120 A= [[9.785418]]Loss= 0.8734202\n",
      "paso:125 A= [[9.797143]]Loss= 1.0252837\n",
      "paso:130 A= [[9.744656]]Loss= 0.8521631\n",
      "paso:135 A= [[9.747632]]Loss= 0.86369276\n",
      "paso:140 A= [[9.782186]]Loss= 1.0675367\n",
      "paso:145 A= [[9.795359]]Loss= 1.8067719\n",
      "paso:150 A= [[9.785452]]Loss= 1.0334779\n",
      "paso:155 A= [[9.805787]]Loss= 1.3831478\n",
      "paso:160 A= [[9.809827]]Loss= 1.0808102\n",
      "paso:165 A= [[9.786126]]Loss= 0.82626104\n",
      "paso:170 A= [[9.772128]]Loss= 0.76503164\n",
      "paso:175 A= [[9.787324]]Loss= 0.9214562\n",
      "paso:180 A= [[9.812102]]Loss= 1.5968437\n",
      "paso:185 A= [[9.820267]]Loss= 1.095931\n",
      "paso:190 A= [[9.779438]]Loss= 1.4299655\n",
      "paso:195 A= [[9.770288]]Loss= 1.0099521\n",
      "paso:200 A= [[9.7687645]]Loss= 1.3517401\n"
     ]
    }
   ],
   "source": [
    "for i in range(200): ## se itera 200 veces\n",
    "    rand_index =np.random.choice(200, size=batch_size) ##se eligen 25 numeros aleatorios (ya que ese es el tamaño del batch_size) para que sean indices de valores entre(0 y 200)\n",
    "    rand_x = np.transpose([x_vals[rand_index]]) ##se transponen los x_vals para que se conviertan en columna de datos y asi porder realizar la multiplicacion de matrices\n",
    "    rand_y = np.transpose([y_vals[rand_index]]) ##se transponen los y_vals para que se conviertan en columna de datos y asi porder realizar la multiplicacion de matrices\n",
    "    session.run(train_step, feed_dict={x_data:rand_x, y_target:rand_y})\n",
    "    if (i+1)%5==0:\n",
    "        print(\"paso:\" +str(i+1)+\" A= \" +str(session.run(A))+\"Loss= \" +str(session.run(loss, feed_dict={x_data:rand_x, y_target:rand_y})))"
   ]
  },
  {
   "cell_type": "code",
   "execution_count": null,
   "metadata": {},
   "outputs": [],
   "source": []
  }
 ],
 "metadata": {
  "kernelspec": {
   "display_name": "Python 3",
   "language": "python",
   "name": "python3"
  },
  "language_info": {
   "codemirror_mode": {
    "name": "ipython",
    "version": 3
   },
   "file_extension": ".py",
   "mimetype": "text/x-python",
   "name": "python",
   "nbconvert_exporter": "python",
   "pygments_lexer": "ipython3",
   "version": "3.7.1"
  }
 },
 "nbformat": 4,
 "nbformat_minor": 2
}
