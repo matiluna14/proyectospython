{
 "cells": [
  {
   "cell_type": "markdown",
   "metadata": {},
   "source": [
    "## Propagacion hacia atras\n",
    "    - uno de los beneficios de usar tensorflow es que es capaz de actualizar las variables del modelo automaticamente, el objetivo es minimizar la funcion de perdida."
   ]
  },
  {
   "cell_type": "markdown",
   "metadata": {},
   "source": [
    "## en este caso el entrenamiento que se lleva a cabo es estocastico \n",
    "    -es decir toma solo un elemento por vez para entrenar"
   ]
  },
  {
   "cell_type": "code",
   "execution_count": 1,
   "metadata": {},
   "outputs": [],
   "source": [
    "import tensorflow as tf\n",
    "import numpy as np\n",
    "session = tf.Session()"
   ]
  },
  {
   "cell_type": "markdown",
   "metadata": {},
   "source": [
    "### el ejemplo de regresion a llevar a cabo sera el siguiente:\n",
    "    -x_vals = randomnormal(media=1, desviacion=0.1)\n",
    "    -y = (A * x_vals) ;\n",
    "    -target = 10\n",
    "    -L2 como funcion de perdida"
   ]
  },
  {
   "cell_type": "markdown",
   "metadata": {},
   "source": [
    "# se definen los datos"
   ]
  },
  {
   "cell_type": "code",
   "execution_count": 5,
   "metadata": {},
   "outputs": [],
   "source": [
    "x_vals = np.random.normal(loc=1, scale=0.1, size=200) #200 valores con media=1 y desv=0.1\n",
    "y_vals = np.repeat(10., 200) ##targets"
   ]
  },
  {
   "cell_type": "markdown",
   "metadata": {},
   "source": [
    "# se definen los placeholders y variables"
   ]
  },
  {
   "cell_type": "code",
   "execution_count": 6,
   "metadata": {},
   "outputs": [],
   "source": [
    "x_data = tf.placeholder(shape=[1], dtype=tf.float32) ##placeholder de 1 elemento\n",
    "y_target = tf.placeholder(shape=[1], dtype=tf.float32) ##placeholder de 1 elemento\n",
    "A = tf.Variable(tf.random_normal(shape=[1])) ## A se inicializa con un valor aleatorio"
   ]
  },
  {
   "cell_type": "markdown",
   "metadata": {},
   "source": [
    "# se define la operacion"
   ]
  },
  {
   "cell_type": "code",
   "execution_count": 7,
   "metadata": {},
   "outputs": [],
   "source": [
    "my_prediccion = tf.multiply(A, x_data) ##la operacion a llevar a cabo para realizar la prediccion"
   ]
  },
  {
   "cell_type": "markdown",
   "metadata": {},
   "source": [
    "# se definen la funcion de perdida"
   ]
  },
  {
   "cell_type": "code",
   "execution_count": 8,
   "metadata": {},
   "outputs": [],
   "source": [
    "loss = tf.square(my_prediccion - y_target) ##la funcion de perdida que se utiliza es la norma L2"
   ]
  },
  {
   "cell_type": "markdown",
   "metadata": {},
   "source": [
    "# se definen el optimizador"
   ]
  },
  {
   "cell_type": "code",
   "execution_count": 9,
   "metadata": {},
   "outputs": [],
   "source": [
    "optimizador = tf.train.GradientDescentOptimizer(learning_rate=0.025)## se define el optimizador con ratio de aprendizaje = 0.025\n",
    "train_step = optimizador.minimize(loss) ## se entrena el algoritmo para averiguar el valor optimo de la variable A"
   ]
  },
  {
   "cell_type": "markdown",
   "metadata": {},
   "source": [
    "# se inicializan las variables"
   ]
  },
  {
   "cell_type": "code",
   "execution_count": 10,
   "metadata": {},
   "outputs": [],
   "source": [
    "## se inicializan las variables\n",
    "init = tf.global_variables_initializer()\n",
    "session.run(init)"
   ]
  },
  {
   "cell_type": "markdown",
   "metadata": {},
   "source": [
    "# se realizan las iteraciones para entrenar el algoritmo"
   ]
  },
  {
   "cell_type": "code",
   "execution_count": 14,
   "metadata": {},
   "outputs": [
    {
     "name": "stdout",
     "output_type": "stream",
     "text": [
      "paso:20 A= [9.857013]Loss= [0.00336429]\n",
      "paso:40 A= [9.98614]Loss= [1.3682419]\n",
      "paso:60 A= [9.896858]Loss= [1.0064018]\n",
      "paso:80 A= [9.871786]Loss= [0.18692172]\n",
      "paso:100 A= [9.657322]Loss= [0.21299209]\n",
      "paso:120 A= [9.8768425]Loss= [0.14835444]\n",
      "paso:140 A= [9.85699]Loss= [0.3395946]\n",
      "paso:160 A= [10.009456]Loss= [0.5973237]\n",
      "paso:180 A= [9.831915]Loss= [0.42615977]\n",
      "paso:200 A= [9.858928]Loss= [1.5419519]\n"
     ]
    }
   ],
   "source": [
    "for i in range(200): ## se realizan 200 iteraciones \n",
    "    ##se seleccion un indice aleatorio entre 0 y 200 para luego escoger con ese mismo indice un valor de la distribucion x_vals y y_vals\n",
    "    rand_index = np.random.choice(200)\n",
    "    rand_x = [x_vals[rand_index]]\n",
    "    rand_y = [y_vals[rand_index]]\n",
    "    session.run(train_step, feed_dict={x_data:rand_x, y_target:rand_y})\n",
    "    if (i+1)%20==0:\n",
    "        print(\"paso:\" +str(i+1)+\" A= \" +str(session.run(A))+\"Loss= \" +str(session.run(loss, feed_dict={x_data:rand_x, y_target:rand_y})))\n"
   ]
  },
  {
   "cell_type": "code",
   "execution_count": null,
   "metadata": {},
   "outputs": [],
   "source": []
  }
 ],
 "metadata": {
  "kernelspec": {
   "display_name": "Python 3",
   "language": "python",
   "name": "python3"
  },
  "language_info": {
   "codemirror_mode": {
    "name": "ipython",
    "version": 3
   },
   "file_extension": ".py",
   "mimetype": "text/x-python",
   "name": "python",
   "nbconvert_exporter": "python",
   "pygments_lexer": "ipython3",
   "version": "3.7.1"
  }
 },
 "nbformat": 4,
 "nbformat_minor": 2
}
