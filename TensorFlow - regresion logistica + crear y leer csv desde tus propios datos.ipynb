{
 "cells": [
  {
   "cell_type": "code",
   "execution_count": 87,
   "metadata": {},
   "outputs": [],
   "source": [
    "import matplotlib.pyplot as plt\n",
    "import numpy as np\n",
    "import requests\n",
    "from sklearn.preprocessing import normalize"
   ]
  },
  {
   "cell_type": "code",
   "execution_count": 88,
   "metadata": {},
   "outputs": [],
   "source": [
    "import tensorflow as tf\n",
    "session = tf.Session()"
   ]
  },
  {
   "cell_type": "markdown",
   "metadata": {},
   "source": [
    "## carga de los datos desde url y transformacion a CSV"
   ]
  },
  {
   "cell_type": "code",
   "execution_count": 89,
   "metadata": {},
   "outputs": [],
   "source": [
    "url = \"https://raw.githubusercontent.com/joanby/tensorflow/master/datasets/birthweight.dat\"\n",
    "birth_file = requests.get(url) \n",
    "birth_data = birth_file.text.split(\"\\r\\n\") ##separa cada fila del dataset\n",
    "\n",
    "birth_header = birth_data[0].split(\"\\t\") ##cabecera del dataset\n",
    "birth_data = [[float(x) for x in y.split(\"\\t\") if len(x)>=1] for y in birth_data[1:] if len(y)>=1] ##con esta linea se obtiene los datos limpios fila por fila"
   ]
  },
  {
   "cell_type": "code",
   "execution_count": 90,
   "metadata": {},
   "outputs": [],
   "source": [
    "import os.path\n",
    "import csv\n",
    "\n",
    "birthweigt_file_name = \"birthweight.csv\"\n",
    "if not os.path.exists(birthweigt_file_name):\n",
    "    with open(\"birthweight.csv\", \"w\", newline=\"\") as f:\n",
    "        writer = csv.writer(f)\n",
    "        writer.writerow(birth_header)\n",
    "        writer.writerows(birth_data)\n",
    "        f.close()"
   ]
  },
  {
   "cell_type": "code",
   "execution_count": 91,
   "metadata": {},
   "outputs": [
    {
     "data": {
      "text/plain": [
       "['LOW', 'AGE', 'LWT', 'RACE', 'SMOKE', 'PTL', 'HT', 'UI', 'BWT']"
      ]
     },
     "execution_count": 91,
     "metadata": {},
     "output_type": "execute_result"
    }
   ],
   "source": [
    "birth_header"
   ]
  },
  {
   "cell_type": "code",
   "execution_count": 92,
   "metadata": {},
   "outputs": [
    {
     "data": {
      "text/plain": [
       "[1.0, 28.0, 113.0, 1.0, 1.0, 1.0, 0.0, 1.0, 709.0]"
      ]
     },
     "execution_count": 92,
     "metadata": {},
     "output_type": "execute_result"
    }
   ],
   "source": [
    "birth_data[0]"
   ]
  },
  {
   "cell_type": "code",
   "execution_count": 93,
   "metadata": {},
   "outputs": [],
   "source": [
    "x_vals = np.array([x[1:8] for x in birth_data]) ##variables predictoras\n",
    "y_vals = np.array([x[0] for x in birth_data])   ##variable a predecir"
   ]
  },
  {
   "cell_type": "markdown",
   "metadata": {},
   "source": [
    "## Dividir en conjunto de entrenamiento y test"
   ]
  },
  {
   "cell_type": "code",
   "execution_count": 94,
   "metadata": {},
   "outputs": [],
   "source": [
    "train_index =np.random.choice(len(x_vals), size=round(len(x_vals)*0.8), replace=False)\n",
    "test_index = np.array(list(set(range(len(x_vals)))-set(train_index)))"
   ]
  },
  {
   "cell_type": "code",
   "execution_count": 95,
   "metadata": {},
   "outputs": [],
   "source": [
    "x_vals_train = x_vals[train_index]\n",
    "x_vals_test = x_vals[test_index]\n",
    "\n",
    "y_vals_train = y_vals[train_index]\n",
    "y_vals_test = y_vals[test_index]"
   ]
  },
  {
   "cell_type": "markdown",
   "metadata": {},
   "source": [
    "## Normalizacion del dataset\n",
    "    -En la regresion logistica es importante normalizar el dataset, para que la funcion logistica converga.\n",
    "    \n",
    "    -LA NORMALIZACION hace que los valores del dataset queden escalados entre 0 y 1; de modo que el valor mas pequeño del dataset se convierte en 0 y el valor mas grande del dataset se convierte en 1"
   ]
  },
  {
   "cell_type": "code",
   "execution_count": 96,
   "metadata": {},
   "outputs": [],
   "source": [
    "def normalize_cols(m, col_min = np.array([None]), col_max=np.array([None])):\n",
    "    if not col_min[0]:\n",
    "        col_min = m.min(axis=0)\n",
    "    if not col_max[0]:\n",
    "        col_max = m.max(axis=0)\n",
    "    return (m-col_min)/(col_max-col_min), col_min, col_max"
   ]
  },
  {
   "cell_type": "code",
   "execution_count": 97,
   "metadata": {},
   "outputs": [],
   "source": [
    "x_vals_train, train_min, train_max = np.nan_to_num(normalize_cols(x_vals_train))"
   ]
  },
  {
   "cell_type": "code",
   "execution_count": 98,
   "metadata": {},
   "outputs": [
    {
     "data": {
      "text/plain": [
       "array([0.13636364, 0.29411765, 1.        , 1.        , 1.        ,\n",
       "       0.        , 1.        ])"
      ]
     },
     "execution_count": 98,
     "metadata": {},
     "output_type": "execute_result"
    }
   ],
   "source": [
    "x_vals_train[0]"
   ]
  },
  {
   "cell_type": "code",
   "execution_count": 99,
   "metadata": {},
   "outputs": [
    {
     "data": {
      "text/plain": [
       "array([14., 80.,  0.,  0.,  0.,  0.,  0.])"
      ]
     },
     "execution_count": 99,
     "metadata": {},
     "output_type": "execute_result"
    }
   ],
   "source": [
    "train_min"
   ]
  },
  {
   "cell_type": "code",
   "execution_count": 100,
   "metadata": {},
   "outputs": [
    {
     "data": {
      "text/plain": [
       "array([ 36., 250.,   1.,   1.,   1.,   1.,   1.])"
      ]
     },
     "execution_count": 100,
     "metadata": {},
     "output_type": "execute_result"
    }
   ],
   "source": [
    "train_max "
   ]
  },
  {
   "cell_type": "code",
   "execution_count": 101,
   "metadata": {},
   "outputs": [],
   "source": [
    "x_vals_test,_,_ = np.nan_to_num(normalize_cols(x_vals_test, col_min=train_min, col_max=train_max))"
   ]
  },
  {
   "cell_type": "markdown",
   "metadata": {},
   "source": [
    "## se declaran los placeholders"
   ]
  },
  {
   "cell_type": "code",
   "execution_count": 102,
   "metadata": {},
   "outputs": [],
   "source": [
    "x_data = tf.placeholder(shape=[None, 7], dtype = tf.float32)\n",
    "y_target = tf.placeholder(shape = [None, 1], dtype=tf.float32)"
   ]
  },
  {
   "cell_type": "markdown",
   "metadata": {},
   "source": [
    "## se declaran las variables"
   ]
  },
  {
   "cell_type": "code",
   "execution_count": 103,
   "metadata": {},
   "outputs": [],
   "source": [
    "A = tf.Variable(tf.random_normal(shape=[7,1]))\n",
    "b = tf.Variable(tf.random_normal(shape=[1,1]))"
   ]
  },
  {
   "cell_type": "markdown",
   "metadata": {},
   "source": [
    "## creacion del modelo"
   ]
  },
  {
   "cell_type": "code",
   "execution_count": 104,
   "metadata": {},
   "outputs": [],
   "source": [
    "prediccion = tf.add(tf.matmul(x_data, A), b)"
   ]
  },
  {
   "cell_type": "markdown",
   "metadata": {},
   "source": [
    "## se define la funcion de perdida"
   ]
  },
  {
   "cell_type": "code",
   "execution_count": 105,
   "metadata": {},
   "outputs": [],
   "source": [
    "loss = tf.reduce_mean(tf.nn.sigmoid_cross_entropy_with_logits(logits=prediccion, labels= y_target))\n",
    "init = tf.global_variables_initializer()\n",
    "session.run(init)\n",
    "optimizador = tf.train.GradientDescentOptimizer(learning_rate=0.01)\n",
    "train_step = optimizador.minimize(loss)"
   ]
  },
  {
   "cell_type": "markdown",
   "metadata": {},
   "source": [
    "## funcion de clasificacion logistica"
   ]
  },
  {
   "cell_type": "code",
   "execution_count": 106,
   "metadata": {},
   "outputs": [],
   "source": [
    "classification_logistica = tf.round(tf.sigmoid(prediccion)) ## si el valor de la sigmoide devuelve menor a 0.5 la funcion \"round\" lo convierte a 0, y si el valor de la sigmoide devuelve mayor a 0.5 la funcion \"round\" lo convierte a 1\n",
    "correct_classification = tf.cast(tf.equal(classification_logistica, y_target), tf.float32) ## la funcion \"cast\" devuelve el numero de aciertos\n",
    "accuracy = tf.reduce_mean(correct_classification) ## saca el porcentaje de aciertos con respecto al total de los datos"
   ]
  },
  {
   "cell_type": "markdown",
   "metadata": {},
   "source": [
    "## se define el batch_size"
   ]
  },
  {
   "cell_type": "code",
   "execution_count": 107,
   "metadata": {},
   "outputs": [],
   "source": [
    "batch_size = 25"
   ]
  },
  {
   "cell_type": "markdown",
   "metadata": {},
   "source": [
    "## inicializar las variables"
   ]
  },
  {
   "cell_type": "code",
   "execution_count": 108,
   "metadata": {},
   "outputs": [],
   "source": [
    "init = tf.global_variables_initializer()\n",
    "session.run(init)"
   ]
  },
  {
   "cell_type": "markdown",
   "metadata": {},
   "source": [
    "## entrenamiento del modelo"
   ]
  },
  {
   "cell_type": "code",
   "execution_count": 109,
   "metadata": {},
   "outputs": [
    {
     "name": "stdout",
     "output_type": "stream",
     "text": [
      "Loss: 1.1328018  acc: 0.2631579\n",
      "Loss: 1.0432291  acc: 0.2631579\n",
      "Loss: 0.7363588  acc: 0.28947368\n",
      "Loss: 0.75022286  acc: 0.36842105\n",
      "Loss: 0.63592374  acc: 0.39473686\n",
      "Loss: 0.6516742  acc: 0.47368422\n",
      "Loss: 0.7021424  acc: 0.5263158\n",
      "Loss: 0.60038835  acc: 0.6052632\n",
      "Loss: 0.6061051  acc: 0.6315789\n",
      "Loss: 0.55894566  acc: 0.65789473\n",
      "Loss: 0.5921131  acc: 0.65789473\n",
      "Loss: 0.69061226  acc: 0.65789473\n",
      "Loss: 0.54885536  acc: 0.68421054\n",
      "Loss: 0.70288885  acc: 0.7105263\n",
      "Loss: 0.7162949  acc: 0.7368421\n",
      "Loss: 0.564473  acc: 0.7368421\n",
      "Loss: 0.59004855  acc: 0.7368421\n",
      "Loss: 0.48189086  acc: 0.7105263\n",
      "Loss: 0.63148355  acc: 0.7105263\n",
      "Loss: 0.6248349  acc: 0.7368421\n"
     ]
    }
   ],
   "source": [
    "loss_vec = []\n",
    "train_acc = []\n",
    "test_acc = []\n",
    "for i in range(2000):\n",
    "    rand_index = np.random.choice(len(x_vals_train), size=batch_size)\n",
    "    rand_x = x_vals_train[rand_index]\n",
    "    rand_y = np.transpose([y_vals_train[rand_index]])\n",
    "    session.run(train_step, feed_dict={x_data: rand_x, y_target: rand_y})\n",
    "    temp_loss = session.run(loss, feed_dict={x_data: rand_x, y_target: rand_y})\n",
    "    loss_vec.append(temp_loss)\n",
    "    temp_acc_train = session.run(accuracy, feed_dict={x_data: x_vals_train, y_target: np.transpose([y_vals_train])})\n",
    "    train_acc.append(temp_acc_train)\n",
    "    temp_acc_test = session.run(accuracy, feed_dict={x_data: x_vals_test, y_target: np.transpose([y_vals_test])})\n",
    "    test_acc.append(temp_acc_test)\n",
    "    if(i+1)%100==0:\n",
    "        print(\"Loss: \"+str(temp_loss)+\"  acc: \"+str(temp_acc_test))"
   ]
  },
  {
   "cell_type": "code",
   "execution_count": 110,
   "metadata": {},
   "outputs": [],
   "source": [
    "## se obtienen los valores de \"A\" y de \"b\"\n",
    "slope = session.run(A)\n",
    "[[intercept]] = session.run(b)"
   ]
  },
  {
   "cell_type": "code",
   "execution_count": 111,
   "metadata": {},
   "outputs": [
    {
     "data": {
      "text/plain": [
       "array([[ 0.45411566],\n",
       "       [-1.0069288 ],\n",
       "       [ 0.14243796],\n",
       "       [ 0.799734  ],\n",
       "       [-0.19389594],\n",
       "       [ 0.33405358],\n",
       "       [ 0.29859313]], dtype=float32)"
      ]
     },
     "execution_count": 111,
     "metadata": {},
     "output_type": "execute_result"
    }
   ],
   "source": [
    "slope"
   ]
  },
  {
   "cell_type": "code",
   "execution_count": 112,
   "metadata": {},
   "outputs": [
    {
     "name": "stdout",
     "output_type": "stream",
     "text": [
      "0.45411566x1 + -1.0069288x2 + 0.14243796x3 + 0.799734x4 + -0.19389594x5 + 0.33405358x6 + 0.29859313x7 + -0.98994595\n"
     ]
    }
   ],
   "source": [
    "print(str(slope[0][0])+\"x1 + \"+str(slope[1][0])+\"x2 + \"+str(slope[2][0])+\"x3 + \"+str(slope[3][0])+\"x4 + \"+str(slope[4][0])+\"x5 + \"+str(slope[5][0])+\"x6 + \"+str(slope[6][0])+\"x7 + \"+str(intercept))"
   ]
  },
  {
   "cell_type": "markdown",
   "metadata": {},
   "source": [
    "## grafico que muestra como fue convergiendo la funcion de perdidas"
   ]
  },
  {
   "cell_type": "code",
   "execution_count": 113,
   "metadata": {},
   "outputs": [
    {
     "data": {
      "image/png": "[encoded data removed]",
      "text/plain": [
       "<Figure size 432x288 with 1 Axes>"
      ]
     },
     "metadata": {
      "needs_background": "light"
     },
     "output_type": "display_data"
    }
   ],
   "source": [
    "plt.plot(loss_vec, 'k-')\n",
    "plt.title(\"Función de pérdidas por iteración\")\n",
    "plt.xlabel(\"Iteración\")\n",
    "plt.ylabel(\"Pérdida\")\n",
    "plt.ylim([0,2])\n",
    "plt.show()"
   ]
  },
  {
   "cell_type": "markdown",
   "metadata": {},
   "source": [
    "## grafico que muestra la precision del modelo con el conjunto de entrenamiento y en el conjunto de testing"
   ]
  },
  {
   "cell_type": "code",
   "execution_count": 114,
   "metadata": {},
   "outputs": [
    {
     "data": {
      "image/png": "[encoded data removed]",
      "text/plain": [
       "<Figure size 432x288 with 1 Axes>"
      ]
     },
     "metadata": {
      "needs_background": "light"
     },
     "output_type": "display_data"
    }
   ],
   "source": [
    "plt.plot(train_acc, 'b-', label = \"Precisión conjunto entrenamiento\")\n",
    "plt.plot(test_acc, 'r--', label = \"Precisión conjunto de pruebas\")\n",
    "plt.title(\"Precisión en entrenamiento y testing\")\n",
    "plt.xlabel(\"Iteración del algoritmo\")\n",
    "plt.ylabel(\"Precisión (proporción de clasifición OK)\")\n",
    "plt.legend(loc = 'lower right')\n",
    "plt.ylim([0,1])\n",
    "plt.show()"
   ]
  },
  {
   "cell_type": "code",
   "execution_count": 115,
   "metadata": {},
   "outputs": [],
   "source": [
    "cant_clasificaciones_correctas = session.run(correct_classification, feed_dict={x_data: x_vals_test, y_target: np.transpose([y_vals_test])})"
   ]
  },
  {
   "cell_type": "code",
   "execution_count": 116,
   "metadata": {},
   "outputs": [
    {
     "name": "stdout",
     "output_type": "stream",
     "text": [
      "0.7368421052631579\n"
     ]
    }
   ],
   "source": [
    "print(cant_clasificaciones_correctas.sum()/len(y_vals_test)) ##porcentaje de elementos bien clasificados"
   ]
  }
 ],
 "metadata": {
  "kernelspec": {
   "display_name": "Python 3",
   "language": "python",
   "name": "python3"
  },
  "language_info": {
   "codemirror_mode": {
    "name": "ipython",
    "version": 3
   },
   "file_extension": ".py",
   "mimetype": "text/x-python",
   "name": "python",
   "nbconvert_exporter": "python",
   "pygments_lexer": "ipython3",
   "version": "3.7.1"
  }
 },
 "nbformat": 4,
 "nbformat_minor": 2
}
