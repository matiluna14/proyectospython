{
 "cells": [
  {
   "cell_type": "code",
   "execution_count": 2,
   "metadata": {},
   "outputs": [],
   "source": [
    "import tensorflow as tf\n",
    "session = tf.Session()"
   ]
  },
  {
   "cell_type": "markdown",
   "metadata": {},
   "source": [
    "# 1. como crear matrices"
   ]
  },
  {
   "cell_type": "code",
   "execution_count": 36,
   "metadata": {},
   "outputs": [
    {
     "name": "stdout",
     "output_type": "stream",
     "text": [
      "[[1. 0. 0. 0.]\n",
      " [0. 1. 0. 0.]\n",
      " [0. 0. 1. 0.]\n",
      " [0. 0. 0. 1.]]\n"
     ]
    }
   ],
   "source": [
    "identity = tf.diag([1.,1.,1.,1.]) ##crea la matriz identidad con una diagonal de 4 unos \n",
    "print(session.run(identity)) ## imprime la matriz identidad"
   ]
  },
  {
   "cell_type": "code",
   "execution_count": 20,
   "metadata": {},
   "outputs": [
    {
     "name": "stdout",
     "output_type": "stream",
     "text": [
      "[[-0.13810882  0.7397819  -1.1417274  -1.2173609 ]\n",
      " [-1.2684287   2.9143138   0.56612486  0.09804371]\n",
      " [-2.650426    2.0227664   0.5364391   0.3698414 ]]\n"
     ]
    }
   ],
   "source": [
    "A = tf.random_normal([3,4]) ##crea una matriz con una distribucion normal de 3 filas y 4 columnas\n",
    "print(session.run(A))"
   ]
  },
  {
   "cell_type": "code",
   "execution_count": 25,
   "metadata": {},
   "outputs": [
    {
     "name": "stdout",
     "output_type": "stream",
     "text": [
      "[[1991. 1991. 1991. 1991.]\n",
      " [1991. 1991. 1991. 1991.]\n",
      " [1991. 1991. 1991. 1991.]]\n"
     ]
    }
   ],
   "source": [
    "B = tf.fill([3,4], 1991.) ##crea una matriz \"fill\" de 3 filas y 4 columnas, rellenada con el valor \"1991\"\n",
    "print(session.run(B))"
   ]
  },
  {
   "cell_type": "code",
   "execution_count": 22,
   "metadata": {},
   "outputs": [
    {
     "name": "stdout",
     "output_type": "stream",
     "text": [
      "[[0.84451103 0.8700391  0.33765447]\n",
      " [0.56964386 0.9341855  0.59106266]\n",
      " [0.3102361  0.9817889  0.196239  ]\n",
      " [0.19754755 0.9594486  0.99720573]]\n"
     ]
    }
   ],
   "source": [
    "C = tf.random_uniform([4,3]) ##crea una matriz con distribucion aleatoria uniforme de 4 filas y 3 columnas\n",
    "print(session.run(C))"
   ]
  },
  {
   "cell_type": "code",
   "execution_count": 23,
   "metadata": {},
   "outputs": [
    {
     "name": "stdout",
     "output_type": "stream",
     "text": [
      "[[1. 2. 3.]\n",
      " [4. 5. 6.]\n",
      " [7. 8. 9.]]\n"
     ]
    }
   ],
   "source": [
    "import numpy as np\n",
    "data = np.array([ [1.,2.,3.],[4.,5.,6.],[7.,8.,9.] ]) ##crea una matriz de numpy\n",
    "D = tf.convert_to_tensor(data) ##se convierte la matriz de numpy en un tensor de tensorflow\n",
    "print(session.run(D))"
   ]
  },
  {
   "cell_type": "markdown",
   "metadata": {},
   "source": [
    "# 2. operaciones con matrices"
   ]
  },
  {
   "cell_type": "code",
   "execution_count": 27,
   "metadata": {},
   "outputs": [
    {
     "name": "stdout",
     "output_type": "stream",
     "text": [
      "[[1992.063  1990.2958 1991.2207 1992.9891]\n",
      " [1991.5721 1992.5923 1991.2018 1990.969 ]\n",
      " [1990.5602 1991.8689 1991.3848 1991.6624]]\n"
     ]
    }
   ],
   "source": [
    "print(session.run(A+B)) ##suma la matriz A con la matriz B"
   ]
  },
  {
   "cell_type": "code",
   "execution_count": 29,
   "metadata": {},
   "outputs": [
    {
     "name": "stdout",
     "output_type": "stream",
     "text": [
      "[[0. 0. 0. 0.]\n",
      " [0. 0. 0. 0.]\n",
      " [0. 0. 0. 0.]]\n"
     ]
    }
   ],
   "source": [
    "print(session.run(B-B)) ##resta la matriz B con la matriz B"
   ]
  },
  {
   "cell_type": "code",
   "execution_count": 34,
   "metadata": {},
   "outputs": [
    {
     "name": "stdout",
     "output_type": "stream",
     "text": [
      "[[-1.6617342  -2.047317   -1.0205361 ]\n",
      " [-1.1777287   0.44738185 -1.1480614 ]\n",
      " [-1.0361184  -0.15641531 -0.7824133 ]]\n"
     ]
    }
   ],
   "source": [
    "print(session.run(tf.matmul(A,C))) ##multiplica la matriz A con la matriz C"
   ]
  },
  {
   "cell_type": "code",
   "execution_count": 38,
   "metadata": {},
   "outputs": [
    {
     "name": "stdout",
     "output_type": "stream",
     "text": [
      "[[ 2.1847703  -0.1730342  -0.08577558  2.0844495 ]\n",
      " [-0.10634559 -1.0791316  -0.21703455 -1.1177057 ]\n",
      " [ 1.0762947   0.087026   -0.25548673 -0.19954063]]\n"
     ]
    }
   ],
   "source": [
    "print(session.run(tf.matmul(A, identity))) ##multiplica la matriz A con la matriz identity"
   ]
  },
  {
   "cell_type": "markdown",
   "metadata": {},
   "source": [
    "# 3. Transpuesta, determinante, inversa"
   ]
  },
  {
   "cell_type": "code",
   "execution_count": 40,
   "metadata": {},
   "outputs": [
    {
     "name": "stdout",
     "output_type": "stream",
     "text": [
      "[[1. 4. 7.]\n",
      " [2. 5. 8.]\n",
      " [3. 6. 9.]]\n"
     ]
    }
   ],
   "source": [
    "print(session.run(tf.transpose(D))) ## crea la transpuesta de la matriz D"
   ]
  },
  {
   "cell_type": "code",
   "execution_count": 43,
   "metadata": {},
   "outputs": [
    {
     "name": "stdout",
     "output_type": "stream",
     "text": [
      "6.66133814775094e-16\n"
     ]
    }
   ],
   "source": [
    "print(session.run(tf.matrix_determinant(D))) ## saca el determinante de D"
   ]
  },
  {
   "cell_type": "code",
   "execution_count": 46,
   "metadata": {},
   "outputs": [
    {
     "name": "stdout",
     "output_type": "stream",
     "text": [
      "[[-4.50359963e+15  9.00719925e+15 -4.50359963e+15]\n",
      " [ 9.00719925e+15 -1.80143985e+16  9.00719925e+15]\n",
      " [-4.50359963e+15  9.00719925e+15 -4.50359963e+15]]\n"
     ]
    }
   ],
   "source": [
    "print(session.run(tf.matrix_inverse(D))) ## saca la inversa de la matriz D"
   ]
  },
  {
   "cell_type": "markdown",
   "metadata": {},
   "source": [
    "## 5. valores y vectores propios"
   ]
  },
  {
   "cell_type": "code",
   "execution_count": 51,
   "metadata": {},
   "outputs": [
    {
     "name": "stdout",
     "output_type": "stream",
     "text": [
      "[-3.15746784 -0.67276795 18.8302358 ]\n"
     ]
    }
   ],
   "source": [
    "print(session.run(tf.self_adjoint_eigvals(D))) ##valores propios para la matriz D"
   ]
  },
  {
   "cell_type": "code",
   "execution_count": 52,
   "metadata": {},
   "outputs": [
    {
     "name": "stdout",
     "output_type": "stream",
     "text": [
      "(array([-3.15746784, -0.67276795, 18.8302358 ]), array([[-0.80238891, -0.43402538,  0.40962667],\n",
      "       [-0.16812656,  0.82296167,  0.54264865],\n",
      "       [ 0.57263033, -0.36654613,  0.73330651]]))\n"
     ]
    }
   ],
   "source": [
    "print(session.run(tf.self_adjoint_eig(D))) ## el primer array corresponde a los valores propios y los arrays restantes son cada uno de los vectores propios correspondiente a cada valor propio"
   ]
  },
  {
   "cell_type": "code",
   "execution_count": null,
   "metadata": {},
   "outputs": [],
   "source": []
  }
 ],
 "metadata": {
  "kernelspec": {
   "display_name": "Python 3",
   "language": "python",
   "name": "python3"
  },
  "language_info": {
   "codemirror_mode": {
    "name": "ipython",
    "version": 3
   },
   "file_extension": ".py",
   "mimetype": "text/x-python",
   "name": "python",
   "nbconvert_exporter": "python",
   "pygments_lexer": "ipython3",
   "version": "3.7.1"
  }
 },
 "nbformat": 4,
 "nbformat_minor": 2
}
