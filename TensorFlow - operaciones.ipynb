{
 "cells": [
  {
   "cell_type": "code",
   "execution_count": 1,
   "metadata": {},
   "outputs": [],
   "source": [
    "import tensorflow as tf\n",
    "session = tf.Session()"
   ]
  },
  {
   "cell_type": "markdown",
   "metadata": {},
   "source": [
    "### operaciones aritmeticas"
   ]
  },
  {
   "cell_type": "code",
   "execution_count": 2,
   "metadata": {},
   "outputs": [],
   "source": [
    "x = 3\n",
    "y = 4"
   ]
  },
  {
   "cell_type": "code",
   "execution_count": 3,
   "metadata": {},
   "outputs": [
    {
     "name": "stdout",
     "output_type": "stream",
     "text": [
      "7\n"
     ]
    }
   ],
   "source": [
    "print(session.run(tf.add(x,y))) ## se realiza la suma de x con y"
   ]
  },
  {
   "cell_type": "code",
   "execution_count": 4,
   "metadata": {},
   "outputs": [
    {
     "name": "stdout",
     "output_type": "stream",
     "text": [
      "-1\n"
     ]
    }
   ],
   "source": [
    "print(session.run(tf.subtract(x,y))) ## se realiza la resta de x con y"
   ]
  },
  {
   "cell_type": "code",
   "execution_count": 5,
   "metadata": {},
   "outputs": [
    {
     "name": "stdout",
     "output_type": "stream",
     "text": [
      "12\n"
     ]
    }
   ],
   "source": [
    "print(session.run(tf.multiply(x,y))) ## se realiza la multiplicacion de x con y"
   ]
  },
  {
   "cell_type": "code",
   "execution_count": 6,
   "metadata": {},
   "outputs": [
    {
     "name": "stdout",
     "output_type": "stream",
     "text": [
      "0.75\n"
     ]
    }
   ],
   "source": [
    "print(session.run(tf.truediv(x,y))) ## realiza la division de 3 dividido 4"
   ]
  },
  {
   "cell_type": "code",
   "execution_count": 7,
   "metadata": {},
   "outputs": [
    {
     "name": "stdout",
     "output_type": "stream",
     "text": [
      "3.0\n"
     ]
    }
   ],
   "source": [
    "print(session.run(tf.mod(23.0, 5.0))) ## realiza la division de 23 dividido 5, mostrando solo el resto de la division (lo que se conoce como el \"modulo\")"
   ]
  },
  {
   "cell_type": "code",
   "execution_count": 8,
   "metadata": {},
   "outputs": [
    {
     "name": "stdout",
     "output_type": "stream",
     "text": [
      "[0. 0. 1.]\n"
     ]
    }
   ],
   "source": [
    "v1 = [1.0, 0., 0.] ## vector v1\n",
    "v2 = [0., 1., 0.] ## vector v2\n",
    "v3 = tf.cross(v1,v2) ## realiza el producto cruz del vector \"v1\" y \"v2\" y el resultado es igual al vector \"v3\"\n",
    "print(session.run(v3)) \n"
   ]
  },
  {
   "cell_type": "markdown",
   "metadata": {},
   "source": [
    "### funciones matematicas"
   ]
  },
  {
   "cell_type": "code",
   "execution_count": 9,
   "metadata": {},
   "outputs": [],
   "source": [
    "x = [-3.,-2.,-1.,0.,1.,2.]"
   ]
  },
  {
   "cell_type": "code",
   "execution_count": 11,
   "metadata": {},
   "outputs": [
    {
     "name": "stdout",
     "output_type": "stream",
     "text": [
      "[3. 2. 1. 0. 1. 2.]\n"
     ]
    }
   ],
   "source": [
    "print(session.run(tf.abs(x))) ##saca el valor absoluto"
   ]
  },
  {
   "cell_type": "code",
   "execution_count": 12,
   "metadata": {},
   "outputs": [
    {
     "name": "stdout",
     "output_type": "stream",
     "text": [
      "7.0\n"
     ]
    }
   ],
   "source": [
    "print(session.run(tf.ceil(6.4))) ##redondeo a la alta"
   ]
  },
  {
   "cell_type": "code",
   "execution_count": 13,
   "metadata": {},
   "outputs": [
    {
     "name": "stdout",
     "output_type": "stream",
     "text": [
      "6.0\n"
     ]
    }
   ],
   "source": [
    "print(session.run(tf.floor(6.4))) ##redondeo a la baja"
   ]
  },
  {
   "cell_type": "code",
   "execution_count": 15,
   "metadata": {},
   "outputs": [
    {
     "name": "stdout",
     "output_type": "stream",
     "text": [
      "6.0\n"
     ]
    }
   ],
   "source": [
    "print(session.run(tf.round(6.4))) ##redondeo clasico."
   ]
  },
  {
   "cell_type": "code",
   "execution_count": 16,
   "metadata": {},
   "outputs": [
    {
     "name": "stdout",
     "output_type": "stream",
     "text": [
      "[-0.14112    -0.9092974  -0.84147096  0.          0.84147096  0.9092974 ]\n"
     ]
    }
   ],
   "source": [
    "print(session.run(tf.sin(x))) ##funcion seno"
   ]
  },
  {
   "cell_type": "code",
   "execution_count": 18,
   "metadata": {},
   "outputs": [
    {
     "name": "stdout",
     "output_type": "stream",
     "text": [
      "[-0.9899925  -0.4161468   0.5403023   1.          0.5403023  -0.41614684]\n"
     ]
    }
   ],
   "source": [
    "print(session.run(tf.cos(x))) ##funcion coseno"
   ]
  },
  {
   "cell_type": "code",
   "execution_count": 21,
   "metadata": {},
   "outputs": [
    {
     "name": "stdout",
     "output_type": "stream",
     "text": [
      "[ 0.14254653  2.18504    -1.5574079   0.          1.5574077  -2.1850398 ]\n"
     ]
    }
   ],
   "source": [
    "print(session.run(tf.tan(x))) ##funcion tangente"
   ]
  },
  {
   "cell_type": "code",
   "execution_count": 23,
   "metadata": {},
   "outputs": [
    {
     "name": "stdout",
     "output_type": "stream",
     "text": [
      "[      nan       nan       nan      -inf 0.        0.6931472]\n"
     ]
    }
   ],
   "source": [
    "print(session.run(tf.log(x))) ##funcion logaritmo"
   ]
  },
  {
   "cell_type": "code",
   "execution_count": 24,
   "metadata": {},
   "outputs": [],
   "source": [
    "x = [-3.,-2.,-1.,0.,1.,2.]\n",
    "y = [4.,3.,7.,-4.,-3.,7.]"
   ]
  },
  {
   "cell_type": "code",
   "execution_count": 26,
   "metadata": {},
   "outputs": [
    {
     "name": "stdout",
     "output_type": "stream",
     "text": [
      "[4. 3. 7. 0. 1. 7.]\n"
     ]
    }
   ],
   "source": [
    "print(session.run(tf.maximum(x,y))) ##compara los 2 vectores y devuelve el maximo valor de cada comparacion"
   ]
  },
  {
   "cell_type": "code",
   "execution_count": 28,
   "metadata": {},
   "outputs": [
    {
     "name": "stdout",
     "output_type": "stream",
     "text": [
      "[-3. -2. -1. -4. -3.  2.]\n"
     ]
    }
   ],
   "source": [
    "print(session.run(tf.minimum(x,y))) ##compara los 2 vectores y devuelve el minimo valor de cada comparacion"
   ]
  },
  {
   "cell_type": "code",
   "execution_count": 30,
   "metadata": {},
   "outputs": [
    {
     "name": "stdout",
     "output_type": "stream",
     "text": [
      "[ 3.  2.  1. -0. -1. -2.]\n"
     ]
    }
   ],
   "source": [
    "print(session.run(tf.negative(x))) ##lo que era positivo lo transforma en negativo y viceversa"
   ]
  },
  {
   "cell_type": "code",
   "execution_count": 43,
   "metadata": {},
   "outputs": [
    {
     "name": "stdout",
     "output_type": "stream",
     "text": [
      "[9. 4. 1. 0. 1. 4.]\n"
     ]
    }
   ],
   "source": [
    "print(session.run(tf.square(x))) ##eleva al cuadrado el tensor \"x\""
   ]
  },
  {
   "cell_type": "code",
   "execution_count": 41,
   "metadata": {},
   "outputs": [
    {
     "name": "stdout",
     "output_type": "stream",
     "text": [
      "[81. 16.  1.  0.  1. 16.]\n"
     ]
    }
   ],
   "source": [
    "print(session.run(tf.pow(x,4))) ##eleva a la cuarta el tensor \"x\", tener en cuenta que se puede elevar a la potencia que queramos."
   ]
  },
  {
   "cell_type": "code",
   "execution_count": 34,
   "metadata": {},
   "outputs": [
    {
     "name": "stdout",
     "output_type": "stream",
     "text": [
      "[      nan       nan       nan 0.        1.        1.4142135]\n"
     ]
    }
   ],
   "source": [
    "print(session.run(tf.sqrt(x))) ##raiz cuadrado del tensor \"x\""
   ]
  },
  {
   "cell_type": "code",
   "execution_count": 35,
   "metadata": {},
   "outputs": [
    {
     "name": "stdout",
     "output_type": "stream",
     "text": [
      "[       nan        nan        nan        inf 1.         0.70710677]\n"
     ]
    }
   ],
   "source": [
    "print(session.run(tf.rsqrt(x))) ##la inversa de la raiz cuadrada; osea \"1/sqrt(x)\""
   ]
  },
  {
   "cell_type": "code",
   "execution_count": 44,
   "metadata": {},
   "outputs": [
    {
     "name": "stdout",
     "output_type": "stream",
     "text": [
      "[-1. -1. -1.  0.  1.  1.]\n"
     ]
    }
   ],
   "source": [
    "print(session.run(tf.sign(x))) ##devuelve \"-1\" si el valor del tensor es negativo, \"0\" si el valor es cero, y \"1\" si el valor es positivo"
   ]
  },
  {
   "cell_type": "code",
   "execution_count": 46,
   "metadata": {},
   "outputs": [
    {
     "name": "stdout",
     "output_type": "stream",
     "text": [
      "[49. 25. 64. 16. 16. 25.]\n"
     ]
    }
   ],
   "source": [
    "print(session.run(tf.squared_difference(x,y))) ##suma de los cuadrados de las diferencias de los tensores \"x\" e \"y\""
   ]
  },
  {
   "cell_type": "markdown",
   "metadata": {},
   "source": [
    "### funciones propias"
   ]
  },
  {
   "cell_type": "markdown",
   "metadata": {},
   "source": [
    "#### ejemplo: y = 5x**2 - 7x + 15"
   ]
  },
  {
   "cell_type": "code",
   "execution_count": 52,
   "metadata": {},
   "outputs": [],
   "source": [
    "def mi_funcion(value):\n",
    "    y = tf.subtract(5*tf.square(value), 7*value) + 15\n",
    "    return(y)"
   ]
  },
  {
   "cell_type": "code",
   "execution_count": 53,
   "metadata": {},
   "outputs": [
    {
     "name": "stdout",
     "output_type": "stream",
     "text": [
      "105\n"
     ]
    }
   ],
   "source": [
    "print(session.run(mi_funcion(5)))"
   ]
  },
  {
   "cell_type": "code",
   "execution_count": null,
   "metadata": {},
   "outputs": [],
   "source": []
  }
 ],
 "metadata": {
  "kernelspec": {
   "display_name": "Python 3",
   "language": "python",
   "name": "python3"
  },
  "language_info": {
   "codemirror_mode": {
    "name": "ipython",
    "version": 3
   },
   "file_extension": ".py",
   "mimetype": "text/x-python",
   "name": "python",
   "nbconvert_exporter": "python",
   "pygments_lexer": "ipython3",
   "version": "3.7.1"
  }
 },
 "nbformat": 4,
 "nbformat_minor": 2
}
