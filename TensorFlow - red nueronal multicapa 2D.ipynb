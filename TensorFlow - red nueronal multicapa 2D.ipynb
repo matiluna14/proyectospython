{
 "cells": [
  {
   "cell_type": "code",
   "execution_count": 37,
   "metadata": {},
   "outputs": [],
   "source": [
    "import numpy as np\n",
    "import tensorflow as tf\n",
    "session = tf.Session()"
   ]
  },
  {
   "cell_type": "code",
   "execution_count": 38,
   "metadata": {},
   "outputs": [],
   "source": [
    "data_size = [10,10]\n",
    "data_2d = np.random.normal(size = data_size) # se definen los datos como una matriz bidimensional de 10x10\n",
    "x_data = tf.placeholder(shape=data_size, dtype=tf.float32) # se define el placeholder"
   ]
  },
  {
   "cell_type": "markdown",
   "metadata": {},
   "source": [
    "#### en el caso de imagenes, tensorflow trabaja con 4 dimensiones, las cuales son:\n",
    "      [cantidad de elementos, anchura, altura, canales de color]"
   ]
  },
  {
   "cell_type": "markdown",
   "metadata": {},
   "source": [
    "# capa de convolucion\n",
    "    paso 1: transforma el la matriz de 2d en una matriz de 4d\n",
    "    paso 2: ejecuta la operacion de convolucion\n",
    "    paso 3: realiza un squeeze para aplanar el resultado"
   ]
  },
  {
   "cell_type": "code",
   "execution_count": 39,
   "metadata": {},
   "outputs": [],
   "source": [
    "def conv_layer_2d(input_2d, my_filter):\n",
    "    input_3d = tf.expand_dims(input_2d, 0) # se añade 1 dimension\n",
    "    input_4d = tf.expand_dims(input_3d, 3) # se añade 1 dimension\n",
    "    convolution = tf.nn.conv2d(input_4d, filter=my_filter, strides=[1,2,2,1], padding=\"VALID\") # se ejecuta la operaciond e convolucion\n",
    "    output = tf.squeeze(convolution) # se quita las dimensiones añadidas anteriormente\n",
    "    return(output)"
   ]
  },
  {
   "cell_type": "code",
   "execution_count": 40,
   "metadata": {},
   "outputs": [],
   "source": [
    "my_filter = tf.Variable(tf.random_normal(shape=[2,2,1,1])) #[cantidad de elementos, anchura, altura, canales de color]\n",
    "my_conv_output = conv_layer_2d(x_data, my_filter)"
   ]
  },
  {
   "cell_type": "markdown",
   "metadata": {},
   "source": [
    "# capa de activacion"
   ]
  },
  {
   "cell_type": "code",
   "execution_count": 41,
   "metadata": {},
   "outputs": [],
   "source": [
    "def activation(input_2d):\n",
    "    return tf.nn.relu(input_2d)"
   ]
  },
  {
   "cell_type": "code",
   "execution_count": 42,
   "metadata": {},
   "outputs": [],
   "source": [
    "my_activation_output = activation(my_conv_output)"
   ]
  },
  {
   "cell_type": "markdown",
   "metadata": {},
   "source": [
    "# capa de maxpool\n",
    "    -se encarga de eliminar valores mediocres\n",
    "    -devuleve el valor maximo de los elementos que caen dentro de la ventana"
   ]
  },
  {
   "cell_type": "code",
   "execution_count": 43,
   "metadata": {},
   "outputs": [],
   "source": [
    "def max_pool(input_2d, width, height): #\"width\" y \"height\" corresponden al tamaño de la ventana(en este caso 2x2)\n",
    "    input_3d = tf.expand_dims(input_2d, 0) # se añade 1 dimension\n",
    "    input_4d = tf.expand_dims(input_3d, 3) # se añade 1 dimension\n",
    "    pooling = tf.nn.max_pool(input_4d, ksize=[1,height,width,1], strides=[1,1,1,1], padding=\"VALID\")\n",
    "    output = tf.squeeze(pooling) # se quita las dimensiones añadidas anteriormente\n",
    "    return(output)"
   ]
  },
  {
   "cell_type": "code",
   "execution_count": 44,
   "metadata": {},
   "outputs": [],
   "source": [
    "my_maxpool_output = max_pool(my_activation_output, width=2, height=2) # en este caso el tamaño de la ventana sera de 5"
   ]
  },
  {
   "cell_type": "markdown",
   "metadata": {},
   "source": [
    "# capa de fullyconnected\n",
    "    -conecta toda la informacion anterior y devuleve la salida\n",
    "    -la salida se debe indicar, segun lo que necesitamos"
   ]
  },
  {
   "cell_type": "code",
   "execution_count": 45,
   "metadata": {},
   "outputs": [],
   "source": [
    "def fully_connected(input_layer, num_output):\n",
    "    flat_input = tf.reshape(input_layer, [-1]) # se aplanan los datos para convertirlos en vector para conocer el tamaño en la siguiente linea\n",
    "    weight_shape = tf.squeeze(tf.stack([tf.shape(flat_input), [num_output]])) # se define el tamaño de la matriz de pesos\n",
    "    weight = tf.random_normal(weight_shape, stddev=0.1) # matriz de pesos con el tamaño definido anteirormente y una desviacion estandar pequeña\n",
    "    bias = tf.random_normal(shape=[num_output]) # se define el bias\n",
    "    input_layer_2d = tf.expand_dims(flat_input, 0) # se expande la dimension del flat_input a 2d para poder multiplicar\n",
    "    full_output = tf.add(tf.matmul(input_layer_2d, weight), bias) # operacion\n",
    "    full_output_1d = tf.squeeze(full_output) #se quita las dimensiones extras\n",
    "    return(full_output_1d)"
   ]
  },
  {
   "cell_type": "code",
   "execution_count": 46,
   "metadata": {},
   "outputs": [],
   "source": [
    "my_full_output = fully_connected(my_maxpool_output, 5) # el valor de la salida en este caso sera 5"
   ]
  },
  {
   "cell_type": "markdown",
   "metadata": {},
   "source": [
    "### hasta aqui la definicion de capas"
   ]
  },
  {
   "cell_type": "markdown",
   "metadata": {},
   "source": [
    "# se inicializan variables "
   ]
  },
  {
   "cell_type": "code",
   "execution_count": 47,
   "metadata": {},
   "outputs": [],
   "source": [
    "init = tf.global_variables_initializer()\n",
    "session.run(init)"
   ]
  },
  {
   "cell_type": "markdown",
   "metadata": {},
   "source": [
    "# resultados de cada capa"
   ]
  },
  {
   "cell_type": "code",
   "execution_count": 48,
   "metadata": {},
   "outputs": [
    {
     "data": {
      "text/plain": [
       "array([[ 1.5333449 ,  1.03816877,  0.68629536,  1.60640283,  1.75062124,\n",
       "         0.45938764, -0.99924787, -0.36440907, -1.99117014, -0.68243987],\n",
       "       [ 1.80204529, -1.6901531 , -0.09703476, -0.79127237, -1.34388878,\n",
       "         0.56860244,  0.79385783, -1.28884097, -0.07109972, -0.44710002],\n",
       "       [-0.6389813 , -1.72274238,  0.57758593,  0.83743969,  3.11546885,\n",
       "        -1.23082476, -0.37205731, -0.04453746, -1.81024491,  0.02116152],\n",
       "       [-0.75609847,  1.5427008 ,  0.3971531 ,  0.02143196, -0.54413901,\n",
       "         1.46524972,  0.2612015 , -1.62054033,  0.71796075,  0.64971307],\n",
       "       [ 2.06140683,  0.79814915,  0.17964037,  1.22963932,  0.00490042,\n",
       "         0.17172208, -0.38832128, -1.16946669,  0.27857355, -2.8092286 ],\n",
       "       [ 3.21141168,  1.25129168, -0.91466102,  1.17472666, -0.87946267,\n",
       "        -1.14087736,  1.66263836, -0.65462736, -1.07399595, -0.44585839],\n",
       "       [ 0.10623911,  0.97090575,  1.55771483, -0.1448572 , -1.83499486,\n",
       "        -1.52241492,  0.40264154,  0.13755774,  1.16350431,  1.11529792],\n",
       "       [ 0.24644535,  0.10371813,  1.67388573,  0.33876352,  1.82041548,\n",
       "        -0.85412623, -1.47483012,  1.09176569, -0.04123894,  0.9953932 ],\n",
       "       [-1.92444333, -2.18448459,  0.86710844,  0.9035179 ,  1.0121069 ,\n",
       "         1.60274529, -0.36153194, -0.90721365, -0.06556856,  0.92444737],\n",
       "       [-1.62136097,  0.15543474, -1.62267294, -0.99329973,  0.51328031,\n",
       "         0.82462831,  0.884878  , -0.316308  , -0.64978943, -0.02414006]])"
      ]
     },
     "execution_count": 48,
     "metadata": {},
     "output_type": "execute_result"
    }
   ],
   "source": [
    "# datos de entrada iniciales\n",
    "data_2d"
   ]
  },
  {
   "cell_type": "code",
   "execution_count": 49,
   "metadata": {},
   "outputs": [
    {
     "data": {
      "text/plain": [
       "array([[[[ 0.5348398 ]],\n",
       "\n",
       "        [[-0.15540694]]],\n",
       "\n",
       "\n",
       "       [[[-0.27715585]],\n",
       "\n",
       "        [[-0.08548772]]]], dtype=float32)"
      ]
     },
     "execution_count": 49,
     "metadata": {},
     "output_type": "execute_result"
    }
   ],
   "source": [
    "# el filtro\n",
    "session.run(my_filter)"
   ]
  },
  {
   "cell_type": "code",
   "execution_count": 50,
   "metadata": {},
   "outputs": [
    {
     "name": "stdout",
     "output_type": "stream",
     "text": [
      "INPUT: tamaño 10x10(correspondiente a data_2d)\n",
      "OPERACION: capa de convolucion con filtro de tamaño 2x2 + stride de tamaño 2x2\n",
      "SALIDA: tamaño 5x5\n",
      "[[ 0.30379516  0.21194974  1.1887679  -0.5876481  -0.9009739 ]\n",
      " [ 0.00364864  0.06686654  1.8831058  -0.12592687 -1.2260091 ]\n",
      " [-0.01854705  0.05806331  0.31721336 -0.43079373  0.92134553]\n",
      " [-0.17123497  0.36275244 -1.1763558   0.50939655  0.37529916]\n",
      " [-0.253703    0.8579994   0.07948311 -0.27058303  0.00342241]]\n"
     ]
    }
   ],
   "source": [
    "# capa de convolucion (multiplica el my_filter con los datos de data_1d)\n",
    "print(\"INPUT: tamaño 10x10(correspondiente a data_2d)\")\n",
    "print(\"OPERACION: capa de convolucion con filtro de tamaño 2x2 + stride de tamaño 2x2\")\n",
    "print(\"SALIDA: tamaño 5x5\")\n",
    "print(session.run(my_conv_output, feed_dict={x_data: data_2d}))"
   ]
  },
  {
   "cell_type": "code",
   "execution_count": 52,
   "metadata": {},
   "outputs": [
    {
     "name": "stdout",
     "output_type": "stream",
     "text": [
      "INPUT: tamaño 5x5(correspondiente a la salida de la capa my_conv_output)\n",
      "OPERACION: se aplica funcion relu a los valores de la salida de la capa my_conv_output\n",
      "SALIDA: tamaño 5x5\n",
      "[[ 0.30379516  0.21194974  1.1887679  -0.         -0.        ]\n",
      " [ 0.00364864  0.06686654  1.8831058  -0.         -0.        ]\n",
      " [-0.          0.05806331  0.31721336 -0.          0.92134553]\n",
      " [-0.          0.36275244 -0.          0.50939655  0.37529916]\n",
      " [-0.          0.8579994   0.07948311 -0.          0.00342241]]\n"
     ]
    }
   ],
   "source": [
    "# capa de activacion (elimina los valores negativos de la salida devuelta por la capa de convolucion)\n",
    "print(\"INPUT: tamaño 5x5(correspondiente a la salida de la capa my_conv_output)\")\n",
    "print(\"OPERACION: se aplica funcion relu a los valores de la salida de la capa my_conv_output\")\n",
    "print(\"SALIDA: tamaño 5x5\")\n",
    "print(session.run(my_activation_output, feed_dict={x_data: data_2d}))"
   ]
  },
  {
   "cell_type": "code",
   "execution_count": 54,
   "metadata": {},
   "outputs": [
    {
     "name": "stdout",
     "output_type": "stream",
     "text": [
      "INPUT: tamaño 5x5(correspondiente a la salida de la capa de activacion)\n",
      "OPERACION: maxpooling con ventana de tamaño 2x2 + stride de tamaño 1\n",
      "SALIDA: tamaño 4x4\n",
      "[[ 0.30379516  1.8831058   1.8831058  -0.        ]\n",
      " [ 0.06686654  1.8831058   1.8831058   0.92134553]\n",
      " [ 0.36275244  0.36275244  0.50939655  0.92134553]\n",
      " [ 0.8579994   0.8579994   0.50939655  0.50939655]]\n"
     ]
    }
   ],
   "source": [
    "# capa de maxpool(toma en fila valores de 5 en 5 y elije el mas grande)\n",
    "print(\"INPUT: tamaño 5x5(correspondiente a la salida de la capa de activacion)\")\n",
    "print(\"OPERACION: maxpooling con ventana de tamaño 2x2 + stride de tamaño 1\")\n",
    "print(\"SALIDA: tamaño 4x4\")\n",
    "print(session.run(my_maxpool_output, feed_dict={x_data: data_2d}))"
   ]
  },
  {
   "cell_type": "code",
   "execution_count": 55,
   "metadata": {},
   "outputs": [
    {
     "name": "stdout",
     "output_type": "stream",
     "text": [
      "INPUT: tamaño 4x4(correspondiente a la salida de la capa de max_pool)\n",
      "OPERACION: conectar la entrada data_2d con los 5 valores de salida\n",
      "SALIDA: tamaño 5\n",
      "[-1.2846904  -0.24092372 -0.6650247  -1.9412917   0.12668753]\n"
     ]
    }
   ],
   "source": [
    "# capa fully_conected (conecta toda la informacion anterior y devuleve la salida)\n",
    "print(\"INPUT: tamaño 4x4(correspondiente a la salida de la capa de max_pool)\")\n",
    "print(\"OPERACION: conectar la entrada data_2d con los 5 valores de salida\")\n",
    "print(\"SALIDA: tamaño 5\")\n",
    "print(session.run(my_full_output, feed_dict={x_data: data_1d}))"
   ]
  },
  {
   "cell_type": "code",
   "execution_count": null,
   "metadata": {},
   "outputs": [],
   "source": []
  }
 ],
 "metadata": {
  "kernelspec": {
   "display_name": "Python 3",
   "language": "python",
   "name": "python3"
  },
  "language_info": {
   "codemirror_mode": {
    "name": "ipython",
    "version": 3
   },
   "file_extension": ".py",
   "mimetype": "text/x-python",
   "name": "python",
   "nbconvert_exporter": "python",
   "pygments_lexer": "ipython3",
   "version": "3.7.1"
  }
 },
 "nbformat": 4,
 "nbformat_minor": 2
}
